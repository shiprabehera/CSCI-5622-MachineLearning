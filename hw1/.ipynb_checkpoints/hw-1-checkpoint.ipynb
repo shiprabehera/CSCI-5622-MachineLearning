{
 "cells": [
  {
   "cell_type": "markdown",
   "metadata": {},
   "source": [
    "# K-Nearest Neighbors\n",
    "***\n",
    "**Name**: Shipra Behera\n",
    "***\n",
    "\n",
    "This assignment is due on Canvas by **5pm on Wednesday September 19th**. Submit only this Jupyter notebook to Canvas.  Do not compress it using tar, rar, zip, etc. Your solutions to analysis questions should be done in Markdown directly below the associated question.  Remember that you are encouraged to discuss the problems with your classmates and instructors, but **you must write all code and solutions on your own**, and list any people or sources consulted.\n"
   ]
  },
  {
   "cell_type": "markdown",
   "metadata": {},
   "source": [
    "## Overview \n",
    "***\n",
    "\n",
    "\n",
    "In this homework you'll implement prototype based k-nn and perceptron (with offset = 0) training algorithms using convergence method covered in the class.\n",
    "\n",
    "Most of this assignment will be done by calling libraries that are already implemented for you. You can use python loops to accomplish most of the implementation, but we would strongly encourage you to use vectorized operations using `numpy` package.\n",
    "\n",
    "Here are the rules: \n",
    "\n",
    "- Do **NOT** load or use any Python packages that are not available in Anaconda 3.6. \n",
    "- Some problems with code may be autograded.  If we provide a function or class API **do not** change it.\n",
    "- Do not change the location of the data or data directory.  Use only relative paths to access the data. "
   ]
  },
  {
   "cell_type": "markdown",
   "metadata": {},
   "source": [
    "### Linear Algebra - 10 points\n",
    "***\n",
    "Given matrix:\n",
    "\n",
    "$$\n",
    "\\begin{equation*}\n",
    "\\mathbf{A} = \\begin{bmatrix}2 & -1 & 0\\\\-1 & 2 & -1\\\\ 0 & -1 & 2\\end{bmatrix}\n",
    "\\end{equation*}\n",
    "$$\n",
    "\n",
    "Answer the following questions:\n",
    "\n",
    "**1.** Are the vectors $\\begin{equation*} \\mathbf{x} = \\begin{bmatrix}2\\\\-1\\\\0\\end{bmatrix}, \\mathbf{y} = \\begin{bmatrix}-1 \\\\ 2 \\\\ -1\\end{bmatrix}, \\mathbf{z} = \\begin{bmatrix}0 \\\\ -1 \\\\2\\end{bmatrix} \\end{equation*}$ linearly independent? Justify your answer"
   ]
  },
  {
   "cell_type": "markdown",
   "metadata": {},
   "source": [
    "**Solution:**\n",
    "Vectors x, y and z would be linearly independent if none of them could be defined as a linear combination of the other two. This can be figured out if the determinant of the matrix formed by taking these vectors as its columns is non-zero. \n",
    "In this case, the matrix formed by these vectors is\n",
    "$\\begin{equation*}\n",
    "\\mathbf{A} = \\begin{bmatrix}2 & -1 & 0\\\\-1 & 2 & -1\\\\ 0 & -1 & 2\\end{bmatrix}\n",
    "\\end{equation*}$\n",
    "\n",
    "We may write the linear combination of the columns as \n",
    "$\\mathbf{A\\lambda} = \\begin{bmatrix}2 & -1 & 0\\\\-1 & 2 & -1\\\\ 0 & -1 & 2\\end{bmatrix} \\begin{bmatrix}\\lambda1\\\\ \\lambda2\\\\ \\lambda3\\end{bmatrix}$\n",
    "\n",
    "We are interested in whether $A\\lambda = 0$ for some nonzero vector $\\begin{equation*}\\lambda\\end{equation*}$. This depends on the determinant of A, which is $\\begin{vmatrix} 2 & -1 & 0\\\\-1 & 2 & -1\\\\ 0 & -1 & 2 \\end{vmatrix}$\n",
    "\n",
    "= 2$\\begin{vmatrix} 2 & -1\\\\ -1 & 2\\end{vmatrix}$ + 1$\\begin{vmatrix} -1 & -1\\\\ 0 & 2\\end{vmatrix}$ + 0 $\\begin{vmatrix} -1 & 2\\\\ 0 & -1\\end{vmatrix}$\n",
    "= 2(4-1) + 1(-2) + 0 = 6 - 2 = **4**.<br/>\n",
    "Since, the **determinant is non-zero**, the vectors are **linearly independent**."
   ]
  },
  {
   "cell_type": "markdown",
   "metadata": {},
   "source": [
    "**2.** Find the eigenvalues and the corresponding eigenvectors of $\\mathbf{A}$"
   ]
  },
  {
   "cell_type": "markdown",
   "metadata": {},
   "source": [
    "**Solution:** Let $v$ be a vector and $\\lambda$ be a scalar that satisfies $Av = \\lambda x$. Such a $v$ is called an eigenvector corresponding to the eigenvalue $\\lambda$ for the matrix $\\mathbf{A}$.<br/>\n",
    "$Av = \\lambda x$<br/>\n",
    "To find the eigenvectors $v$, solve $(A - \\lambda I)v = 0$ for each eigenvalue $\\lambda$.<br/>\n",
    "Eigenvalues of $A$ are the roots of the equation $det(A-\\lambda I) = 0$<br/>\n",
    "$\\begin{vmatrix} 2-\\lambda & -1 & 0\\\\-1 & 2-\\lambda & -1\\\\ 0 & -1 & 2-\\lambda \\end{vmatrix}$<br/>\n",
    " = $2-\\lambda\\begin{vmatrix} 2 & -1\\\\ -1 & 2\\end{vmatrix} + 1\\begin{vmatrix} -1 & -1\\\\ 0 & 2-\\lambda\\end{vmatrix} + 0 \\begin{vmatrix} -1 & 2-\\lambda\\\\ 0 & -1\\end{vmatrix}$<br/>\n",
    " = $2-\\lambda [(2-\\lambda)^2 - 1] + 1 [\\lambda -2] + 0$ <br/>\n",
    " = $2-\\lambda [\\lambda^2 - 4\\lambda + 3] + \\lambda -2$ <br/>\n",
    " = $2\\lambda^2 - 8\\lambda + 6 -\\lambda^3 + 4\\lambda^2 - 3\\lambda + \\lambda - 2$ <br/>\n",
    " = $-\\lambda^3 + 6\\lambda^2 - 10\\lambda + 4$ <br/>\n",
    " = $(-\\lambda-2)(\\lambda^2 - 4\\lambda +2) $ <br/>\n",
    " Solving for $\\lambda$, the roots are <br/>\n",
    " $\\lambda1 = 2$ <br/>\n",
    " $\\lambda2 =2+\\sqrt2$ <br/>\n",
    " $\\lambda3 =2-\\sqrt2$ <br/>\n",
    "which are the **eigenvalues**.\n",
    "\n",
    "Eigenvector for $\\lambda = 2$:<br/>\n",
    "Solving $(A-\\lambda I)v=0$ <br/>\n",
    "$\\begin{bmatrix} 2-\\lambda & -1 & 0\\\\-1 & 2-\\lambda & -1\\\\ 0 & -1 & 2-\\lambda \\end{bmatrix}$ $\\begin{bmatrix}x\\\\y\\\\z\\end{bmatrix}$ = $\\begin{bmatrix}0\\\\0\\\\0\\end{bmatrix}$ <br/>\n",
    "$\\begin{bmatrix} 0 & -1 & 0\\\\-1 & 0 & -1\\\\ 0 & -1 & 0 \\end{bmatrix}$ $\\begin{bmatrix}x\\\\y\\\\z\\end{bmatrix}$ = $\\begin{bmatrix}0\\\\0\\\\0\\end{bmatrix}$ <br/>\n",
    "which reduces to the following equations:<br/>\n",
    "$y = 0$<br/>\n",
    "$x + z = 0, x = -z$<br/>\n",
    "$v = \\begin{bmatrix}-z\\\\0\\\\z\\end{bmatrix}$ <br/>\n",
    " = $z\\begin{bmatrix}-1\\\\0\\\\1\\end{bmatrix}$ <br/>\n",
    " Let $z = 1$, <br/>\n",
    " For **eigenvalue $2$, eigenvector $v = \\begin{bmatrix}-1\\\\0\\\\1\\end{bmatrix}$**\n",
    " \n",
    "Similarly, for **eigenvalue $2+\\sqrt2$, eigenvector =  $v = \\begin{bmatrix}1\\\\-\\sqrt2\\\\1\\end{bmatrix}$** <br/>\n",
    "and for **eigenvalue $2-\\sqrt2$, eigenvector =  $v = \\begin{bmatrix}1\\\\\\sqrt2\\\\1\\end{bmatrix}$** <br/>"
   ]
  },
  {
   "cell_type": "markdown",
   "metadata": {},
   "source": [
    "**3.** Let $M$ be any matrix with real entries. $M$ is *positive semidefinite* if, for any vector $x$ with real components, the dot product of $Mx$ and $x$ is nonnegative, $\\langle Mx, x \\rangle \\geq 0$\n",
    "\n",
    "Let $B = \\begin{bmatrix}1 & 2\\\\-2 & 1\\end{bmatrix}$. Show that $B$ is positive semidefinite.(i.e., show that $\\langle Bx, x \\rangle \\geq 0$)"
   ]
  },
  {
   "cell_type": "markdown",
   "metadata": {},
   "source": [
    "**Solution:** Let $x = \\begin{bmatrix}x_1\\\\x_2\\end{bmatrix}$ <br/>\n",
    "$Bx = \\begin{bmatrix}1 & 2\\\\-2 & 1\\end{bmatrix}\\begin{bmatrix}x_1\\\\x_2\\end{bmatrix}$ <br/> \n",
    "= $\\begin{bmatrix}x_1 + 2x_2\\\\-2x_1 + x_2\\end{bmatrix}$<br/>\n",
    "$x^TBx = \\begin{bmatrix}x_1 & x_2\\end{bmatrix}\\begin{bmatrix}x_1 + 2x_2\\\\-2x_1 + x_2\\end{bmatrix}$ <br/>\n",
    "= $x_1^2 + 2x_1x_2 - 2x_1x_2 + x_2^2$ <br/>\n",
    "= $x_1^2 + x_2^2$, which is always $\\geq0$<br/>\n",
    "Hence, B is positive semidefinite."
   ]
  },
  {
   "cell_type": "markdown",
   "metadata": {},
   "source": [
    "**4.** A *symmetric* matrix $H$ is positive semidefinite if and only if the eigenvalues of $H$ are all non-negative. Is matrix $A$ positive semidefinite? Why?"
   ]
  },
  {
   "cell_type": "markdown",
   "metadata": {},
   "source": [
    "**Solution:** Yes, matrix A is positive semidefinite because all its eigenvalues  $2$,$2+\\sqrt2$,$2-\\sqrt2$ are positive."
   ]
  },
  {
   "cell_type": "markdown",
   "metadata": {},
   "source": [
    "### Prototype Based K-NN - 10 points\n",
    "***\n",
    "\n",
    "In this problem you'll implement a prototype based K-Nearest Neighbor framework to take an image of a handwritten digit and predict which digit it corresponds to.\n",
    "\n",
    "<br>\n",
    "\n",
    "![Samples of Handwritten Digits](wide_mnist.png \"MNIST Digits\")\n",
    "\n",
    "\n",
    "<br>"
   ]
  },
  {
   "cell_type": "code",
   "execution_count": 1,
   "metadata": {
    "ExecuteTime": {
     "end_time": "2018-08-31T21:21:54.811264Z",
     "start_time": "2018-08-31T21:21:54.431647Z"
    }
   },
   "outputs": [],
   "source": [
    "import numpy as np\n",
    "import matplotlib.pylab as plt\n",
    "%matplotlib inline"
   ]
  },
  {
   "cell_type": "markdown",
   "metadata": {},
   "source": [
    "The class below will load and store the MNIST data.  Load the data and then report: \n",
    "- The number of examples in the training set \n",
    "- The number of examples in the test set \n",
    "- The number of pixels in each image. \n",
    "- Plot the number of data points per class\n",
    "   "
   ]
  },
  {
   "cell_type": "code",
   "execution_count": 85,
   "metadata": {
    "ExecuteTime": {
     "end_time": "2018-08-31T22:52:03.734460Z",
     "start_time": "2018-08-31T22:52:03.725537Z"
    }
   },
   "outputs": [],
   "source": [
    "class Numbers:\n",
    "    \"\"\"\n",
    "    Class to store MNIST data\n",
    "    \"\"\"\n",
    "    def __init__(self, location):\n",
    "\n",
    "        import pickle, gzip, collections\n",
    "\n",
    "        # load data from file \n",
    "        f = gzip.open(location, 'rb')\n",
    "        train_set, valid_set, test_set = pickle.load(f)\n",
    "        f.close()\n",
    "\n",
    "        # store for use later  \n",
    "        self.train_x, self.train_y = train_set\n",
    "        self.test_x, self.test_y = valid_set\n",
    "              \n",
    "        # report data\n",
    "        print (\"Number of examples in the training set:\", len(self.train_y))\n",
    "        print (\"Number of examples in the test set:\", len(self.test_y))\n",
    "        print (\"Number of pixels in each image:\", len(self.train_x[0]))\n",
    "        freq = collections.Counter(self.train_y)\n",
    "        \n",
    "        # plot the number of data points per class\n",
    "        from matplotlib import pyplot as plt\n",
    "        for label in freq.keys():\n",
    "            plt.bar(label, freq[label])\n",
    "        \n",
    "        plt.xlabel('Class')\n",
    "        plt.ylabel('No. of data points')\n",
    "        plt.show()\n",
    "  "
   ]
  },
  {
   "cell_type": "code",
   "execution_count": 86,
   "metadata": {
    "ExecuteTime": {
     "end_time": "2018-08-31T22:52:05.787320Z",
     "start_time": "2018-08-31T22:52:05.090173Z"
    }
   },
   "outputs": [
    {
     "name": "stdout",
     "output_type": "stream",
     "text": [
      "Number of examples in the training set: 50000\n",
      "Number of examples in the test set: 10000\n",
      "Number of pixels in each image: 784\n"
     ]
    },
    {
     "data": {
      "image/png": "[encoded data removed]",
      "text/plain": [
       "<Figure size 432x288 with 1 Axes>"
      ]
     },
     "metadata": {},
     "output_type": "display_data"
    }
   ],
   "source": [
    "DATA_PATH = \"data/mnist.pklz\"\n",
    "data = Numbers(DATA_PATH)"
   ]
  },
  {
   "cell_type": "markdown",
   "metadata": {},
   "source": [
    "The class below will perform K-Nearest Neighbor classification on our handwritten digit data. Your tasks are as follows:\n",
    "\n",
    "1. Modify `select_prototypes` method to select `p` random prototypes from training data which will be used for finding `k` nearest neighbors instead of all the training data points.\n",
    "1. Modify the `label_counts` function to return a dictionary of frequencies corresponding to each label in the training set.\n",
    "1. Modify the `majority` function so that it returns the _label_ that appears most frequently in the $K$-nearest neighbors of the query point.  In the case that the maximum frequency occurs for two or more labels, return the one that appears most frequently in the entire training set. In the case that there is still a tie, break the tie in any way that you choose.\n",
    "1. Modify the `confusion_matrix` function to classify examples and record the results in a confusion matrix. You should construct the confusion matrix on your own. Don't call any additional functions from sklearn to do it for you.\n",
    "1. Modify the `classify` function so that it finds the indices of the $K$ closest training examples to the query point and then calls the `majority` function to return the predicted label. Almost all of the heavy lifting here will be done by the `BallTree` object from sklearn.neighbors, so you'll want to start out by reading the [documentation](http://scikit-learn.org/stable/modules/generated/sklearn.neighbors.BallTree.html#sklearn.neighbors.BallTree.query)\n",
    "\n",
    "The class Knearest also implements an accuracy function which you will use in subsequent problems. You should not have to modify this function."
   ]
  },
  {
   "cell_type": "code",
   "execution_count": 96,
   "metadata": {},
   "outputs": [],
   "source": [
    "import collections\n",
    "class Knearest:\n",
    "    \"\"\"\n",
    "    kNN classifier\n",
    "    \"\"\"\n",
    "\n",
    "    def __init__(self, X, y, k=5, p=10):\n",
    "        \"\"\"\n",
    "        Creates a kNN instance\n",
    "\n",
    "        :param x: Training data input\n",
    "        :param y: Training data output\n",
    "        :param k: The number of nearest points to consider in classification\n",
    "        :param p: The number of prototypes to choose\n",
    "        \"\"\"\n",
    "        \n",
    "        from sklearn.neighbors import BallTree\n",
    "        \n",
    "        self._p = p\n",
    "        self._x, self._y = self.select_prototype(X, y)\n",
    "        self._k = k\n",
    "        self._counts = self.label_counts(y)\n",
    "        self._kdtree = BallTree(self._x)\n",
    "            \n",
    "    def label_counts(self, y):\n",
    "        \"\"\"\n",
    "        Given the training prototypes, return a dictionary d where d[y] is  \n",
    "        the number of times that label y appears in the training prototypes.\n",
    "        \n",
    "        :param y: Training labels input\n",
    "        \"\"\"  \n",
    "        \n",
    "        return collections.Counter(y)\n",
    "        #return dict({1:7, -1:5})\n",
    "\n",
    "\n",
    "    def majority(self, neighbor_indices):\n",
    "        \"\"\"\n",
    "        Given the indices of training protypes, return the majority label. Break ties \n",
    "        by choosing the tied label that appears most often in the training prototypes. \n",
    "\n",
    "        :param neighbor_indices: The indices of the k nearest neighbors\n",
    "        \"\"\"\n",
    "        assert len(neighbor_indices) == self._k, \"Did not get k neighbor indices\"\n",
    "        \n",
    "        #Get labels of neighbor indices\n",
    "        y_neighbors = self._y[neighbor_indices]\n",
    "        \n",
    "        #Get count of each label of neighbors\n",
    "        label_counters = collections.Counter(y_neighbors)\n",
    "        \n",
    "        #assign first label as majority label\n",
    "        majority_label = y_neighbors[0]\n",
    "        \n",
    "        for label in label_counters.keys():\n",
    "            if (label_counters[label] > label_counters[majority_label]):\n",
    "                majority_label = label\n",
    "            elif label_counters[label] == label_counters[majority_label]:\n",
    "                #in case there is still a tie, just choose label as the majority_label\n",
    "                if self._counts[label] >= self._counts[majority_label]:\n",
    "                    majority_label = label\n",
    "\n",
    "        return majority_label    \n",
    "  \n",
    "    def classify(self, example):\n",
    "        \"\"\"\n",
    "        Given an example, return the predicted label.\n",
    "\n",
    "        :param example: A representation of an example in the same\n",
    "        format as a row of the training data\n",
    "        \"\"\"\n",
    "        #Reshape data either using array.reshape(-1, 1) if your data has a single feature or array.reshape(1, -1) if it contains a single sample.\n",
    "        dist, ind = self._kdtree.query(example.reshape(1, -1), self._k)\n",
    "        return self.majority(ind[0])\n",
    "        #return self.majority([np.random.randint(0,10) for ii in range(self._k)])\n",
    "        \n",
    "        \n",
    "    def select_prototype(self, X, y):\n",
    "        \"\"\"\n",
    "        Given the train data, select p random prototypes from data for classification\n",
    "        calculation.\n",
    "        \n",
    "        :param x: Training data input\n",
    "        :param y: Training data output\n",
    "        \"\"\"\n",
    "        import random\n",
    "        idx = random.sample(range(0, len(X)), self._p)\n",
    "        x_prototype = X[idx]\n",
    "        y_prototype = y[idx]\n",
    "        \n",
    "        return (x_prototype, y_prototype)\n",
    "    \n",
    "    def confusion_matrix(self, test_x, test_y):\n",
    "        \"\"\"\n",
    "        Given a matrix of test examples and labels, compute the confusion\n",
    "        matrix for the current classifier.  Should return a 2-dimensional\n",
    "        numpy array of ints, C, where C[ii,jj] is the number of times an \n",
    "        example with true label ii was labeled as jj.\n",
    "\n",
    "        :param test_x: test data \n",
    "        :param test_y: true test labels \n",
    "        \"\"\"\n",
    "        C = np.zeros((10, 10), dtype=int)\n",
    "        for x, y in zip(test_x, test_y):\n",
    "            pred = self.classify(x)\n",
    "            C[y][pred] += 1\n",
    "        return C \n",
    "            \n",
    "    @staticmethod\n",
    "    def accuracy(C):\n",
    "        \"\"\"\n",
    "        Given a confusion matrix C, compute the accuracy of the underlying classifier.\n",
    "        \n",
    "        :param C: a confusion matrix \n",
    "        \"\"\"\n",
    "        \n",
    "        return np.sum(C.diagonal()) / C.sum()"
   ]
  },
  {
   "cell_type": "code",
   "execution_count": 97,
   "metadata": {
    "ExecuteTime": {
     "end_time": "2018-09-04T06:37:10.241613Z",
     "start_time": "2018-09-04T06:37:10.198952Z"
    },
    "scrolled": true
   },
   "outputs": [
    {
     "name": "stderr",
     "output_type": "stream",
     "text": [
      "....\n",
      "----------------------------------------------------------------------\n",
      "Ran 4 tests in 0.019s\n",
      "\n",
      "OK\n"
     ]
    },
    {
     "data": {
      "text/plain": [
       "<unittest.runner.TextTestResult run=4 errors=0 failures=0>"
      ]
     },
     "execution_count": 97,
     "metadata": {},
     "output_type": "execute_result"
    }
   ],
   "source": [
    "import unittest\n",
    "import numpy as np\n",
    "class TestKnn(unittest.TestCase):\n",
    "    def setUp(self):\n",
    "        self.x = np.array([[2, 0], [4, 1], [6, 0], [1, 4], [2, 4], [2, 5], [4, 4], [0, 2], [3, 2], [4, 2], [5, 2], [5, 5]])\n",
    "        self.y = np.array([+1, +1, +1, +1, +1, +1, +1, -1, -1, -1, -1, -1])\n",
    "        self.knn = {}\n",
    "        for ii in [1, 2, 3]:\n",
    "            self.knn[ii] = Knearest(self.x, self.y, ii, len(self.x))\n",
    "\n",
    "        self.queries = np.array([[1, 5], [0, 3], [6, 4]])\n",
    "        \n",
    "    def test0(self):\n",
    "        \"\"\"\n",
    "        Test the label counter \n",
    "        \"\"\"\n",
    "        self.assertEqual(self.knn[1]._counts[-1], 5)\n",
    "        self.assertEqual(self.knn[1]._counts[1], 7)\n",
    "\n",
    "    def test1(self):\n",
    "        \"\"\"\n",
    "        Test 1NN\n",
    "        \"\"\"\n",
    "        self.assertEqual(self.knn[1].classify(self.queries[0]),  1)\n",
    "        self.assertEqual(self.knn[1].classify(self.queries[1]), -1)\n",
    "        self.assertEqual(self.knn[1].classify(self.queries[2]), -1)\n",
    "\n",
    "    def test2(self):\n",
    "        \"\"\"\n",
    "        Test 2NN\n",
    "        \"\"\"\n",
    "        self.assertEqual(self.knn[2].classify(self.queries[0]),  1)\n",
    "        self.assertEqual(self.knn[2].classify(self.queries[1]),  1)\n",
    "        self.assertEqual(self.knn[2].classify(self.queries[2]),  1)\n",
    "\n",
    "    def test3(self):\n",
    "        \"\"\"\n",
    "        Test 3NN\n",
    "        \"\"\"\n",
    "        self.assertEqual(self.knn[3].classify(self.queries[0]),  1)\n",
    "        self.assertEqual(self.knn[3].classify(self.queries[1]),  1)\n",
    "        self.assertEqual(self.knn[3].classify(self.queries[2]), -1)\n",
    "        \n",
    "tests = TestKnn()\n",
    "tests_to_run = unittest.TestLoader().loadTestsFromModule(tests)\n",
    "unittest.TextTestRunner().run(tests_to_run)"
   ]
  },
  {
   "cell_type": "markdown",
   "metadata": {},
   "source": [
    "Now, you'll explore the performance of the classifier you've written.\n",
    "\n",
    "**Part A:** Explore the relationship between the number of training examples and accuracy on the test set. Comment on your findings and support your observations with some kind of plot."
   ]
  },
  {
   "cell_type": "markdown",
   "metadata": {},
   "source": [
    "**Solution:** The plot shows that with the increase in training examples, accuracy on the test set is almost constant. This is because the classifier is trained on a constant number of prototypes i.e 1500. Since p is fixed, the classifiers would be very similar. Although the tie-breaking decision would vary across all the classifiers since it would depend on the local counts over all input training examples, from the plot it looks like this factor has a very minor effect on the accuracy."
   ]
  },
  {
   "cell_type": "code",
   "execution_count": 29,
   "metadata": {},
   "outputs": [
    {
     "data": {
      "image/png": "[encoded data removed]",
      "text/plain": [
       "<Figure size 432x288 with 1 Axes>"
      ]
     },
     "metadata": {},
     "output_type": "display_data"
    }
   ],
   "source": [
    "from matplotlib import pyplot as plt\n",
    "train_example_size = [x for x in range(5000,50000, 10000)]\n",
    "accuracy = []\n",
    "test_x = data.test_x\n",
    "test_y = data.test_y\n",
    "plt.ylim((0.8, 1)) \n",
    "for indices in train_example_size:\n",
    "    train_x = data.train_x[:indices]\n",
    "    train_y = data.train_y[:indices]\n",
    "    knn = Knearest(train_x, train_y, 3, 1500)\n",
    "    C = knn.confusion_matrix(test_x, test_y)\n",
    "    accuracy.append(knn.accuracy(C))\n",
    "    plt.plot(indices, knn.accuracy(C), 'bo')\n",
    "\n",
    "plt.xlabel('Number of training examples')\n",
    "plt.ylabel('Accuracy')\n",
    "plt.show()"
   ]
  },
  {
   "cell_type": "markdown",
   "metadata": {},
   "source": [
    "**Part B**: Explore the relationship between the number of nearest neighbors and accuracy on the test set. Comment on your findings and support your observations with some kind of plot."
   ]
  },
  {
   "cell_type": "markdown",
   "metadata": {},
   "source": [
    "**Solution:** The plot shows that with the increase in K, accuracy on the test set decreases. As the number of nearest neighbors increases, it causes irregularities in predicting the digit. The highest accuracy is reported for K=1. Since the number of data points is very large, there is a very high chance that the nearest neighbor has the same label. The tie-breaking decision is based on the frequency of a label in the training data, and this could be a possible cause. "
   ]
  },
  {
   "cell_type": "code",
   "execution_count": 30,
   "metadata": {},
   "outputs": [
    {
     "data": {
      "image/png": "[encoded data removed]",
      "text/plain": [
       "<Figure size 432x288 with 1 Axes>"
      ]
     },
     "metadata": {},
     "output_type": "display_data"
    }
   ],
   "source": [
    "k_range = [x for x in range(1,20)]\n",
    "accuracy = []\n",
    "plt.ylim((0.8, 1)) \n",
    "for k in k_range:\n",
    "    knn = Knearest(data.train_x, data.train_y, k, 1000)\n",
    "    C = knn.confusion_matrix(data.test_x, data.test_y)\n",
    "    accuracy.append(knn.accuracy(C))\n",
    "    plt.plot(k, knn.accuracy(C), 'ro')\n",
    "    \n",
    "plt.xlabel('Values of K')\n",
    "plt.ylabel('Accuracy')\n",
    "plt.show()    "
   ]
  },
  {
   "cell_type": "markdown",
   "metadata": {},
   "source": [
    "**Part C**: Which numbers get confused with each other the most easily?  Use the confusion_matrix function that you wrote above to support your conclusion.  Then use the `view_digit` function given below to plot a few examples of misclassified digits and discuss possible reasons for the misclassifications.  (Investigating misclassified examples is called **error analysis** and is an important step in the development of any classification technique).  "
   ]
  },
  {
   "cell_type": "markdown",
   "metadata": {},
   "source": [
    "**Solution:** As we can see from the below matrix, 4 is the most misclassified digit, followed by 5 and 2. At the indices 4 and 9 i.e C[4][9], 86 test samples which are actually 4 have been misclassified as 9.\n",
    "From the images below, it looks like the shape of few handwritten digits confuses the knn model. 4 strongly resembles a 9 due to its shape, similarly 5 resembles a 3 and so on. The tiebreaking strategy in the majority function could also play a role in this misclassification. The knn considers all 784 pixels for each image when making its decisions. It is possible that a lot of those features don’t really affect the predictions that much. Or worse, knn could be considering feature anomalies that are unique to the training data."
   ]
  },
  {
   "cell_type": "code",
   "execution_count": 234,
   "metadata": {},
   "outputs": [
    {
     "name": "stdout",
     "output_type": "stream",
     "text": [
      "True\\Pred \t0\t1\t2\t3\t4\t5\t6\t7\t8\t9\n",
      "0\t\t968\t1\t1\t1\t0\t3\t5\t7\t4\t1\t\n",
      "1\t\t0\t1057\t2\t0\t1\t1\t0\t2\t0\t1\t\n",
      "2\t\t9\t40\t877\t10\t3\t3\t2\t31\t7\t8\t\n",
      "3\t\t2\t17\t6\t950\t0\t22\t1\t8\t18\t6\t\n",
      "4\t\t1\t27\t0\t1\t849\t2\t3\t14\t0\t86\t\n",
      "5\t\t4\t9\t2\t57\t2\t782\t30\t1\t7\t21\t\n",
      "6\t\t8\t5\t0\t0\t0\t3\t950\t0\t1\t0\t\n",
      "7\t\t0\t31\t2\t1\t4\t1\t0\t1023\t0\t28\t\n",
      "8\t\t8\t39\t11\t43\t2\t18\t17\t15\t827\t29\t\n",
      "9\t\t5\t7\t0\t14\t23\t1\t0\t39\t1\t871\t\n"
     ]
    }
   ],
   "source": [
    "knn = Knearest(data.train_x, data.train_y, 3, 2000)\n",
    "C = knn.confusion_matrix(data.test_x, data.test_y)\n",
    "print('True\\Pred \\t0\\t1\\t2\\t3\\t4\\t5\\t6\\t7\\t8\\t9')\n",
    "for i in range(10):\n",
    "    print(i, end='\\t\\t')\n",
    "    for j in range(10):\n",
    "        print (C[i][j], end='\\t')\n",
    "    print()\n",
    "#print(C)"
   ]
  },
  {
   "cell_type": "code",
   "execution_count": 449,
   "metadata": {
    "ExecuteTime": {
     "end_time": "2018-08-31T22:52:11.759526Z",
     "start_time": "2018-08-31T22:52:11.611171Z"
    },
    "scrolled": true
   },
   "outputs": [
    {
     "name": "stdout",
     "output_type": "stream",
     "text": [
      "true label: 5\n",
      "predicted label: 3\n"
     ]
    },
    {
     "data": {
      "image/png": "[encoded data removed]",
      "text/plain": [
       "<Figure size 432x288 with 1 Axes>"
      ]
     },
     "metadata": {},
     "output_type": "display_data"
    }
   ],
   "source": [
    "def view_digit(example, label=None):\n",
    "    if label: print(\"true label: {:d}\".format(label))\n",
    "    plt.imshow(example.reshape(28,28), cmap='gray');\n",
    "           \n",
    "feature = []\n",
    "true_label = []\n",
    "pred_label = []\n",
    "pairs = np.zeros((10,10), dtype=int)\n",
    "for xx, true_digit in zip(data.test_x, data.test_y):\n",
    "    pred_digit = knn.classify(xx)\n",
    "    if pred_digit != true_digit and C[true_digit][pred_digit] >=50 and pairs[true_digit][pred_digit] != 1:\n",
    "        feature.append(xx)\n",
    "        true_label.append(true_digit)\n",
    "        pred_label.append(pred_digit)\n",
    "        #mark 1 if this misclassified pair is already seen\n",
    "        pairs[true_digit][pred_digit] =1\n",
    "\n",
    "view_digit(feature[0], true_label[0])\n",
    "print (\"predicted label:\",pred_label[0])"
   ]
  },
  {
   "cell_type": "code",
   "execution_count": 450,
   "metadata": {},
   "outputs": [
    {
     "name": "stdout",
     "output_type": "stream",
     "text": [
      "true label: 2\n",
      "predicted label: 1\n"
     ]
    },
    {
     "data": {
      "image/png": "[encoded data removed]",
      "text/plain": [
       "<Figure size 432x288 with 1 Axes>"
      ]
     },
     "metadata": {},
     "output_type": "display_data"
    }
   ],
   "source": [
    "view_digit(feature[1], true_label[1])\n",
    "print (\"predicted label:\",pred_label[1])"
   ]
  },
  {
   "cell_type": "code",
   "execution_count": 451,
   "metadata": {},
   "outputs": [
    {
     "name": "stdout",
     "output_type": "stream",
     "text": [
      "true label: 4\n",
      "predicted label: 9\n"
     ]
    },
    {
     "data": {
      "image/png": "[encoded data removed]",
      "text/plain": [
       "<Figure size 432x288 with 1 Axes>"
      ]
     },
     "metadata": {},
     "output_type": "display_data"
    }
   ],
   "source": [
    "view_digit(feature[2], true_label[2])\n",
    "print (\"predicted label:\",pred_label[2])"
   ]
  },
  {
   "cell_type": "markdown",
   "metadata": {},
   "source": [
    "**Part D**: Now using the entire training dataset and best value of `k` found from previous analysis, plot test accuracy vs number of prototypes for reasonable values of p (more than 1000). What are the trade-offs you are making when using prototypes instead of all the training examples?"
   ]
  },
  {
   "cell_type": "markdown",
   "metadata": {},
   "source": [
    "**Solution:** When taking prototypes, it is possible that not all classes are represented and the dataset is inbalanced. Hence, more the number of training samples, more is the likelihood that all classes would be represented uniformly. "
   ]
  },
  {
   "cell_type": "code",
   "execution_count": 338,
   "metadata": {},
   "outputs": [
    {
     "data": {
      "image/png": "[encoded data removed]",
      "text/plain": [
       "<Figure size 432x288 with 1 Axes>"
      ]
     },
     "metadata": {},
     "output_type": "display_data"
    }
   ],
   "source": [
    "from matplotlib import pyplot as plt\n",
    "prototype_size = [x for x in range(2000,10000, 1000)]\n",
    "accuracy = []\n",
    "test_x = data.test_x\n",
    "test_y = data.test_y\n",
    "start_ind = 0\n",
    "for indices in prototype_size:\n",
    "    train_x = data.train_x[:]\n",
    "    train_y = data.train_y[:]\n",
    "    knn = Knearest(train_x, train_y, 1, indices)\n",
    "    C = knn.confusion_matrix(test_x, test_y)\n",
    "    accuracy.append(knn.accuracy(C))\n",
    "    plt.plot(indices, knn.accuracy(C), 'bo')\n",
    "    start_ind = start_ind + 5000\n",
    "\n",
    "\n",
    "plt.xlabel('Number of training examples')\n",
    "plt.ylabel('Accuracy')\n",
    "plt.show()"
   ]
  },
  {
   "cell_type": "markdown",
   "metadata": {},
   "source": [
    "### Perceptron - 10 points\n",
    "***\n",
    "Consider the IRIS dataset discussed in lecture. We have created a binary classification problem to determine whether a given flower is a setosa or not. To create this, we pre-processed the labels to create a label vector where setosa’s label is unchanged (i.e. its label is 1), but both versicolor and virginica are now labeled as -1. The data contains two out of the four attributes, petal width and petal length. This training data and the modified labels can be loaded using `IrisM` class. We are going to use this dataset for training a Perceptron classifier in subsequent problems. \n",
    "<br>\n",
    "\n",
    "![Samples of Iris Flowers](wide_iris.png \"Iris Dataset\")\n",
    "\n",
    "\n",
    "<br>"
   ]
  },
  {
   "cell_type": "code",
   "execution_count": 98,
   "metadata": {
    "ExecuteTime": {
     "end_time": "2018-08-31T22:13:40.515103Z",
     "start_time": "2018-08-31T22:13:40.505050Z"
    }
   },
   "outputs": [],
   "source": [
    "class IrisM:\n",
    "    \"\"\"\n",
    "    Class to store modified iris data for Perceptron Training\n",
    "    \"\"\"\n",
    "    \n",
    "    def __init__(self):\n",
    "        from sklearn import datasets\n",
    "        \n",
    "        iris = datasets.load_iris()\n",
    "        \n",
    "        # only taking first two features\n",
    "        X = iris.data[:, :2]\n",
    "        y = iris.target[:]\n",
    "        # only considering whether it is setosa or not\n",
    "        y[iris.target != 0] = -1\n",
    "        y[iris.target == 0] = 1\n",
    "        \n",
    "        mask = np.random.choice(a = [False, True], size = 150, p = (0.66, 1 - 0.66))\n",
    "        \n",
    "        self.train_x, self.train_y = X[mask], y[mask]\n",
    "        self.test_x, self.test_y = X[~mask], y[~mask]\n",
    "        \n",
    "        "
   ]
  },
  {
   "cell_type": "code",
   "execution_count": 99,
   "metadata": {},
   "outputs": [],
   "source": [
    "iris = IrisM()"
   ]
  },
  {
   "cell_type": "markdown",
   "metadata": {},
   "source": [
    "The class below implements Perceptron classifier in Python on modified IRIS data. The `Peceptron` class implements a Perceptron classifier on a training set of n examples, each of which is  d dimensional vector. The labels for the examples are -1 or 1. This is a simple preceptron classifier seen in class where the linear separator passes through the origin i.e has offset parameter = 0. Your tasks are as following:\n",
    "1. Implement `train` function which trains a Perceptron classifier on a training set. The function should return $\\theta$, the final classification vector and the number of updates performed\n",
    "1. Implement `predict` function which takes an example as input and returns the predicted label\n",
    "1. Implement `margin` function which returns geometric margin of the classifier"
   ]
  },
  {
   "cell_type": "code",
   "execution_count": 163,
   "metadata": {},
   "outputs": [],
   "source": [
    "class Perceptron:\n",
    "    \"\"\"\n",
    "    Perceptron Classifier\n",
    "    \"\"\"\n",
    "    \n",
    "    def __init__(self, X, y):\n",
    "        \"\"\"\n",
    "        Creates a kNN instance\n",
    "\n",
    "        :param X: Training data input\n",
    "        :param y: Training data output\n",
    "        \"\"\"\n",
    "        self._X = X\n",
    "        self._y = y\n",
    "        self._theta, self._iter = self.train(X, y)\n",
    "        \n",
    "   \n",
    "    def train(self, X, y):\n",
    "        \"\"\"\n",
    "        Train perceptron and return final classification vector and\n",
    "        the number of updates performed respectively\n",
    "        \n",
    "        :param X: Training data input\n",
    "        :param y: Training data output\n",
    "        \"\"\"\n",
    "        weights = np.zeros((len(X[0])))\n",
    "        bias = 0\n",
    "        updates = 0    \n",
    "        for i in range(100):\n",
    "            for x, label in zip(X,y):\n",
    "                activation = np.dot(x, weights) + bias\n",
    "                if (activation*label <= 0):\n",
    "                    weights = weights + (x*label)\n",
    "                    bias = bias +label\n",
    "                    updates = updates + 1\n",
    "        self._bias = bias\n",
    "        return weights, updates\n",
    "    def predict(self, X):\n",
    "        \"\"\"\n",
    "        Predicts the label for input\n",
    "        \n",
    "        :param X: Testing data input\n",
    "        \"\"\"\n",
    "        activation = np.dot(X, self._theta) + self._bias\n",
    "        if (activation > 0):\n",
    "            return 1\n",
    "        else:\n",
    "            return -1\n",
    "    def margin(self):\n",
    "        \"\"\"\n",
    "        Returns geometric margin of the classifier\n",
    "        \"\"\"\n",
    "        margin = []\n",
    "        for x in new_train_x:\n",
    "            margin.append(np.abs(np.dot(p._theta,x)/np.sqrt(p._theta.dot(p._theta))))\n",
    "        return np.amin(np.asarray(margin))\n",
    "        \n",
    "    "
   ]
  },
  {
   "cell_type": "code",
   "execution_count": 164,
   "metadata": {
    "ExecuteTime": {
     "end_time": "2018-08-31T22:15:02.247890Z",
     "start_time": "2018-08-31T22:15:02.242423Z"
    }
   },
   "outputs": [
    {
     "name": "stderr",
     "output_type": "stream",
     "text": [
      ".\n",
      "----------------------------------------------------------------------\n",
      "Ran 1 test in 0.004s\n",
      "\n",
      "OK\n"
     ]
    },
    {
     "data": {
      "text/plain": [
       "<unittest.runner.TextTestResult run=1 errors=0 failures=0>"
      ]
     },
     "execution_count": 164,
     "metadata": {},
     "output_type": "execute_result"
    }
   ],
   "source": [
    "import unittest\n",
    "\n",
    "class TestPerceptron(unittest.TestCase):\n",
    "    def setUp(self):\n",
    "        self.x = np.array([[1, 2], [4, 5], [2, 1], [5, 4]])\n",
    "        self.y = np.array([+1, +1, -1, -1])\n",
    "        self.perceptron = Perceptron(self.x, self.y)\n",
    "        self.queries = np.array([[1, 5], [0, 3], [6, 4], [2, 2]])\n",
    "\n",
    "    def test0(self):\n",
    "        \"\"\"\n",
    "        Test Perceptron\n",
    "        \"\"\"\n",
    "        self.assertEqual(self.perceptron.predict(self.queries[0]),  1)\n",
    "        self.assertEqual(self.perceptron.predict(self.queries[1]),  1)\n",
    "        self.assertEqual(self.perceptron.predict(self.queries[2]), -1)\n",
    "        self.assertEqual(self.perceptron.predict(self.queries[3]), -1)\n",
    "        \n",
    "tests = TestPerceptron()\n",
    "tests_to_run = unittest.TestLoader().loadTestsFromModule(tests)\n",
    "unittest.TextTestRunner().run(tests_to_run)"
   ]
  },
  {
   "cell_type": "markdown",
   "metadata": {},
   "source": [
    "Now, we are going to using `IrisM` dataset to train a perceptron using `Perceptron` class."
   ]
  },
  {
   "cell_type": "markdown",
   "metadata": {},
   "source": [
    "**Part A:** From class we know that this data is linearly separable but the separator does not pass through the origin. Therefore you will need to follow the technique used in lecture to further pre-process the data to be linearly separable through the origin: for each data point, add an additional feature, set to a constant value (please use the value 1 for consistency). Then, use the `Perceptron` class to train a Perceptron classifier."
   ]
  },
  {
   "cell_type": "code",
   "execution_count": 165,
   "metadata": {},
   "outputs": [],
   "source": [
    "iris = IrisM()\n",
    "#Add additional feature to both training and test sets\n",
    "ones = np.ones((len(iris.train_x),1))\n",
    "new_train_x = np.hstack((iris.train_x,ones))\n",
    "ones = np.ones((len(iris.test_x),1))\n",
    "new_test_x = np.hstack((iris.test_x,ones))\n",
    "\n",
    "p = Perceptron(new_train_x, iris.train_y)"
   ]
  },
  {
   "cell_type": "markdown",
   "metadata": {},
   "source": [
    "**Part B:** What is the angle between Perceptron's classification vector and vector $(1, 0)^T$? Report number of iterations to converge and the accuracy on test set."
   ]
  },
  {
   "cell_type": "code",
   "execution_count": 166,
   "metadata": {},
   "outputs": [
    {
     "name": "stdout",
     "output_type": "stream",
     "text": [
      "Angle between theta and test vector\n",
      "1.8946513605590463\n",
      "No. of iterations to converge:  80\n",
      "Accuracy is 98.96907216494846\n"
     ]
    }
   ],
   "source": [
    "#Angle between theta and vector (1,0,1)\n",
    "import math\n",
    "test_vector = np.asarray([1,0,1])\n",
    "dot_product = np.dot(p._theta, np.transpose(test_vector))\n",
    "theta_maginutude = np.sqrt(p._theta.dot(p._theta))\n",
    "testv_maginutude = np.sqrt(test_vector.dot(test_vector))\n",
    "import math\n",
    "print(\"Angle between theta and test vector\")\n",
    "print(math.acos(dot_product/ (theta_maginutude * testv_maginutude)))\n",
    "\n",
    "print(\"No. of iterations to converge: \", p._iter)\n",
    "accuracy = 0\n",
    "output = []\n",
    "for i in new_test_x:\n",
    "    output.append(p.predict(i))\n",
    "for i in range(len(output)):\n",
    "    if (iris.test_y[i] == output[i]):\n",
    "        accuracy = accuracy + 1\n",
    "#print(\"Total no. of correctly classified labels\", accuracy)\n",
    "#print(\"Total no. of test samples\", len(iris.test_y))\n",
    "print(\"Accuracy is\", accuracy*100/len(output))\n",
    "#print(iris.test_y)\n",
    "#print(output)\n",
    "\n"
   ]
  },
  {
   "cell_type": "markdown",
   "metadata": {},
   "source": [
    "**Part C:** Compute the geometric margins of your classifier with respect to the `IrisM` dataset used. Recall that the distance of a point from $x_t$ from the line $\\theta^T x = 0$ is $\\frac{\\theta^Tx_t}{||\\theta||}$"
   ]
  },
  {
   "cell_type": "code",
   "execution_count": 167,
   "metadata": {},
   "outputs": [
    {
     "name": "stdout",
     "output_type": "stream",
     "text": [
      "0.08155015824311745\n"
     ]
    }
   ],
   "source": [
    "print(p.margin())\n",
    "    "
   ]
  },
  {
   "cell_type": "code",
   "execution_count": null,
   "metadata": {},
   "outputs": [],
   "source": []
  }
 ],
 "metadata": {
  "kernelspec": {
   "display_name": "Python 3",
   "language": "python",
   "name": "python3"
  },
  "language_info": {
   "codemirror_mode": {
    "name": "ipython",
    "version": 3
   },
   "file_extension": ".py",
   "mimetype": "text/x-python",
   "name": "python",
   "nbconvert_exporter": "python",
   "pygments_lexer": "ipython3",
   "version": "3.6.5"
  },
  "varInspector": {
   "cols": {
    "lenName": 16,
    "lenType": 16,
    "lenVar": 40
   },
   "kernels_config": {
    "python": {
     "delete_cmd_postfix": "",
     "delete_cmd_prefix": "del ",
     "library": "var_list.py",
     "varRefreshCmd": "print(var_dic_list())"
    },
    "r": {
     "delete_cmd_postfix": ") ",
     "delete_cmd_prefix": "rm(",
     "library": "var_list.r",
     "varRefreshCmd": "cat(var_dic_list()) "
    }
   },
   "types_to_exclude": [
    "module",
    "function",
    "builtin_function_or_method",
    "instance",
    "_Feature"
   ],
   "window_display": false
  }
 },
 "nbformat": 4,
 "nbformat_minor": 2
}

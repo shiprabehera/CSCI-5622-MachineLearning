{
 "cells": [
  {
   "cell_type": "markdown",
   "metadata": {},
   "source": [
    "# Homework - 4\n",
    "***\n",
    "**Name**: Shipra Behera\n",
    "***\n",
    "\n",
    "This assignment is due on Canvas by **5pm on Friday November 16th**. Submit only this Jupyter notebook to Canvas.  Do not compress it using tar, rar, zip, etc. Your solutions to analysis questions should be done in Markdown directly below the associated question.  Remember that you are encouraged to discuss the problems with your classmates and instructors, but **you must write all code and solutions on your own**, and list any people or sources consulted."
   ]
  },
  {
   "cell_type": "markdown",
   "metadata": {},
   "source": [
    "## Kernels [5 - points]"
   ]
  },
  {
   "cell_type": "markdown",
   "metadata": {},
   "source": [
    "**Q:** We have seen two different definitions of kernels during the course:\n",
    "* Definition 1: $K(x, x^{\\prime})$ is a kernel if it can be written as an inner product $\\phi(x)^T\\phi(x^{\\prime})$ for some feature mapping $x \\rightarrow \\phi(x)$.\n",
    "* Definition 2: $K(x, x^{\\prime})$ is a kernel if for any finite set of training examples $x_1, \\cdots, x_n$, the $n \\times n$ matrix __K__ such that $K_{ij} = K(x_i, x_j)$ is positive semidefinite\n",
    "\n",
    "Show that definition 1 implies definition 2.\n",
    "\n",
    "_Hint:_ you could show this by proving that for real numbers $\\alpha_1, \\cdots, \\alpha_n$ and points $x_1, \\cdots, x_n$,\n",
    "$$ \\sum_{i=1}^n\\sum_{j=1}^n\\alpha_i\\alpha_jK(x_i, x_j) \\geq 0$$\n",
    "if the kernel can be written as $K(x, x^{\\prime}) = \\phi(x)^T\\phi(x^{\\prime})$"
   ]
  },
  {
   "cell_type": "markdown",
   "metadata": {},
   "source": [
    "**Solution:** <br/>\n",
    "$n \\times n$ matrix K such that $K_{ij} = K(x_i, x_j)$ is positive semidefinite if $\\alpha^TK\\alpha >= 0$, where $\\alpha$ is a vector of real numbers $\\alpha_1, \\cdots, \\alpha_n$ <br/>\n",
    "\n",
    "\n",
    "$\\alpha^TK\\alpha = \\sum_{i=1}^n\\sum_{j=1}^n\\alpha_i\\alpha_jK(x_i, x_j)$ <br/>\n",
    "From Definition 1, $K(x, x^{\\prime}) = \\phi(x)^T\\phi(x^{\\prime})$ <br/>\n",
    "$\\implies \\alpha^TK\\alpha$ = $\\sum_{i=1}^n\\sum_{j=1}^n\\alpha_i\\alpha_j\\phi(x_i)^T\\phi(x_j)$ <br/>\n",
    "$\\implies \\alpha^TK\\alpha$ = $\\sum_{i=1}^n\\alpha_i\\phi(x_i)^T \\sum_{j=1}^n\\alpha_j\\phi(x_j)$ <br/>\n",
    "$\\implies \\alpha^TK\\alpha$ =$||\\sum_{i=1}^n\\alpha_i\\phi(x_i)^T||^2$, which is $>= 0$ <br/>\n",
    "Hence, **K** is a positive semidefinite matrix."
   ]
  },
  {
   "cell_type": "markdown",
   "metadata": {},
   "source": [
    "**Q:** One way to construct kernels is to build them from simpler ones. We have already seen three possible \"composition rules\": assuming $K_1(x, x^\\prime)$ and $K_2(x, x^\\prime)$ are kernels, then the following are also kernels:\n",
    "* (scaling) $f(x)K_1(x, x^\\prime)f(x^\\prime), \\ f(x) \\in \\mathbb R$\n",
    "* (sum) $K_1(x, x^\\prime) + K_2(x, x^\\prime)$\n",
    "* (product) $K_1(x, x^\\prime)K_2(x, x^\\prime)$\n",
    "\n",
    "(a) Let $\\phi^{(1)}(x)$ and $\\phi^{(2)}(x)$ be the feature vectors corresponding to kernels $K_1(x, x^\\prime)$ and $K_2(x, x^\\prime)$, respectively. These feature vectors may be of different length. Show that the product $K_1(x, x^\\prime)K_2(x, x^\\prime)$ is a kernel by showing that its feature vectors are given by $\\phi(x)$ whose $(i, j)^{th}$ component (double indexed vector) is $\\phi_i^{(1)}(x)\\phi_j^{(2)}(x)$.\n",
    "\n",
    "(b) Use the composition rules to build a normalized cubic polynomial kernel defined as:\n",
    "$$K(x, x^\\prime) = \\bigg( 1 + \\bigg(\\frac{x}{||x||}\\bigg)^T\\bigg(\\frac{x^\\prime}{||x^\\prime||}\\bigg)\\bigg)^3$$\n",
    "\n",
    "You can assume that you already have a constant kernel $K_0(x, x^\\prime) = 1$ and a linear kernel $K_1(x, x^\\prime) = x^Tx^\\prime$. Identify which rules you are employing at each step."
   ]
  },
  {
   "cell_type": "markdown",
   "metadata": {},
   "source": [
    "**Solution:**<br/>\n",
    "(a) <br/>\n",
    "\n",
    "Let $K(x, x^\\prime)$ = $K_1(x, x^\\prime)K_2(x, x^\\prime)$ <br/>\n",
    "$\\implies K(x, x^\\prime)$ = $(\\phi^{(1)}(x)^T\\phi^{(1)}(x^\\prime))  (\\phi^{(2)}(x)^T\\phi^{(2)}(x^\\prime))$, which will be a scalar value <br/>\n",
    "Let the respective lengths of feature vectors be $l_1$ and $l_2$ , which gives <br/>\n",
    "$K(x, x^\\prime)$ = $\\sum_{i=1}^{l_1}\\phi_i^{(1)}(x)^T\\phi_i^{(1)}(x^\\prime)\\sum_{j=1}^{l_2}\\phi_j^{(2)}(x)^T\\phi_j^{(2)}(x^\\prime)$<br/>\n",
    "$\\implies K(x, x^\\prime)$ = $\\sum_{i=1}^{l_1}\\sum_{j=1}^{l_2}\\phi_i^{(1)}(x)^T\\phi_i^{(1)}(x^\\prime)\\phi_j^{(2)}(x)^T\\phi_j^{(2)}(x^\\prime)$<br/>\n",
    "$\\implies K(x, x^\\prime)$ = $\\sum_{i=1}^{l_1}\\sum_{j=1}^{l_2}\\phi_i^{(1)}(x)^T\\phi_j^{(2)}(x)^T\\phi_i^{(1)}(x^\\prime)\\phi_j^{(2)}(x^\\prime)$<br/>\n",
    "$\\implies K(x, x^\\prime)$= $\\sum_{k=1}^{l_1l_2}\\phi_k(x)^T\\phi_k(x^\\prime)$ <br/>\n",
    "$\\implies K(x, x^\\prime)$ = $\\phi(x)^T\\phi(x^\\prime)$ <br/>\n",
    "Since it is a valid inner product, $K_1(x, x^\\prime)K_2(x, x^\\prime)$ is a valid kernel."
   ]
  },
  {
   "cell_type": "markdown",
   "metadata": {},
   "source": [
    "(b) <br/>\n",
    "Let $f(x) = \\frac{1}{||x||}$ <br/>\n",
    "By using **scaling** property on $K_1(x, x^\\prime)$ we can say that,<br/>\n",
    "$K_2(x, x^\\prime) = f(x)K_1(x, x^\\prime)f(x^\\prime)$ is also a valid kernel.<br/>\n",
    "$K_1(x, x^\\prime) = x^Tx^\\prime$ <br/>\n",
    "$\\implies K_2(x, x^\\prime) = \\frac{1}{||x||} x^T x^\\prime \\frac{1}{||x^\\prime||}$ <br/>\n",
    "By using **sum** property on $K_0(x, x^\\prime)$ and $K_2(x, x^\\prime)$, we get <br/>\n",
    "$K_3(x, x^\\prime) = K_0(x, x^\\prime)$ + $K_2(x, x^\\prime)$ <br/>\n",
    "$\\implies K_3(x, x^\\prime) = 1 +  \\frac{1}{||x||} x^T x^\\prime \\frac{1}{||x^\\prime||}$ <br/>\n",
    "By using **product** rule on $K_3(x, x^\\prime)$, <br/>\n",
    "$K_4(x, x^\\prime = K_3(x, x^\\prime)K_3(x, x^\\prime)K_3(x, x^\\prime)$ would also be a valid kernel. <br/>\n",
    "$\\implies K_4(x, x^\\prime) =\\bigg( 1 + \\bigg(\\frac{x}{||x||}\\bigg)^T\\bigg(\\frac{x^\\prime}{||x^\\prime||}\\bigg)\\bigg)^3$"
   ]
  },
  {
   "cell_type": "markdown",
   "metadata": {},
   "source": [
    "## Vapnik–Chervonenkis Dimension [ 5 - points]"
   ]
  },
  {
   "cell_type": "markdown",
   "metadata": {},
   "source": [
    "**Q:** Let the input space be the real line, and let $H$ be the hypothesis class of _intervals_. That is, each hypothesis $h$ is associated with a close interval $[a, b]$, for some constants $a \\leq b$, and $h(x)$ = $1$ if and only if _x_ lies within this interval, and $0$ otherwise. What is the VC dimension of $H$? Prove that your answer is correct."
   ]
  },
  {
   "cell_type": "markdown",
   "metadata": {},
   "source": [
    "VC dimension of a hypothesis set H is the most points H can shatter.\n",
    "To prove that VC dimension of H is V, we need to prove that:\n",
    "    1. H can shatter V points.\n",
    "    2. H cannot shatter V+1 points.<br/>\n",
    "H can shatter V points if there exists a set of V points such that for every possible labeling of the points,\n",
    "there exists some h in H that can attain that labeling. <br/>\n",
    "Lets start with 2 points with labels 0 and 1, and check if H can shatter them. <br/>\n",
    "Say we have two points on the real line $x_1$ = 2 and $x_2 = 5$ <br/>\n",
    "<-----1----($x_1$)2----3----4----($x_2$)5----6----7----8-------> <br/>\n",
    "The possible labels can be (0,0), (0,1), (1,0), (1,1)\n",
    "We can see that <br/>\n",
    "for (0,0), [a,b] could be [3,4] <br/>\n",
    "for (0,1), [a,b] could be [3,8] <br/>\n",
    "for (1,0), [a,b] could be [1,4] <br/>\n",
    "for (1,1), [a,b] could be [1,8] <br/>\n",
    "\n",
    "Now say we have three points on the real line $x_1$ = 2, $x_2$ = 4 $x_4 = 6$ <br/>\n",
    "<-----1----($x_1$)2----3----($x_2$)4----5----($x_3$)6----7----8-------> <br/>\n",
    "There would be 8 possible classifications. <br/>\n",
    "Consider a  label like (1, 0 , 1). There is no such interval which can contain points 2 and 6 but not 4. <br/>\n",
    "We can deduct that for the worse case scenario which has alternating labels for the points (1, 0, 1, 0...), there would not be any such interval which can shatter the points. \n",
    "Thus, by our definition above, **VC dimension of H is 2.**\n"
   ]
  },
  {
   "cell_type": "markdown",
   "metadata": {},
   "source": [
    "**Q:** Let the input space be the real line, and let $H$ be the hypothesis class of _unions of k intervals_. That is, each hypothesis $h$ is associated with *k* closed intervals $[a_1, b_1], \\cdots, [a_k, b_k]$ (for constants $a_1 \\leq b_1 \\leq \\cdots \\leq a_k \\leq b_k$); and $h(x) = 1$ if and only if _x_ lies in the union of these intervals, and $0$ otherwise. What is the VC dimension of $H$? Justify your answer."
   ]
  },
  {
   "cell_type": "markdown",
   "metadata": {},
   "source": [
    "**Solution:** <br/>\n",
    "Consider the case when k is not preset: <br/>\n",
    "For any number of points on the real line, $x_1, \\cdots, x_n$, there would be intervals $[x_i, x_i]$ for every $x_i$ that has label 1.Thus, irrespective of the number of points, there will exist an hypothesis $H$ that will scatter all these points. **VC dimension of H is $\\infty$.** <br/><br/>\n",
    "Consider the case when k = 1: <br/>\n",
    "In the above question, we proved that  VC dimension of H is 2. <br/><br/>\n",
    "Now, consider the case when k = 2: <br/>\n",
    "It can correctly classifiy labels like (1, 0, 1, 0), (0, 1, 0, 1), but fails to shatter labels like (1, 0, 1, 0, 1)  Thus, VC dimension of H is 4. Similary, for k = 3, VC dimension is 6 and for k=4, VC dimension is 8.<br/><br/>\n",
    "We can see that any $2k$ distinct points on the real line can be\n",
    "shattered using k intervals: by shattering each of the k pairs of\n",
    "consecutive points with an interval, and there would be $2^{2k}$ possible classifications. The classification with alternate labels (1,0,1,0..) would require the maximum number of intervals i.e k, because the inputs are equally divided into labels 1 and 0, and it would require a separate interval for label 1 surrounded by 0s and vice versa. If these points can be classified by k intervals, the remaining points can also be classified in k or less intervals.<br/><br/>\n",
    "Now, consider that $2k + 1$ distinct points $x_1, \\cdots, x_{2k+1}$ are given, with alternatively labelled points with 1 or 0. There would be $2^{2k+1}$ possible classifications. Alternative labelled points would require the maximum number of classifications. This leads to k + 1 points labeled as 1 and requires 2k + 1 intervals to shatter the set since no interval can contain two consecutive points. Thus,\n",
    "no set of 2k + 1 points can be shattered by k intervals and the <br/>**VC\n",
    "dimension of the union of k intervals is 2k.**"
   ]
  },
  {
   "cell_type": "markdown",
   "metadata": {},
   "source": [
    "## LASSO and Ridge regression - [15 points]"
   ]
  },
  {
   "cell_type": "markdown",
   "metadata": {},
   "source": [
    "We have seen that the difference between LASSO and Ridge regression is due to their different regularization model (L1 norm vs. L2 norm). The regularization term in LASSO is $\\lambda||\\mathbf w||_1$, while the regularization term in ridge regression is  $(\\lambda/2)||\\mathbf w||^2$ (where $\\mathbf w$ denotes the set of parameters for the linear regression model and $\\lambda$ is the trade-off regularization parameter). LASSO typically enforces more _sparsity_ on the resulting $\\mathbf w$. That is, the resulting classifier will have a small number of non-zero weights. In this exercise, you'll explore differences in performance between LASSO and Ridge regression algorithms.\n",
    "\n",
    "You will be using the following data sets:"
   ]
  },
  {
   "cell_type": "code",
   "execution_count": 7,
   "metadata": {
    "ExecuteTime": {
     "end_time": "2018-10-30T23:46:14.931653Z",
     "start_time": "2018-10-30T23:46:14.919868Z"
    }
   },
   "outputs": [],
   "source": [
    "import numpy as np\n",
    "import matplotlib.pyplot as plt\n",
    "import pandas as pd\n",
    "%matplotlib inline\n",
    "class DataA:\n",
    "    def __init__(self):\n",
    "        f = lambda x, y : np.random.randn(x, y)\n",
    "        self.train_x = f(1000, 20)\n",
    "        self.train_y = f(1000, 1)[:,0]\n",
    "        self.test_x = f(500, 20)\n",
    "        self.test_y = f(500, 1)[:,0]\n",
    "        \n",
    "        \n",
    "class DataB:\n",
    "    def __init__(self):\n",
    "        # Data from: https://archive.ics.uci.edu/ml/datasets/Cloud\n",
    "        data = np.fromfile(\"data/cloud.data\", sep = \" \").reshape((1024, 10))\n",
    "        y = data[:, 6]\n",
    "        X = np.delete(data, 6, axis = 1)\n",
    "        \n",
    "        self.train_x = X[:800]\n",
    "        self.train_y = y[:800]\n",
    "        \n",
    "        self.test_x = X[800:]\n",
    "        self.test_y = y[800:]\n",
    "        \n",
    "class DataC:\n",
    "    def __init__(self):\n",
    "        # Data from: http://archive.ics.uci.edu/ml/datasets/Forest+Fires\n",
    "        data = pd.read_csv(\"data/forestfires.csv\")\n",
    "        data = data.sample(frac = 1).reset_index(drop = True).drop(columns = [\"month\", \"day\"])\n",
    "        data[\"area\"] = np.log(data[\"area\"] + 1)\n",
    "        X = data.drop(columns = \"area\").values\n",
    "        y = data[\"area\"].values\n",
    "        \n",
    "        self.train_x = X[:400]\n",
    "        self.train_y = y[:400]\n",
    "        \n",
    "        self.test_x = X[400:]\n",
    "        self.test_y = y[400:]"
   ]
  },
  {
   "cell_type": "code",
   "execution_count": 8,
   "metadata": {
    "ExecuteTime": {
     "end_time": "2018-10-30T23:46:15.615043Z",
     "start_time": "2018-10-30T23:46:15.513926Z"
    }
   },
   "outputs": [],
   "source": [
    "data_a = DataA()\n",
    "data_b = DataB()\n",
    "data_c = DataC()"
   ]
  },
  {
   "cell_type": "markdown",
   "metadata": {},
   "source": [
    "**For each of the data sets (DataA, DataB, DataC) above, answer the following questions:** "
   ]
  },
  {
   "cell_type": "markdown",
   "metadata": {},
   "source": [
    "1. Fit a regressor to the data set using the sklearn's `Lasso` module (for more details, read [here](http://scikit-learn.org/stable/modules/generated/sklearn.linear_model.Lasso.html)):\n",
    "    1. Train a LASSO model using 5 different values for the regularization parameter $\\lambda$. Use $\\lambda = 0.01, 0.05, 0.1, 0.2, 0.3$. Report and plot the number of non-zero coefficients.\n",
    "    2. Report the value of $\\lambda$ that yields the minimum number of non-zero coefficients in the resulting $\\mathbf w$, and report the number of non-zero coefficients in that case. Keep track of this $\\mathbf w$, we will refer to it as $\\mathbf w_b$. [This step is only needed if any $\\mathbf{w}$ has coefficients that are 0.]\n",
    "    3. For each of the classifiers learned in part (A), compute their test error as mean-squared-error. Plot the test error as function of $\\lambda$.\n",
    "    4. Report the value of $\\lambda$ that yields the $\\mathbf w$ with the minimum test error. Save this $\\mathbf w$ as $\\mathbf w_d$. How many non-zero coordinates does $\\mathbf w_d$ have? Keep track of this, as well as the answers for $\\mathbf w_b$ for the comparison to Ridge Regression below. It might be helpful to make a table, i.e. the number of non-zero coordinates and the test error for $\\mathbf w_b$ and $\\mathbf w_d$ for each data set.\n",
    "    5. For data set A, by increasing the value of $\\lambda$, can you get most of the entries to be 0? Can you get every entry to be 0?\n",
    "    \n",
    "Note: $\\lambda$ is same as $\\alpha$ in the sklearn module."
   ]
  },
  {
   "cell_type": "code",
   "execution_count": 4,
   "metadata": {},
   "outputs": [
    {
     "name": "stdout",
     "output_type": "stream",
     "text": [
      " ######  LASSO  #####\n",
      "######## Part A solution ########\n",
      "\n"
     ]
    },
    {
     "data": {
      "image/png": "[encoded data removed]",
      "text/plain": [
       "<Figure size 432x288 with 1 Axes>"
      ]
     },
     "metadata": {},
     "output_type": "display_data"
    },
    {
     "name": "stdout",
     "output_type": "stream",
     "text": [
      "\n",
      "\n",
      "######## Part B solution ########\n",
      "\n",
      "Min lambda for Data A is  0.1 with  0  non-zero coefficients\n",
      "Min lambda for Data B is  0.3 with  6  non-zero coefficients\n",
      "Min lambda for Data C is  0.2 with  3  non-zero coefficients\n",
      "wb for Data A is  [ 0. -0. -0.  0. -0.  0. -0.  0. -0.  0.  0. -0.  0.  0. -0. -0.  0. -0.\n",
      " -0.  0.]\n",
      "wb for Data B is  [-0.00288079  0.00455033  0.01299448  0.          0.00362342 -0.\n",
      " -0.00422895  0.01425814 -0.        ]\n",
      "wb for Data C is  [ 0.          0.         -0.          0.00247318  0.0001337  -0.\n",
      " -0.         -0.00431934  0.          0.        ]\n",
      "\n",
      "\n",
      "######## Part C solution ########\n",
      "\n",
      "MSE for Data A [1.00570794572782, 0.9882239440051791, 0.987198810734893, 0.987198810734893, 0.987198810734893]\n",
      "MSE for Data B [0.018247756874594758, 0.05914657756834902, 0.08137414855313155, 0.14161835477729207, 0.1855571669951039]\n",
      "MSE for Data C [1.6901668432876682, 1.7065596180869385, 1.7254083255508095, 1.7455427690554683, 1.744360547235224]\n"
     ]
    },
    {
     "data": {
      "image/png": "[encoded data removed]",
      "text/plain": [
       "<Figure size 432x288 with 1 Axes>"
      ]
     },
     "metadata": {},
     "output_type": "display_data"
    },
    {
     "name": "stdout",
     "output_type": "stream",
     "text": [
      "######## Part D solution ########\n",
      "\n",
      "Min lambda for Data A is  0.1 with minimum test error  0.987198810734893  and  0  non-zero coefficients\n",
      "Min lambda for Data B is  0.01 with minimum test error  0.018247756874594758  and  9  non-zero coefficients\n",
      "Min lambda for Data C is  0.01 with minimum test error  1.6901668432876682  and  9  non-zero coefficients\n",
      "wd for Data A is  [ 0. -0. -0.  0. -0.  0. -0.  0. -0.  0.  0. -0.  0.  0. -0. -0.  0. -0.\n",
      " -0.  0.]\n",
      "wd for Data B is  [-1.25340675e-04  3.19897058e-03 -1.85049938e-03  2.96308873e-01\n",
      " -6.89900789e-03 -8.50044352e-01 -1.29507807e-03  1.56594391e-03\n",
      "  7.40399333e-04]\n",
      "wd for Data C is  [ 0.02433724  0.01276057 -0.00080561  0.00275321  0.00026972 -0.00291122\n",
      " -0.00748083 -0.00729437  0.04540329  0.01793664]\n"
     ]
    }
   ],
   "source": [
    "from sklearn.linear_model import Lasso\n",
    "from sklearn.linear_model import Ridge\n",
    "from sklearn.metrics import mean_squared_error\n",
    "import matplotlib.pylab as plt\n",
    "data = [data_a, data_b, data_c]\n",
    "dataset_wb_lasso = []\n",
    "dataset_wd_lasso = []\n",
    "dataset_wberr_lasso = []\n",
    "dataset_err_lasso = []\n",
    "dataset_wb_ridge = []\n",
    "dataset_wd_ridge = []\n",
    "dataset_err_ridge = []\n",
    "dataset_wberr_ridge = []\n",
    "def regressor(m):\n",
    "    if m == \"LASSO\":\n",
    "        alpha = [0.01, 0.05, 0.1, 0.2, 0.3]\n",
    "    else:\n",
    "        alpha = [1, 50, 100, 200, 1000]\n",
    "    print(\" ###### \", m, \" #####\")\n",
    "    dataset_coeff = []\n",
    "    dataset_min_non_zero_coeff = []\n",
    "    dataset_min_lambda = []\n",
    "    dataset_wb = []\n",
    "    dataset_mse = []\n",
    "    dataset_min_mse = []\n",
    "    dataset_minerr_lambda = []\n",
    "    dataset_wd = []\n",
    "    for d in data: \n",
    "        #print(\"########## Dataset {} ##########\".format(dt[itr]))\n",
    "        num_non_zero_coef_arr = []\n",
    "        mse_arr = []\n",
    "        min_non_zero_coef = 999\n",
    "        min_mse = 999\n",
    "        for a in alpha:\n",
    "            #min_coef_lambda = 0.01\n",
    "            #wb = []\n",
    "            if m == \"LASSO\":\n",
    "                reg = Lasso(alpha = a)\n",
    "            else:\n",
    "                reg = Ridge(alpha = a)\n",
    "            reg.fit(d.train_x, d.train_y)\n",
    "            num_non_zero_coef = np.sum(reg.coef_ != 0)\n",
    "            num_non_zero_coef_arr.append(num_non_zero_coef)\n",
    "            if (num_non_zero_coef < min_non_zero_coef):\n",
    "                min_non_zero_coef = num_non_zero_coef\n",
    "                min_coef_lambda = a\n",
    "                wb = reg.coef_\n",
    "                y_pred1 = reg.predict(d.test_x)\n",
    "                mse1 = mean_squared_error(d.test_y, y_pred1)\n",
    "            y_pred = reg.predict(d.test_x)\n",
    "            mse = mean_squared_error(d.test_y, y_pred)\n",
    "            if (mse < min_mse):\n",
    "                min_mse = mse\n",
    "                wd = reg.coef_\n",
    "                min_err_lambda = a\n",
    "            mse_arr.append(mse)\n",
    "\n",
    "        dataset_min_non_zero_coeff.append(min_non_zero_coef)\n",
    "        dataset_coeff.append(num_non_zero_coef_arr)\n",
    "        dataset_min_lambda.append(min_coef_lambda)\n",
    "        dataset_wb.append(wb)\n",
    "        dataset_wd.append(wd)\n",
    "        dataset_mse.append(mse_arr)\n",
    "        dataset_minerr_lambda.append(min_err_lambda)\n",
    "        dataset_min_mse.append(min_mse)\n",
    "        if m == \"LASSO\":\n",
    "            dataset_wb_lasso.append(wb)\n",
    "            dataset_wd_lasso.append(wd)\n",
    "            dataset_err_lasso.append(min_mse)\n",
    "            dataset_wberr_lasso.append(mse1)\n",
    "        else:\n",
    "            dataset_wb_ridge.append(wb)\n",
    "            dataset_wd_ridge.append(wd)\n",
    "            dataset_err_ridge.append(min_mse)\n",
    "            dataset_wberr_ridge.append(mse1)\n",
    "\n",
    "    print(\"######## Part A solution ########\\n\")\n",
    "    #print(\"No. of non-zero coef for Data A\", dataset_coeff[0])\n",
    "    #print(\"No. of non-zero coef for Data B\", dataset_coeff[1])\n",
    "    #print(\"No. of non-zero coef for Data C\", dataset_coeff[2])\n",
    "    plt.plot(alpha, dataset_coeff[0], label = \"Data A\")\n",
    "    plt.plot(alpha, dataset_coeff[1], label = \"Data B\")\n",
    "    plt.plot(alpha, dataset_coeff[2], label = \"Data C\")\n",
    "    plt.xlabel('Lambda')\n",
    "    plt.ylabel('No. of non-zero coefficients')\n",
    "    plt.legend(loc=\"upper right\")\n",
    "    plt.show()\n",
    "    print(\"\\n\")\n",
    "    print(\"######## Part B solution ########\\n\")\n",
    "    print(\"Min lambda for Data A is \", dataset_min_lambda[0], \"with \", dataset_min_non_zero_coeff[0], \" non-zero coefficients\")\n",
    "    print(\"Min lambda for Data B is \", dataset_min_lambda[1], \"with \", dataset_min_non_zero_coeff[1], \" non-zero coefficients\")\n",
    "    print(\"Min lambda for Data C is \", dataset_min_lambda[2], \"with \", dataset_min_non_zero_coeff[2], \" non-zero coefficients\")\n",
    "    \n",
    "    print(\"wb for Data A is \", dataset_wb[0])\n",
    "    print(\"wb for Data B is \", dataset_wb[1])\n",
    "    print(\"wb for Data C is \", dataset_wb[2])\n",
    "    print(\"\\n\")\n",
    "\n",
    "    print(\"######## Part C solution ########\\n\")\n",
    "    print(\"MSE for Data A\", dataset_mse[0])\n",
    "    print(\"MSE for Data B\", dataset_mse[1])\n",
    "    print(\"MSE for Data C\", dataset_mse[2])\n",
    "    plt.plot(alpha, dataset_mse[0], label = \"Data A\")\n",
    "    plt.plot(alpha, dataset_mse[1], label = \"Data B\")\n",
    "    plt.plot(alpha, dataset_mse[2], label = \"Data C\")\n",
    "    plt.xlabel('Lambda')\n",
    "    plt.ylabel('Test Error')\n",
    "    plt.legend(loc=\"upper right\")\n",
    "    plt.show()\n",
    "\n",
    "    \n",
    "    print(\"######## Part D solution ########\\n\")\n",
    "    print(\"Min lambda for Data A is \", dataset_minerr_lambda[0], \"with minimum test error \", dataset_min_mse[0], \" and \", np.sum(dataset_wd[0] != 0), \" non-zero coefficients\")\n",
    "    print(\"Min lambda for Data B is \", dataset_minerr_lambda[1], \"with minimum test error \", dataset_min_mse[1], \" and \", np.sum(dataset_wd[1] != 0), \" non-zero coefficients\")\n",
    "    print(\"Min lambda for Data C is \", dataset_minerr_lambda[2], \"with minimum test error \", dataset_min_mse[2], \" and \", np.sum(dataset_wd[1] != 0), \" non-zero coefficients\")\n",
    "\n",
    "    print(\"wd for Data A is \", dataset_wd[0])\n",
    "    print(\"wd for Data B is \", dataset_wd[1])\n",
    "    print(\"wd for Data C is \", dataset_wd[2])\n",
    "\n",
    "\n",
    "regressor(\"LASSO\")"
   ]
  },
  {
   "cell_type": "markdown",
   "metadata": {},
   "source": [
    "######## Part E solution ######## <br/>\n",
    "For lasso, dataset A, by increasing the value of  λ, we can get most of the entries to be 0. As  λ reaches 0.1, all the entries of wd become 0. Even at small values of λ, the magnitude of coefficients have reduced a lot. \n",
    "LASSO does both parameter shrinkage and variable selection automatically because it zero out the co-efficients of collinear variables. "
   ]
  },
  {
   "cell_type": "markdown",
   "metadata": {},
   "source": [
    "2. Now, we turn to Ridge regression. We'll use sklearn module `Ridge` (read more [here](http://scikit-learn.org/stable/modules/generated/sklearn.linear_model.Ridge.html#sklearn.linear_model.Ridge)). Repeat each of the experiment above using Ridge regression. Use $\\lambda = 1, 50, 100, 200, 1000$."
   ]
  },
  {
   "cell_type": "code",
   "execution_count": 5,
   "metadata": {},
   "outputs": [
    {
     "name": "stdout",
     "output_type": "stream",
     "text": [
      " ######  RIDGE  #####\n",
      "######## Part A solution ########\n",
      "\n"
     ]
    },
    {
     "data": {
      "image/png": "[encoded data removed]",
      "text/plain": [
       "<Figure size 432x288 with 1 Axes>"
      ]
     },
     "metadata": {},
     "output_type": "display_data"
    },
    {
     "name": "stdout",
     "output_type": "stream",
     "text": [
      "\n",
      "\n",
      "######## Part B solution ########\n",
      "\n",
      "Min lambda for Data A is  1 with  20  non-zero coefficients\n",
      "Min lambda for Data B is  1 with  9  non-zero coefficients\n",
      "Min lambda for Data C is  1 with  10  non-zero coefficients\n",
      "wb for Data A is  [ 0.02265902 -0.0599176  -0.02696379  0.01035824 -0.01234838  0.07206017\n",
      " -0.07658506  0.01855058 -0.03170576  0.0134457   0.01104336 -0.00682994\n",
      "  0.02422902  0.00750429 -0.00689237 -0.03286096  0.04568017 -0.03619281\n",
      " -0.01103056  0.03324533]\n",
      "wb for Data B is  [ 1.06105350e-03  1.93168909e-03 -2.12816350e-03  2.11889754e-01\n",
      " -4.12651989e-03 -1.75936583e+00  1.92482500e-04  1.88042545e-03\n",
      " -3.00387232e-04]\n",
      "wb for Data C is  [ 0.02350931  0.01968364 -0.00140701  0.00277485  0.00029149 -0.0032464\n",
      " -0.00918101 -0.00793049  0.04740929  0.10976579]\n",
      "\n",
      "\n",
      "######## Part C solution ########\n",
      "\n",
      "MSE for Data A [1.0153110390252102, 1.0129747505389768, 1.0109008139185378, 1.0074891215447874, 0.9956522489565344]\n",
      "MSE for Data B [0.0036802254541537494, 0.03971462323639084, 0.04968027530949797, 0.06393518128301288, 0.11921094367290223]\n",
      "MSE for Data C [1.6890813225550767, 1.6893062513278343, 1.6905692568505282, 1.693404318388512, 1.70947801631114]\n"
     ]
    },
    {
     "data": {
      "image/png": "[encoded data removed]",
      "text/plain": [
       "<Figure size 432x288 with 1 Axes>"
      ]
     },
     "metadata": {},
     "output_type": "display_data"
    },
    {
     "name": "stdout",
     "output_type": "stream",
     "text": [
      "######## Part D solution ########\n",
      "\n",
      "Min lambda for Data A is  1000 with minimum test error  0.9956522489565344  and  20  non-zero coefficients\n",
      "Min lambda for Data B is  1 with minimum test error  0.0036802254541537494  and  9  non-zero coefficients\n",
      "Min lambda for Data C is  1 with minimum test error  1.6890813225550767  and  9  non-zero coefficients\n",
      "wd for Data A is  [ 0.01196198 -0.0288295  -0.01409146  0.00668434 -0.00593685  0.03477985\n",
      " -0.0375424   0.00854832 -0.01677492  0.00764278  0.00582371 -0.0024069\n",
      "  0.01206539  0.00398752 -0.00459296 -0.01588368  0.02299328 -0.01696963\n",
      " -0.00685594  0.01887744]\n",
      "wd for Data B is  [ 1.06105350e-03  1.93168909e-03 -2.12816350e-03  2.11889754e-01\n",
      " -4.12651989e-03 -1.75936583e+00  1.92482500e-04  1.88042545e-03\n",
      " -3.00387232e-04]\n",
      "wd for Data C is  [ 0.02350931  0.01968364 -0.00140701  0.00277485  0.00029149 -0.0032464\n",
      " -0.00918101 -0.00793049  0.04740929  0.10976579]\n"
     ]
    }
   ],
   "source": [
    "regressor(\"RIDGE\")\n"
   ]
  },
  {
   "cell_type": "markdown",
   "metadata": {},
   "source": [
    "######## Part E solution ######## <br/>\n",
    "For ridge, dataset A, coefficients will never have 0 entries even after increasing the value of  λ.\n",
    "As we increase the value of  λ, the magnitude of the coefficients decreases, where the values reaches close to zero but not absolute zero. So by changing the values of λ, we are basically controlling the penalty term. Higher the values of λ, bigger is the penalty and therefore the magnitude of coefficients are reduced."
   ]
  },
  {
   "cell_type": "markdown",
   "metadata": {},
   "source": [
    "3. Compare the two algorithms on each data set: compare the number of non-zero coordinates of the $\\mathbf w_d$'s, and compare the test error rates of the $\\mathbf w_b$'s. Report your results and comment on them."
   ]
  },
  {
   "cell_type": "code",
   "execution_count": 317,
   "metadata": {},
   "outputs": [
    {
     "name": "stdout",
     "output_type": "stream",
     "text": [
      "########## Dataset A ##########\n",
      "*****Lasso*****\n",
      "Number of non-zero coefficients of wb is  0\n",
      "Test Error Rate of wb is  0.9594506515711282\n",
      "Number of non-zero coefficients of wd is  0\n",
      "Test Error Rate of wd is  0.9594506515711282\n",
      "*****Ridge*****\n",
      "Number of non-zero coefficients of wb is  20\n",
      "Test Error Rate of wb is  0.9734646525383168\n",
      "Number of non-zero coefficients of wd is  20\n",
      "Test Error Rate of wd is  0.9625734062399933\n",
      "\n",
      "\n",
      "########## Dataset B ##########\n",
      "*****Lasso*****\n",
      "Number of non-zero coefficients of wb is  6\n",
      "Test Error Rate of wb is  0.1855571669951039\n",
      "Number of non-zero coefficients of wd is  9\n",
      "Test Error Rate of wd is  0.018247756874594758\n",
      "*****Ridge*****\n",
      "Number of non-zero coefficients of wb is  9\n",
      "Test Error Rate of wb is  0.0036802254541537494\n",
      "Number of non-zero coefficients of wd is  9\n",
      "Test Error Rate of wd is  0.0036802254541537494\n",
      "\n",
      "\n",
      "########## Dataset C ##########\n",
      "*****Lasso*****\n",
      "Number of non-zero coefficients of wb is  4\n",
      "Test Error Rate of wb is  1.7226540629331013\n",
      "Number of non-zero coefficients of wd is  7\n",
      "Test Error Rate of wd is  1.720995701617872\n",
      "*****Ridge*****\n",
      "Number of non-zero coefficients of wb is  10\n",
      "Test Error Rate of wb is  1.7806859112799314\n",
      "Number of non-zero coefficients of wd is  10\n",
      "Test Error Rate of wd is  1.749373051420571\n",
      "\n",
      "\n"
     ]
    }
   ],
   "source": [
    "dt = ['A', 'B', 'C']\n",
    "for i in range(3):\n",
    "    print(\"########## Dataset {} ##########\".format(dt[i]))\n",
    "    print(\"*****Lasso*****\")\n",
    "    print(\"Number of non-zero coefficients of wb is \", np.sum(dataset_wb_lasso[i] != 0))\n",
    "    print(\"Test Error Rate of wb is \", dataset_wberr_lasso[i])\n",
    "    print(\"Number of non-zero coefficients of wd is \", np.sum(dataset_wd_lasso[i] != 0))\n",
    "    print(\"Test Error Rate of wd is \", dataset_err_lasso[i])\n",
    "    \n",
    "    print(\"*****Ridge*****\")\n",
    "    print(\"Number of non-zero coefficients of wb is \", np.sum(dataset_wb_ridge[i] != 0))\n",
    "    print(\"Test Error Rate of wb is \", dataset_wberr_ridge[i])\n",
    "    print(\"Number of non-zero coefficients of wd is \", np.sum(dataset_wd_ridge[i] != 0))\n",
    "    print(\"Test Error Rate of wd is \", dataset_err_ridge[i])\n",
    "    \n",
    "    print(\"\\n\")\n"
   ]
  },
  {
   "cell_type": "markdown",
   "metadata": {},
   "source": [
    "From above, we can see that the number of non-zero coefficients for ridge never reaches 0, and it is same for both wb and wd for all datasets. For dataset B, Lasso has a higher error rate than Ridge. So, less number of coefficients does not mean it will give better performance.\n",
    "In Lasso, as we increased the value of λ, coefficients were approaching towards zero. Even at smaller λs, our coefficients are reducing to absolute zeroes. Therefore, lasso selects the only some feature while reduces the coefficients of others to zero. This property is known as feature selection and which is absent in case of ridge. Ridge regression will retain all of the features but will shrink the coefficients. Ridge regression enforces the coefficients to be lower, but it does not enforce them to be zero. Thus, it will not get rid of irrelevant features but rather minimize their impact on the trained model. Lasso method overcomes the disadvantage of Ridge regression by not only punishing high values of the coefficients but actually setting them to zero if they are not relevant.\n"
   ]
  },
  {
   "cell_type": "code",
   "execution_count": null,
   "metadata": {},
   "outputs": [],
   "source": []
  },
  {
   "cell_type": "markdown",
   "metadata": {},
   "source": [
    "## Kernel Perceptron - 5 points"
   ]
  },
  {
   "cell_type": "markdown",
   "metadata": {},
   "source": [
    "Implement the Kernel Perceptron as described in the lecture using different kernel functions. Use the training and test data provided below to train and test your implementation. Report the error rate for each kernel function."
   ]
  },
  {
   "cell_type": "code",
   "execution_count": 256,
   "metadata": {
    "ExecuteTime": {
     "end_time": "2018-10-30T21:52:47.035187Z",
     "start_time": "2018-10-30T21:52:47.030541Z"
    }
   },
   "outputs": [],
   "source": [
    "from scipy.io import loadmat\n",
    "class Data:\n",
    "    def __init__(self):\n",
    "        ff = lambda x,y : loadmat(x)[y]\n",
    "        \n",
    "        self.X_train = ff(\"data/iris_3/train_data.mat\", \"train_data\")\n",
    "        self.y_train = ff(\"data/iris_3/train_labels.mat\", \"train_labels\").flatten()\n",
    "        \n",
    "        self.X_test = ff(\"data/iris_3/test_data.mat\", \"test_data\")\n",
    "        self.y_test = ff(\"data/iris_3/test_labels.mat\", \"test_labels\").flatten()"
   ]
  },
  {
   "cell_type": "markdown",
   "metadata": {},
   "source": [
    "**A:** Implement the kernel functions below:"
   ]
  },
  {
   "cell_type": "code",
   "execution_count": 257,
   "metadata": {
    "ExecuteTime": {
     "end_time": "2018-10-30T23:53:56.191546Z",
     "start_time": "2018-10-30T23:53:56.036885Z"
    }
   },
   "outputs": [],
   "source": [
    "import numpy as np\n",
    "from numpy import linalg\n",
    "\n",
    "def linear_kernel(x1, x2):\n",
    "    #TO DO\n",
    "    #pass\n",
    "    return np.dot(x1, x2)\n",
    "    \n",
    "def polynomial_kernel(x, y, p = 3):\n",
    "    #TO DO\n",
    "    #p = degree of the polynomial\n",
    "    #pass\n",
    "    return (1 + np.dot(x, y)) ** p\n",
    "    \n",
    "def gaussian_kernel(x, y, sigma = 0.5):\n",
    "    #TO DO\n",
    "    #pass\n",
    "    return np.exp(-linalg.norm(x-y)**2 / (2 * (sigma ** 2)))"
   ]
  },
  {
   "cell_type": "markdown",
   "metadata": {},
   "source": [
    "**B:** Implement the following methods of the `KernelPerceptron` class. The `__init__` takes also as input the kernel to use. `Niter` is equivalent to `t` as per the lecture slides. You are allowed to introduce new class variables/methods.\n",
    "\n",
    "* Implement the `fit` method. Taking as input the training data, it learns the model parameters\n",
    "* Implement the `predict` method which takes as input new examples and returns the estimated label "
   ]
  },
  {
   "cell_type": "code",
   "execution_count": 258,
   "metadata": {
    "ExecuteTime": {
     "end_time": "2018-10-30T22:02:05.965668Z",
     "start_time": "2018-10-30T22:02:05.958206Z"
    }
   },
   "outputs": [],
   "source": [
    "class KernelPerceptron:\n",
    "    def __init__(self, kernel = linear_kernel, Niter = 1):\n",
    "        \n",
    "        self.kernel = kernel\n",
    "        self.Niter = Niter\n",
    "        self.support_vector_x = None\n",
    "        self.support_vector_y = None\n",
    "        \n",
    "    def fit(self, X, y):\n",
    "        length = len(X)\n",
    "        self.alpha = np.zeros(length)\n",
    "\n",
    "        weights = np.zeros((len(X[0])))\n",
    "        bias = 0\n",
    "        updates = 0  \n",
    "        \n",
    "        K = np.zeros((length, length))\n",
    "        for i in range(length):\n",
    "            for j in range(length):\n",
    "                K[i,j] = self.kernel(X[i], X[j])\n",
    "                \n",
    "        for t in range(self.Niter):\n",
    "            for i in range(length):\n",
    "                '''print(np.shape(K[:,i]))\n",
    "                print(np.shape(self.alpha))\n",
    "                print(np.shape(y))'''\n",
    "                if (np.sum(K[:,i] * self.alpha * y)) * y[i] <= 0:\n",
    "                    self.alpha[i] += 1.0            \n",
    "        #Considering all alpha, support vectors would be entire X\n",
    "        self.support_vector_x = X\n",
    "        self.support_vector_y = y   \n",
    "    def predict(self, X):\n",
    "        y_predict = []\n",
    "        for i in range(len(X)):\n",
    "            s = 0\n",
    "            for a, x, y in zip(self.alpha, self.support_vector_x, self.support_vector_y):\n",
    "                s += a * y * self.kernel(X[i], x)\n",
    "            y_predict.append(s)\n",
    "        return np.sign(y_predict)"
   ]
  },
  {
   "cell_type": "markdown",
   "metadata": {},
   "source": [
    "**C:** Report the test error for each kernel function for `Niter = 20`"
   ]
  },
  {
   "cell_type": "code",
   "execution_count": 259,
   "metadata": {},
   "outputs": [],
   "source": [
    "linear = KernelPerceptron(kernel = linear_kernel, Niter = 20)\n",
    "poly = KernelPerceptron(kernel = polynomial_kernel, Niter = 20)\n",
    "gaussian = KernelPerceptron(kernel = gaussian_kernel, Niter = 20)\n",
    "data = Data()\n",
    "linear.fit(data.X_train, data.y_train)\n",
    "poly.fit(data.X_train, data.y_train)\n",
    "gaussian.fit(data.X_train, data.y_train)"
   ]
  },
  {
   "cell_type": "code",
   "execution_count": 260,
   "metadata": {},
   "outputs": [
    {
     "name": "stdout",
     "output_type": "stream",
     "text": [
      "Test error of linear kernel is 40.0\n",
      "Test error of polynomial kernel is 6.666666666666671\n",
      "Test error of gaussian kernel is 6.666666666666671\n"
     ]
    }
   ],
   "source": [
    "accuracy = 0\n",
    "linear_output = []\n",
    "poly_output = []\n",
    "gaussian_output = []\n",
    "linear_output = linear.predict(data.X_test)\n",
    "poly_output = poly.predict(data.X_test)\n",
    "gaussian_output = gaussian.predict(data.X_test)\n",
    "for i in range(len(linear_output)):\n",
    "    if (data.y_test[i] == linear_output[i]):\n",
    "        accuracy = accuracy + 1\n",
    "print(\"Test error of linear kernel is\", 100 - accuracy*100/len(linear_output))\n",
    "\n",
    "accuracy = 0\n",
    "for i in range(len(poly_output)):\n",
    "    if (data.y_test[i] == poly_output[i]):\n",
    "        accuracy = accuracy + 1\n",
    "print(\"Test error of polynomial kernel is\", 100 - accuracy*100/len(poly_output))\n",
    "\n",
    "accuracy = 0\n",
    "for i in range(len(gaussian_output)):\n",
    "    if (data.y_test[i] == gaussian_output[i]):\n",
    "        accuracy = accuracy + 1\n",
    "print(\"Test error of gaussian kernel is\", 100 - accuracy*100/len(gaussian_output))"
   ]
  },
  {
   "cell_type": "code",
   "execution_count": null,
   "metadata": {},
   "outputs": [],
   "source": []
  },
  {
   "cell_type": "code",
   "execution_count": null,
   "metadata": {},
   "outputs": [],
   "source": []
  }
 ],
 "metadata": {
  "kernelspec": {
   "display_name": "Python 3",
   "language": "python",
   "name": "python3"
  },
  "language_info": {
   "codemirror_mode": {
    "name": "ipython",
    "version": 3
   },
   "file_extension": ".py",
   "mimetype": "text/x-python",
   "name": "python",
   "nbconvert_exporter": "python",
   "pygments_lexer": "ipython3",
   "version": "3.6.5"
  },
  "toc": {
   "base_numbering": 1,
   "nav_menu": {},
   "number_sections": true,
   "sideBar": true,
   "skip_h1_title": false,
   "title_cell": "Table of Contents",
   "title_sidebar": "Contents",
   "toc_cell": false,
   "toc_position": {},
   "toc_section_display": true,
   "toc_window_display": false
  }
 },
 "nbformat": 4,
 "nbformat_minor": 2
}

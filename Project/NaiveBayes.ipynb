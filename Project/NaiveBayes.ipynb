{
 "cells": [
  {
   "cell_type": "code",
   "execution_count": 1,
   "metadata": {},
   "outputs": [],
   "source": [
    "import pandas as pd\n",
    "class Signs:\n",
    "    \"\"\"\n",
    "    Class to store MNIST data\n",
    "    \"\"\"\n",
    "    def __init__(self, location):\n",
    "\n",
    "        import pickle, gzip, collections\n",
    "\n",
    "        # load data from file \n",
    "        #data = pd.read_csv(location, 'rb',engine='python',index_col=0)\n",
    "        #X = data.drop(['label'], axis=0, inplace=True)\n",
    "        #y = data[\"label\"].values\n",
    "        data = pd.read_csv(\"data/sign_mnist_train.csv\")\n",
    "        self.train_x = data.drop(columns = \"label\").values\n",
    "        self.train_y = data[\"label\"].values\n",
    "        data = pd.read_csv(\"data/sign_mnist_test.csv\")\n",
    "        self.test_x = data.drop(columns = \"label\").values\n",
    "        self.test_y = data[\"label\"].values\n",
    "        print(\"Lenght of training data is \", len(self.train_x))\n",
    "        print(\"Lenght of testing data is \", len(self.test_x))"
   ]
  },
  {
   "cell_type": "code",
   "execution_count": 2,
   "metadata": {},
   "outputs": [
    {
     "name": "stdout",
     "output_type": "stream",
     "text": [
      "Lenght of training data is  27455\n",
      "Lenght of testing data is  7172\n"
     ]
    }
   ],
   "source": [
    "DATA_PATH = \"data/sign_mnist_train.csv\"\n",
    "asl_data = Signs(DATA_PATH)"
   ]
  },
  {
   "cell_type": "code",
   "execution_count": 7,
   "metadata": {},
   "outputs": [],
   "source": [
    "from sklearn.naive_bayes import GaussianNB\n",
    "\n",
    "def naiveBayesAcc(train,test,train_label,test_label):\n",
    "    clf = GaussianNB()\n",
    "    clf.fit(train,train_label)\n",
    "    yhat = clf.predict(test)\n",
    "    count=0\n",
    "    for i in range(len(yhat)):\n",
    "        if yhat[i] == test_label[i]:\n",
    "            count+=1\n",
    "    return count/len(yhat)"
   ]
  },
  {
   "cell_type": "code",
   "execution_count": 3,
   "metadata": {},
   "outputs": [],
   "source": [
    "from skimage import feature\n",
    "\n",
    "# Histogram of Oriented Gradients\n",
    "class HOG:\n",
    "\tdef __init__(self, orientations = 9, pixelsPerCell = (9, 9),\n",
    "\t\tcellsPerBlock = (3, 3), block_norm = 'L2-Hys'):  \n",
    "\t\tself.orientations = orientations\n",
    "\t\tself.pixelsPerCell = pixelsPerCell\n",
    "\t\tself.cellsPerBlock = cellsPerBlock\n",
    "\t\tself.block_norm = block_norm    # changing from default to L2-Hys, improved a lot\n",
    "\n",
    "\tdef describe(self, image):\n",
    "\t\t# compute HOG for the image\n",
    "\t\thist = feature.hog(image, orientations = self.orientations,\n",
    "\t\t\tpixels_per_cell = self.pixelsPerCell,\n",
    "\t\t\tcells_per_block = self.cellsPerBlock,\n",
    "\t\t\tblock_norm = self.block_norm) \n",
    "\n",
    "\t\t# return the HOG features\n",
    "\t\treturn hist"
   ]
  },
  {
   "cell_type": "code",
   "execution_count": 4,
   "metadata": {},
   "outputs": [],
   "source": [
    "import numpy as np # linear algebra\n",
    "import cv2\n",
    "import os\n",
    "from matplotlib import pyplot as plt\n",
    "from skimage import color\n",
    "from skimage.feature import hog\n",
    "from sklearn import svm\n",
    "from sklearn.metrics import classification_report,accuracy_score\n",
    "\n",
    "\n",
    "ppc = 16\n",
    "hog_images = []\n",
    "hog_features = []\n",
    "i = 0\n",
    "hog = HOG(orientations = 3, pixelsPerCell = (2, 2),cellsPerBlock = (4, 4), block_norm = 'L2-Hys')\n",
    "hist_data = []  \n",
    "for x,y in zip(asl_data.train_x, asl_data.train_y):\n",
    "    fname = \"img{}\".format(i)+\".jpg\"\n",
    "    cv2.imwrite(fname, x.reshape(28,28))\n",
    "    img = cv2.imread(fname)\n",
    "    os.remove(fname)\n",
    "    gray= cv2.cvtColor(img, cv2.COLOR_BGR2GRAY)\n",
    "    #fd,hog_image = hog(gray, orientations=8, pixels_per_cell=(ppc,ppc),cells_per_block=(4, 4),block_norm= 'L2')\n",
    "    hist = hog.describe(gray)\n",
    "    hist_data.append(hist)\n"
   ]
  },
  {
   "cell_type": "code",
   "execution_count": 5,
   "metadata": {},
   "outputs": [],
   "source": [
    "hist_data_test = []  \n",
    "for d in asl_data.test_x:\n",
    "    fname = \"img{}\".format(i)+\".jpg\"\n",
    "    cv2.imwrite(fname, d.reshape(28,28))\n",
    "    img = cv2.imread(fname)\n",
    "    os.remove(fname)\n",
    "    gray= cv2.cvtColor(img, cv2.COLOR_BGR2GRAY)\n",
    "    #fd,hog_image = hog(gray, orientations=8, pixels_per_cell=(ppc,ppc),cells_per_block=(4, 4),block_norm= 'L2')\n",
    "    hist = hog.describe(gray)\n",
    "    hist_data_test.append(hist)"
   ]
  },
  {
   "cell_type": "code",
   "execution_count": 12,
   "metadata": {},
   "outputs": [
    {
     "name": "stdout",
     "output_type": "stream",
     "text": [
      "Accuracy of Naive Bayes with HOG is  72.60178471834914  %\n"
     ]
    }
   ],
   "source": [
    "acc = naiveBayesAcc(hist_data,hist_data_test,asl_data.train_y,asl_data.test_y)\n",
    "print(\"Accuracy of Naive Bayes with HOG is \", acc*100, \" %\")"
   ]
  },
  {
   "cell_type": "code",
   "execution_count": 13,
   "metadata": {},
   "outputs": [
    {
     "name": "stdout",
     "output_type": "stream",
     "text": [
      "Accuracy of Naive Bayes without feature extraction is  38.98494143892917  %\n"
     ]
    }
   ],
   "source": [
    "acc_without_fe = naiveBayesAcc(asl_data.train_x,asl_data.test_x,asl_data.train_y,asl_data.test_y)\n",
    "print(\"Accuracy of Naive Bayes without feature extraction is \", acc_without_fe*100, \" %\")"
   ]
  },
  {
   "cell_type": "code",
   "execution_count": null,
   "metadata": {},
   "outputs": [],
   "source": []
  }
 ],
 "metadata": {
  "kernelspec": {
   "display_name": "Python 3",
   "language": "python",
   "name": "python3"
  },
  "language_info": {
   "codemirror_mode": {
    "name": "ipython",
    "version": 3
   },
   "file_extension": ".py",
   "mimetype": "text/x-python",
   "name": "python",
   "nbconvert_exporter": "python",
   "pygments_lexer": "ipython3",
   "version": "3.5.5"
  }
 },
 "nbformat": 4,
 "nbformat_minor": 2
}

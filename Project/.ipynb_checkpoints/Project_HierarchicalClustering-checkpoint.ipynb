{
 "cells": [
  {
   "cell_type": "code",
   "execution_count": 1,
   "metadata": {},
   "outputs": [],
   "source": [
    "import pandas as pd\n",
    "class Signs:\n",
    "    \"\"\"\n",
    "    Class to store MNIST data\n",
    "    \"\"\"\n",
    "    def __init__(self, location):\n",
    "\n",
    "        import pickle, gzip, collections\n",
    "\n",
    "        # load data from file \n",
    "        #data = pd.read_csv(location, 'rb',engine='python',index_col=0)\n",
    "        #X = data.drop(['label'], axis=0, inplace=True)\n",
    "        #y = data[\"label\"].values\n",
    "        data = pd.read_csv(\"data/sign_mnist_train.csv\")\n",
    "        self.train_x = data.drop(columns = \"label\").values\n",
    "        self.train_y = data[\"label\"].values\n",
    "        data = pd.read_csv(\"data/sign_mnist_test.csv\")\n",
    "        self.test_x = data.drop(columns = \"label\").values\n",
    "        self.test_y = data[\"label\"].values\n",
    "        print(\"Lenght of training data is \", len(self.train_x))\n",
    "        print(\"Lenght of testing data is \", len(self.test_x))"
   ]
  },
  {
   "cell_type": "code",
   "execution_count": 2,
   "metadata": {},
   "outputs": [
    {
     "name": "stdout",
     "output_type": "stream",
     "text": [
      "Lenght of training data is  27455\n",
      "Lenght of testing data is  7172\n"
     ]
    }
   ],
   "source": [
    "DATA_PATH = \"data/sign_mnist_train.csv\"\n",
    "asl_data = Signs(DATA_PATH)"
   ]
  },
  {
   "cell_type": "code",
   "execution_count": 4,
   "metadata": {},
   "outputs": [],
   "source": [
    "# import hierarchical clustering libraries\n",
    "import scipy.cluster.hierarchy as sch\n",
    "from sklearn.cluster import AgglomerativeClustering"
   ]
  },
  {
   "cell_type": "code",
   "execution_count": 92,
   "metadata": {},
   "outputs": [
    {
     "data": {
      "image/png": "[encoded data removed]",
      "text/plain": [
       "<Figure size 432x288 with 1 Axes>"
      ]
     },
     "metadata": {
      "needs_background": "light"
     },
     "output_type": "display_data"
    }
   ],
   "source": [
    "# create dendrogram\n",
    "dendrogram = sch.dendrogram(sch.linkage(asl_data.train_x, method='ward'))\n",
    "# create clusters\n",
    "hc = AgglomerativeClustering(n_clusters=24, affinity = 'euclidean', linkage = 'ward')\n"
   ]
  },
  {
   "cell_type": "code",
   "execution_count": null,
   "metadata": {},
   "outputs": [],
   "source": [
    "import numpy as np\n",
    "# save clusters for chart\n",
    "y_hc = hc.fit_predict(np.reshape(asl_data.test_x, (-1, 2)))\n",
    "print(y_hc)"
   ]
  },
  {
   "cell_type": "code",
   "execution_count": 95,
   "metadata": {},
   "outputs": [
    {
     "ename": "NameError",
     "evalue": "name 'points' is not defined",
     "output_type": "error",
     "traceback": [
      "\u001b[0;31m---------------------------------------------------------------------------\u001b[0m",
      "\u001b[0;31mNameError\u001b[0m                                 Traceback (most recent call last)",
      "\u001b[0;32m<ipython-input-95-3e024418442a>\u001b[0m in \u001b[0;36m<module>\u001b[0;34m()\u001b[0m\n\u001b[1;32m      1\u001b[0m \u001b[0;32mfrom\u001b[0m \u001b[0mmatplotlib\u001b[0m \u001b[0;32mimport\u001b[0m \u001b[0mpyplot\u001b[0m \u001b[0;32mas\u001b[0m \u001b[0mplt\u001b[0m\u001b[0;34m\u001b[0m\u001b[0m\n\u001b[0;32m----> 2\u001b[0;31m \u001b[0mplt\u001b[0m\u001b[0;34m.\u001b[0m\u001b[0mscatter\u001b[0m\u001b[0;34m(\u001b[0m\u001b[0mpoints\u001b[0m\u001b[0;34m[\u001b[0m\u001b[0my_hc\u001b[0m \u001b[0;34m==\u001b[0m\u001b[0;36m0\u001b[0m\u001b[0;34m,\u001b[0m\u001b[0;36m0\u001b[0m\u001b[0;34m]\u001b[0m\u001b[0;34m,\u001b[0m \u001b[0mpoints\u001b[0m\u001b[0;34m[\u001b[0m\u001b[0my_hc\u001b[0m \u001b[0;34m==\u001b[0m \u001b[0;36m0\u001b[0m\u001b[0;34m,\u001b[0m\u001b[0;36m1\u001b[0m\u001b[0;34m]\u001b[0m\u001b[0;34m,\u001b[0m \u001b[0ms\u001b[0m\u001b[0;34m=\u001b[0m\u001b[0;36m100\u001b[0m\u001b[0;34m,\u001b[0m \u001b[0mc\u001b[0m\u001b[0;34m=\u001b[0m\u001b[0;34m'red'\u001b[0m\u001b[0;34m)\u001b[0m\u001b[0;34m\u001b[0m\u001b[0m\n\u001b[0m\u001b[1;32m      3\u001b[0m \u001b[0mplt\u001b[0m\u001b[0;34m.\u001b[0m\u001b[0mscatter\u001b[0m\u001b[0;34m(\u001b[0m\u001b[0mpoints\u001b[0m\u001b[0;34m[\u001b[0m\u001b[0my_hc\u001b[0m\u001b[0;34m==\u001b[0m\u001b[0;36m1\u001b[0m\u001b[0;34m,\u001b[0m\u001b[0;36m0\u001b[0m\u001b[0;34m]\u001b[0m\u001b[0;34m,\u001b[0m \u001b[0mpoints\u001b[0m\u001b[0;34m[\u001b[0m\u001b[0my_hc\u001b[0m \u001b[0;34m==\u001b[0m \u001b[0;36m1\u001b[0m\u001b[0;34m,\u001b[0m\u001b[0;36m1\u001b[0m\u001b[0;34m]\u001b[0m\u001b[0;34m,\u001b[0m \u001b[0ms\u001b[0m\u001b[0;34m=\u001b[0m\u001b[0;36m100\u001b[0m\u001b[0;34m,\u001b[0m \u001b[0mc\u001b[0m\u001b[0;34m=\u001b[0m\u001b[0;34m'black'\u001b[0m\u001b[0;34m)\u001b[0m\u001b[0;34m\u001b[0m\u001b[0m\n\u001b[1;32m      4\u001b[0m \u001b[0mplt\u001b[0m\u001b[0;34m.\u001b[0m\u001b[0mscatter\u001b[0m\u001b[0;34m(\u001b[0m\u001b[0mpoints\u001b[0m\u001b[0;34m[\u001b[0m\u001b[0my_hc\u001b[0m \u001b[0;34m==\u001b[0m\u001b[0;36m2\u001b[0m\u001b[0;34m,\u001b[0m\u001b[0;36m0\u001b[0m\u001b[0;34m]\u001b[0m\u001b[0;34m,\u001b[0m \u001b[0mpoints\u001b[0m\u001b[0;34m[\u001b[0m\u001b[0my_hc\u001b[0m \u001b[0;34m==\u001b[0m \u001b[0;36m2\u001b[0m\u001b[0;34m,\u001b[0m\u001b[0;36m1\u001b[0m\u001b[0;34m]\u001b[0m\u001b[0;34m,\u001b[0m \u001b[0ms\u001b[0m\u001b[0;34m=\u001b[0m\u001b[0;36m100\u001b[0m\u001b[0;34m,\u001b[0m \u001b[0mc\u001b[0m\u001b[0;34m=\u001b[0m\u001b[0;34m'blue'\u001b[0m\u001b[0;34m)\u001b[0m\u001b[0;34m\u001b[0m\u001b[0m\n\u001b[1;32m      5\u001b[0m \u001b[0mplt\u001b[0m\u001b[0;34m.\u001b[0m\u001b[0mscatter\u001b[0m\u001b[0;34m(\u001b[0m\u001b[0mpoints\u001b[0m\u001b[0;34m[\u001b[0m\u001b[0my_hc\u001b[0m \u001b[0;34m==\u001b[0m\u001b[0;36m3\u001b[0m\u001b[0;34m,\u001b[0m\u001b[0;36m0\u001b[0m\u001b[0;34m]\u001b[0m\u001b[0;34m,\u001b[0m \u001b[0mpoints\u001b[0m\u001b[0;34m[\u001b[0m\u001b[0my_hc\u001b[0m \u001b[0;34m==\u001b[0m \u001b[0;36m3\u001b[0m\u001b[0;34m,\u001b[0m\u001b[0;36m1\u001b[0m\u001b[0;34m]\u001b[0m\u001b[0;34m,\u001b[0m \u001b[0ms\u001b[0m\u001b[0;34m=\u001b[0m\u001b[0;36m100\u001b[0m\u001b[0;34m,\u001b[0m \u001b[0mc\u001b[0m\u001b[0;34m=\u001b[0m\u001b[0;34m'cyan'\u001b[0m\u001b[0;34m)\u001b[0m\u001b[0;34m\u001b[0m\u001b[0m\n",
      "\u001b[0;31mNameError\u001b[0m: name 'points' is not defined"
     ]
    }
   ],
   "source": [
    "from matplotlib import pyplot as plt\n",
    "plt.scatter(points[y_hc ==0,0], points[y_hc == 0,1], s=100, c='red')\n",
    "plt.scatter(points[y_hc==1,0], points[y_hc == 1,1], s=100, c='black')\n",
    "plt.scatter(points[y_hc ==2,0], points[y_hc == 2,1], s=100, c='blue')\n",
    "plt.scatter(points[y_hc ==3,0], points[y_hc == 3,1], s=100, c='cyan')"
   ]
  },
  {
   "cell_type": "code",
   "execution_count": 99,
   "metadata": {},
   "outputs": [],
   "source": [
    "def get_accuracy_cluster(expected, predicted):\n",
    "    label_count_map = {}\n",
    "    for true_label, pred_label in zip(expected, predicted):\n",
    "        key = \"p\" + str(pred_label) + \"e\"  + str(true_label)\n",
    "        if key in label_count_map:\n",
    "            label_count_map[key] = label_count_map[key]+1\n",
    "        else:\n",
    "            label_count_map[key] = 1\n",
    "    #print(label_count_map)\n",
    "    import collections\n",
    "    od = collections.OrderedDict(sorted(label_count_map.items()))\n",
    "    print(od)\n",
    "    final_label_map = {}\n",
    "    final_label_count_map = {}\n",
    "    marked = []\n",
    "    for key, value in od.items():\n",
    "        #print(key, value)\n",
    "        pred_label = \"\"\n",
    "        true_label = \"\"\n",
    "        e_flag = 0\n",
    "        for k in range(0, len(key)):\n",
    "            if key[k] != \"p\" and key[k] != \"e\" and e_flag == 0:\n",
    "               pred_label = pred_label+key[k]\n",
    "            elif key[k] != \"p\" and key[k] != \"e\" and e_flag == 1:\n",
    "               true_label = true_label+key[k]\n",
    "            elif key[k] == \"e\":\n",
    "                e_flag = 1\n",
    "        #print(\"pred is \", pred_label+ \", true is \" + true_label)\n",
    "        \n",
    "            #break\n",
    "        if pred_label not in final_label_map:\n",
    "            if true_label in final_label_map.values() :\n",
    "                #print(\"final map tie is \", final_label_map)\n",
    "                #print(\"pred is \", pred_label+ \", true is \" + true_label)\n",
    "                marked.append(key)\n",
    "            else:\n",
    "                final_label_count_map[pred_label] = value\n",
    "                final_label_map[pred_label] = true_label\n",
    "                if pred_label in marked:\n",
    "                    marked.remove(key)\n",
    "        elif final_label_count_map[pred_label] <= value:\n",
    "            if true_label in final_label_map.values() :\n",
    "                #print(\"final map tie is \", final_label_map)\n",
    "                #print(\"pred is \", pred_label+ \", true is \" + true_label)\n",
    "                marked.append(key)\n",
    "            else :\n",
    "                final_label_count_map[pred_label] = value\n",
    "                final_label_map[pred_label] = true_label\n",
    "                if pred_label in marked:\n",
    "                    marked.remove(key)\n",
    "\n",
    "    print(\"final map is \", final_label_map)\n",
    "    print(\"final map key  \", final_label_map.keys())\n",
    "    print(\"pred labels not added \", marked)\n",
    "    err = 0\n",
    "    for true_label, pred_label in zip(expected, predicted):\n",
    "        #print(pred_label)\n",
    "        if str(pred_label) not in final_label_map or final_label_map[str(pred_label)] != str(true_label):\n",
    "            err = err +1\n",
    "    #print(\"Total errors \", err)  \n",
    "    return 100- err*100/len(predicted)"
   ]
  },
  {
   "cell_type": "code",
   "execution_count": 102,
   "metadata": {},
   "outputs": [
    {
     "name": "stdout",
     "output_type": "stream",
     "text": [
      "OrderedDict([('p0e0', 2), ('p0e1', 3), ('p0e10', 3), ('p0e11', 2), ('p0e12', 3), ('p0e13', 2), ('p0e14', 1), ('p0e15', 5), ('p0e17', 1), ('p0e18', 1), ('p0e19', 2), ('p0e2', 2), ('p0e20', 1), ('p0e21', 3), ('p0e22', 2), ('p0e23', 1), ('p0e24', 1), ('p0e3', 2), ('p0e4', 4), ('p0e5', 3), ('p0e6', 3), ('p0e7', 1), ('p0e8', 2), ('p10e0', 3), ('p10e1', 2), ('p10e10', 4), ('p10e11', 1), ('p10e12', 3), ('p10e13', 1), ('p10e14', 1), ('p10e15', 3), ('p10e16', 1), ('p10e18', 1), ('p10e19', 1), ('p10e2', 2), ('p10e20', 2), ('p10e23', 1), ('p10e24', 4), ('p10e3', 1), ('p10e4', 3), ('p10e5', 3), ('p10e6', 3), ('p10e7', 2), ('p10e8', 2), ('p11e0', 1), ('p11e10', 1), ('p11e12', 2), ('p11e13', 1), ('p11e14', 1), ('p11e17', 1), ('p11e18', 1), ('p11e19', 1), ('p11e2', 1), ('p11e22', 1), ('p11e23', 1), ('p11e3', 1), ('p11e5', 1), ('p11e6', 1), ('p11e8', 1), ('p12e0', 1), ('p12e1', 2), ('p12e10', 1), ('p12e11', 1), ('p12e12', 4), ('p12e13', 1), ('p12e15', 2), ('p12e16', 1), ('p12e17', 3), ('p12e18', 1), ('p12e20', 2), ('p12e21', 2), ('p12e22', 1), ('p12e23', 2), ('p12e3', 1), ('p12e4', 3), ('p12e5', 2), ('p12e6', 4), ('p12e8', 1), ('p13e1', 2), ('p13e10', 4), ('p13e11', 1), ('p13e12', 1), ('p13e13', 1), ('p13e14', 3), ('p13e15', 1), ('p13e16', 1), ('p13e18', 1), ('p13e19', 1), ('p13e2', 1), ('p13e21', 3), ('p13e22', 1), ('p13e23', 1), ('p13e24', 6), ('p13e3', 1), ('p13e4', 1), ('p13e5', 2), ('p13e6', 4), ('p13e7', 4), ('p13e8', 3), ('p14e1', 4), ('p14e10', 4), ('p14e12', 4), ('p14e13', 2), ('p14e14', 1), ('p14e16', 1), ('p14e18', 2), ('p14e19', 4), ('p14e2', 2), ('p14e21', 3), ('p14e22', 1), ('p14e23', 1), ('p14e24', 6), ('p14e3', 3), ('p14e4', 4), ('p14e5', 5), ('p14e6', 6), ('p14e7', 2), ('p15e0', 2), ('p15e1', 1), ('p15e10', 1), ('p15e12', 2), ('p15e14', 1), ('p15e15', 1), ('p15e17', 2), ('p15e2', 1), ('p15e20', 2), ('p15e21', 2), ('p15e22', 4), ('p15e23', 1), ('p15e3', 1), ('p15e4', 4), ('p15e5', 1), ('p15e6', 6), ('p15e7', 3), ('p15e8', 2), ('p16e0', 3), ('p16e10', 1), ('p16e11', 1), ('p16e13', 2), ('p16e14', 2), ('p16e15', 2), ('p16e19', 1), ('p16e2', 1), ('p16e23', 2), ('p16e3', 1), ('p16e4', 3), ('p16e5', 1), ('p16e6', 1), ('p16e7', 6), ('p16e8', 1), ('p17e0', 2), ('p17e1', 2), ('p17e10', 1), ('p17e11', 2), ('p17e12', 3), ('p17e13', 1), ('p17e14', 1), ('p17e15', 2), ('p17e18', 1), ('p17e21', 1), ('p17e22', 1), ('p17e23', 2), ('p17e24', 2), ('p17e4', 1), ('p17e5', 2), ('p17e7', 1), ('p17e8', 3), ('p18e0', 2), ('p18e1', 2), ('p18e10', 1), ('p18e11', 1), ('p18e12', 3), ('p18e13', 1), ('p18e14', 2), ('p18e15', 4), ('p18e16', 1), ('p18e19', 3), ('p18e20', 2), ('p18e21', 1), ('p18e3', 1), ('p18e4', 1), ('p18e5', 1), ('p18e8', 3), ('p19e1', 2), ('p19e12', 1), ('p19e13', 2), ('p19e14', 1), ('p19e15', 2), ('p19e17', 1), ('p19e18', 4), ('p19e19', 1), ('p19e2', 2), ('p19e20', 1), ('p19e21', 2), ('p19e22', 1), ('p19e23', 3), ('p19e24', 1), ('p19e4', 1), ('p19e6', 3), ('p19e7', 4), ('p19e8', 2), ('p1e1', 6), ('p1e10', 4), ('p1e12', 5), ('p1e13', 1), ('p1e14', 5), ('p1e15', 4), ('p1e16', 2), ('p1e18', 1), ('p1e19', 2), ('p1e2', 2), ('p1e20', 2), ('p1e21', 5), ('p1e22', 4), ('p1e23', 1), ('p1e24', 3), ('p1e3', 6), ('p1e4', 4), ('p1e5', 2), ('p1e6', 2), ('p1e7', 4), ('p1e8', 5), ('p20e0', 1), ('p20e10', 2), ('p20e11', 1), ('p20e12', 2), ('p20e14', 3), ('p20e15', 3), ('p20e19', 2), ('p20e2', 3), ('p20e20', 1), ('p20e21', 2), ('p20e4', 1), ('p20e5', 1), ('p20e6', 1), ('p20e7', 1), ('p21e1', 3), ('p21e10', 2), ('p21e19', 1), ('p21e2', 1), ('p21e21', 2), ('p21e22', 1), ('p21e23', 2), ('p21e24', 1), ('p21e3', 1), ('p21e4', 3), ('p21e6', 1), ('p21e7', 5), ('p22e0', 3), ('p22e1', 1), ('p22e10', 2), ('p22e11', 1), ('p22e12', 1), ('p22e13', 2), ('p22e15', 2), ('p22e16', 1), ('p22e19', 1), ('p22e2', 3), ('p22e20', 2), ('p22e4', 1), ('p22e5', 2), ('p22e6', 3), ('p22e7', 3), ('p22e8', 1), ('p23e0', 2), ('p23e1', 2), ('p23e10', 2), ('p23e11', 4), ('p23e12', 1), ('p23e13', 1), ('p23e15', 2), ('p23e17', 1), ('p23e18', 2), ('p23e19', 2), ('p23e2', 1), ('p23e21', 3), ('p23e23', 3), ('p23e24', 2), ('p23e4', 5), ('p23e5', 1), ('p23e6', 1), ('p23e7', 5), ('p23e8', 3), ('p2e0', 1), ('p2e1', 6), ('p2e10', 1), ('p2e13', 3), ('p2e14', 3), ('p2e15', 1), ('p2e18', 4), ('p2e19', 1), ('p2e2', 3), ('p2e20', 1), ('p2e21', 3), ('p2e22', 1), ('p2e23', 2), ('p2e24', 3), ('p2e3', 1), ('p2e4', 8), ('p2e6', 4), ('p2e7', 4), ('p2e8', 3), ('p3e0', 2), ('p3e1', 5), ('p3e10', 2), ('p3e11', 1), ('p3e12', 8), ('p3e13', 4), ('p3e14', 1), ('p3e15', 1), ('p3e16', 2), ('p3e17', 1), ('p3e18', 1), ('p3e19', 1), ('p3e2', 4), ('p3e20', 5), ('p3e21', 7), ('p3e23', 1), ('p3e24', 5), ('p3e3', 2), ('p3e4', 6), ('p3e5', 3), ('p3e6', 2), ('p3e7', 5), ('p3e8', 5), ('p4e1', 2), ('p4e10', 2), ('p4e11', 2), ('p4e12', 1), ('p4e14', 1), ('p4e15', 3), ('p4e17', 2), ('p4e18', 1), ('p4e19', 2), ('p4e2', 3), ('p4e20', 2), ('p4e22', 2), ('p4e23', 4), ('p4e24', 2), ('p4e3', 2), ('p4e4', 4), ('p4e6', 2), ('p4e7', 3), ('p4e8', 1), ('p5e0', 2), ('p5e1', 4), ('p5e11', 1), ('p5e12', 1), ('p5e13', 2), ('p5e14', 2), ('p5e15', 5), ('p5e16', 2), ('p5e17', 1), ('p5e18', 1), ('p5e22', 2), ('p5e3', 1), ('p5e4', 2), ('p5e5', 1), ('p5e7', 1), ('p6e0', 5), ('p6e1', 4), ('p6e11', 1), ('p6e12', 5), ('p6e13', 1), ('p6e14', 1), ('p6e15', 3), ('p6e16', 1), ('p6e17', 2), ('p6e18', 3), ('p6e19', 3), ('p6e2', 2), ('p6e20', 4), ('p6e21', 4), ('p6e22', 1), ('p6e23', 2), ('p6e24', 5), ('p6e3', 2), ('p6e4', 2), ('p6e5', 3), ('p6e6', 3), ('p6e7', 3), ('p6e8', 2), ('p7e0', 5), ('p7e1', 2), ('p7e10', 1), ('p7e12', 3), ('p7e13', 1), ('p7e14', 2), ('p7e15', 5), ('p7e16', 3), ('p7e17', 1), ('p7e18', 2), ('p7e19', 4), ('p7e2', 2), ('p7e20', 1), ('p7e21', 6), ('p7e22', 1), ('p7e23', 1), ('p7e24', 2), ('p7e3', 3), ('p7e4', 4), ('p7e5', 2), ('p7e6', 1), ('p7e7', 1), ('p8e0', 6), ('p8e1', 2), ('p8e10', 4), ('p8e11', 1), ('p8e12', 5), ('p8e13', 2), ('p8e14', 2), ('p8e15', 5), ('p8e16', 1), ('p8e17', 1), ('p8e18', 1), ('p8e19', 3), ('p8e2', 2), ('p8e20', 1), ('p8e21', 4), ('p8e22', 2), ('p8e23', 3), ('p8e24', 2), ('p8e3', 2), ('p8e4', 5), ('p8e5', 1), ('p8e6', 2), ('p8e7', 3), ('p8e8', 3), ('p9e0', 1), ('p9e1', 5), ('p9e10', 2), ('p9e11', 2), ('p9e12', 5), ('p9e13', 1), ('p9e14', 1), ('p9e15', 2), ('p9e16', 1), ('p9e17', 1), ('p9e18', 2), ('p9e19', 3), ('p9e2', 2), ('p9e21', 2), ('p9e23', 2), ('p9e24', 1), ('p9e3', 2), ('p9e4', 1), ('p9e6', 1), ('p9e7', 1)])\n",
      "final map is  {'5': '22', '17': '8', '13': '7', '0': '15', '18': '19', '7': '16', '19': '18', '6': '17', '23': '11', '10': '24', '16': '0', '15': '4', '11': '12', '8': '10', '3': '13', '1': '3', '14': '5', '20': '2', '22': '20', '21': '1', '2': '21', '12': '6', '9': '14', '4': '23'}\n",
      "final map key   dict_keys(['5', '17', '13', '0', '18', '7', '19', '6', '23', '10', '16', '15', '11', '8', '3', '1', '14', '20', '22', '21', '2', '12', '9', '4'])\n",
      "pred labels not added  ['p12e12', 'p12e15', 'p13e24', 'p13e6', 'p14e12', 'p14e24', 'p14e6', 'p15e12', 'p15e6', 'p16e4', 'p16e7', 'p17e0', 'p17e12', 'p17e15', 'p17e24', 'p17e5', 'p18e0', 'p18e12', 'p18e15', 'p18e8', 'p19e15', 'p19e7', 'p20e0', 'p20e12', 'p20e15', 'p21e4', 'p21e7', 'p22e0', 'p22e1', 'p22e15', 'p22e2', 'p22e5', 'p22e6', 'p22e7', 'p23e0', 'p23e1', 'p23e4', 'p23e7', 'p2e0', 'p2e1', 'p2e18', 'p2e2', 'p2e24', 'p2e4', 'p2e6', 'p2e7', 'p2e8', 'p3e0', 'p3e1', 'p3e12', 'p3e2', 'p3e20', 'p3e21', 'p3e24', 'p3e4', 'p3e7', 'p3e8', 'p4e1', 'p4e11', 'p4e15', 'p4e19', 'p4e2', 'p4e20', 'p4e4', 'p5e0', 'p5e1', 'p5e11', 'p5e12', 'p5e13', 'p5e15', 'p5e4', 'p6e0', 'p6e1', 'p6e11', 'p6e12', 'p6e13', 'p6e15', 'p6e18', 'p6e19', 'p6e2', 'p6e20', 'p6e21', 'p6e23', 'p6e24', 'p6e3', 'p6e4', 'p6e5', 'p6e6', 'p6e7', 'p6e8', 'p7e0', 'p7e1', 'p7e12', 'p7e13', 'p7e15', 'p7e19', 'p7e21', 'p7e3', 'p7e4', 'p8e0', 'p8e1', 'p8e12', 'p8e15', 'p8e21', 'p8e4', 'p9e0', 'p9e1', 'p9e10', 'p9e11', 'p9e12', 'p9e13', 'p9e15', 'p9e16', 'p9e17', 'p9e18', 'p9e19', 'p9e2', 'p9e21', 'p9e23', 'p9e24', 'p9e3', 'p9e4', 'p9e6', 'p9e7']\n",
      "labels set  {0, 1, 2, 3, 4, 5, 6, 7, 8, 9, 10, 11, 12, 13, 14, 15, 16, 17, 18, 19, 20, 21, 22, 23}\n",
      "Accuracy of Hierachichal clustering without feature extraction is  8.200000000000003 %\n"
     ]
    }
   ],
   "source": [
    "acc = get_accuracy_cluster(asl_data.test_y[0:1000], y_hc[0:1000])\n",
    "#print(set(asl_data.test_y))\n",
    "print(\"labels set \", set(y_hc))\n",
    "print(\"Accuracy of Hierachichal clustering without feature extraction is \", acc, \"%\")"
   ]
  },
  {
   "cell_type": "code",
   "execution_count": 103,
   "metadata": {},
   "outputs": [],
   "source": [
    "# sklearn skimage\n",
    "from skimage import feature\n",
    "\n",
    "# Histogram of Oriented Gradients\n",
    "class HOG:\n",
    "\tdef __init__(self, orientations = 9, pixelsPerCell = (9, 9),\n",
    "\t\tcellsPerBlock = (3, 3), block_norm = 'L2-Hys'):  \n",
    "\t\tself.orientations = orientations\n",
    "\t\tself.pixelsPerCell = pixelsPerCell\n",
    "\t\tself.cellsPerBlock = cellsPerBlock\n",
    "\t\tself.block_norm = block_norm    # changing from default to L2-Hys, improved a lot\n",
    "\n",
    "\tdef describe(self, image):\n",
    "\t\t# compute HOG for the image\n",
    "\t\thist = feature.hog(image, orientations = self.orientations,\n",
    "\t\t\tpixels_per_cell = self.pixelsPerCell,\n",
    "\t\t\tcells_per_block = self.cellsPerBlock,\n",
    "\t\t\tblock_norm = self.block_norm) \n",
    "\n",
    "\t\t# return the HOG features\n",
    "\t\treturn hist"
   ]
  },
  {
   "cell_type": "code",
   "execution_count": 104,
   "metadata": {},
   "outputs": [],
   "source": [
    "import numpy as np # linear algebra\n",
    "import cv2\n",
    "import os\n",
    "from matplotlib import pyplot as plt\n",
    "from skimage import color\n",
    "from skimage.feature import hog\n",
    "from sklearn import svm\n",
    "from sklearn.metrics import classification_report,accuracy_score\n",
    "\n",
    "\n",
    "ppc = 16\n",
    "hog_images = []\n",
    "hog_features = []\n",
    "i = 0\n",
    "hog = HOG(orientations = 3, pixelsPerCell = (2, 2),cellsPerBlock = (4, 4), block_norm = 'L2-Hys')\n",
    "hist_data = []  \n",
    "for x,y in zip(asl_data.train_x, asl_data.train_y):\n",
    "    fname = \"img{}\".format(i)+\".jpg\"\n",
    "    cv2.imwrite(fname, x.reshape(28,28))\n",
    "    img = cv2.imread(fname)\n",
    "    os.remove(fname)\n",
    "    gray= cv2.cvtColor(img, cv2.COLOR_BGR2GRAY)\n",
    "    #fd,hog_image = hog(gray, orientations=8, pixels_per_cell=(ppc,ppc),cells_per_block=(4, 4),block_norm= 'L2')\n",
    "    hist = hog.describe(gray)\n",
    "    hist_data.append(hist)\n"
   ]
  },
  {
   "cell_type": "code",
   "execution_count": 105,
   "metadata": {},
   "outputs": [
    {
     "data": {
      "image/png": "[encoded data removed]",
      "text/plain": [
       "<Figure size 432x288 with 1 Axes>"
      ]
     },
     "metadata": {
      "needs_background": "light"
     },
     "output_type": "display_data"
    }
   ],
   "source": [
    "# create dendrogram\n",
    "dendrogram_hog = sch.dendrogram(sch.linkage(hist_data, method='ward'))\n",
    "# create clusters\n",
    "hc_with_hog = AgglomerativeClustering(n_clusters=24, affinity = 'euclidean', linkage = 'ward')\n"
   ]
  },
  {
   "cell_type": "code",
   "execution_count": 106,
   "metadata": {},
   "outputs": [],
   "source": [
    "hist_data_test = []  \n",
    "for d in asl_data.test_x:\n",
    "    fname = \"img{}\".format(i)+\".jpg\"\n",
    "    cv2.imwrite(fname, d.reshape(28,28))\n",
    "    img = cv2.imread(fname)\n",
    "    os.remove(fname)\n",
    "    gray= cv2.cvtColor(img, cv2.COLOR_BGR2GRAY)\n",
    "    #fd,hog_image = hog(gray, orientations=8, pixels_per_cell=(ppc,ppc),cells_per_block=(4, 4),block_norm= 'L2')\n",
    "    hist = hog.describe(gray)\n",
    "    hist_data_test.append(hist)"
   ]
  },
  {
   "cell_type": "code",
   "execution_count": 107,
   "metadata": {},
   "outputs": [
    {
     "ename": "MemoryError",
     "evalue": "",
     "output_type": "error",
     "traceback": [
      "\u001b[0;31m---------------------------------------------------------------------------\u001b[0m",
      "\u001b[0;31mMemoryError\u001b[0m                               Traceback (most recent call last)",
      "\u001b[0;32m<ipython-input-107-377f9f69e79d>\u001b[0m in \u001b[0;36m<module>\u001b[0;34m()\u001b[0m\n\u001b[1;32m      1\u001b[0m \u001b[0;32mimport\u001b[0m \u001b[0mnumpy\u001b[0m \u001b[0;32mas\u001b[0m \u001b[0mnp\u001b[0m\u001b[0;34m\u001b[0m\u001b[0m\n\u001b[1;32m      2\u001b[0m \u001b[0;31m# save clusters for chart\u001b[0m\u001b[0;34m\u001b[0m\u001b[0;34m\u001b[0m\u001b[0m\n\u001b[0;32m----> 3\u001b[0;31m \u001b[0my_hc_hog\u001b[0m \u001b[0;34m=\u001b[0m \u001b[0mhc_with_hog\u001b[0m\u001b[0;34m.\u001b[0m\u001b[0mfit_predict\u001b[0m\u001b[0;34m(\u001b[0m\u001b[0mnp\u001b[0m\u001b[0;34m.\u001b[0m\u001b[0mreshape\u001b[0m\u001b[0;34m(\u001b[0m\u001b[0mhist_data_test\u001b[0m\u001b[0;34m,\u001b[0m \u001b[0;34m(\u001b[0m\u001b[0;34m-\u001b[0m\u001b[0;36m1\u001b[0m\u001b[0;34m,\u001b[0m \u001b[0;36m2\u001b[0m\u001b[0;34m)\u001b[0m\u001b[0;34m)\u001b[0m\u001b[0;34m)\u001b[0m\u001b[0;34m\u001b[0m\u001b[0m\n\u001b[0m\u001b[1;32m      4\u001b[0m \u001b[0mprint\u001b[0m\u001b[0;34m(\u001b[0m\u001b[0my_hc_hog\u001b[0m\u001b[0;34m)\u001b[0m\u001b[0;34m\u001b[0m\u001b[0m\n",
      "\u001b[0;32m~/anaconda3/lib/python3.5/site-packages/sklearn/base.py\u001b[0m in \u001b[0;36mfit_predict\u001b[0;34m(self, X, y)\u001b[0m\n\u001b[1;32m    408\u001b[0m         \u001b[0;31m# non-optimized default implementation; override when a better\u001b[0m\u001b[0;34m\u001b[0m\u001b[0;34m\u001b[0m\u001b[0m\n\u001b[1;32m    409\u001b[0m         \u001b[0;31m# method is possible for a given clustering algorithm\u001b[0m\u001b[0;34m\u001b[0m\u001b[0;34m\u001b[0m\u001b[0m\n\u001b[0;32m--> 410\u001b[0;31m         \u001b[0mself\u001b[0m\u001b[0;34m.\u001b[0m\u001b[0mfit\u001b[0m\u001b[0;34m(\u001b[0m\u001b[0mX\u001b[0m\u001b[0;34m)\u001b[0m\u001b[0;34m\u001b[0m\u001b[0m\n\u001b[0m\u001b[1;32m    411\u001b[0m         \u001b[0;32mreturn\u001b[0m \u001b[0mself\u001b[0m\u001b[0;34m.\u001b[0m\u001b[0mlabels_\u001b[0m\u001b[0;34m\u001b[0m\u001b[0m\n\u001b[1;32m    412\u001b[0m \u001b[0;34m\u001b[0m\u001b[0m\n",
      "\u001b[0;32m~/anaconda3/lib/python3.5/site-packages/sklearn/cluster/hierarchical.py\u001b[0m in \u001b[0;36mfit\u001b[0;34m(self, X, y)\u001b[0m\n\u001b[1;32m    740\u001b[0m             memory.cache(tree_builder)(X, connectivity,\n\u001b[1;32m    741\u001b[0m                                        \u001b[0mn_clusters\u001b[0m\u001b[0;34m=\u001b[0m\u001b[0mn_clusters\u001b[0m\u001b[0;34m,\u001b[0m\u001b[0;34m\u001b[0m\u001b[0m\n\u001b[0;32m--> 742\u001b[0;31m                                        **kwargs)\n\u001b[0m\u001b[1;32m    743\u001b[0m         \u001b[0;31m# Cut the tree\u001b[0m\u001b[0;34m\u001b[0m\u001b[0;34m\u001b[0m\u001b[0m\n\u001b[1;32m    744\u001b[0m         \u001b[0;32mif\u001b[0m \u001b[0mcompute_full_tree\u001b[0m\u001b[0;34m:\u001b[0m\u001b[0;34m\u001b[0m\u001b[0m\n",
      "\u001b[0;32m~/anaconda3/lib/python3.5/site-packages/sklearn/externals/joblib/memory.py\u001b[0m in \u001b[0;36m__call__\u001b[0;34m(self, *args, **kwargs)\u001b[0m\n\u001b[1;32m    360\u001b[0m \u001b[0;34m\u001b[0m\u001b[0m\n\u001b[1;32m    361\u001b[0m     \u001b[0;32mdef\u001b[0m \u001b[0m__call__\u001b[0m\u001b[0;34m(\u001b[0m\u001b[0mself\u001b[0m\u001b[0;34m,\u001b[0m \u001b[0;34m*\u001b[0m\u001b[0margs\u001b[0m\u001b[0;34m,\u001b[0m \u001b[0;34m**\u001b[0m\u001b[0mkwargs\u001b[0m\u001b[0;34m)\u001b[0m\u001b[0;34m:\u001b[0m\u001b[0;34m\u001b[0m\u001b[0m\n\u001b[0;32m--> 362\u001b[0;31m         \u001b[0;32mreturn\u001b[0m \u001b[0mself\u001b[0m\u001b[0;34m.\u001b[0m\u001b[0mfunc\u001b[0m\u001b[0;34m(\u001b[0m\u001b[0;34m*\u001b[0m\u001b[0margs\u001b[0m\u001b[0;34m,\u001b[0m \u001b[0;34m**\u001b[0m\u001b[0mkwargs\u001b[0m\u001b[0;34m)\u001b[0m\u001b[0;34m\u001b[0m\u001b[0m\n\u001b[0m\u001b[1;32m    363\u001b[0m \u001b[0;34m\u001b[0m\u001b[0m\n\u001b[1;32m    364\u001b[0m     \u001b[0;32mdef\u001b[0m \u001b[0mcall_and_shelve\u001b[0m\u001b[0;34m(\u001b[0m\u001b[0mself\u001b[0m\u001b[0;34m,\u001b[0m \u001b[0;34m*\u001b[0m\u001b[0margs\u001b[0m\u001b[0;34m,\u001b[0m \u001b[0;34m**\u001b[0m\u001b[0mkwargs\u001b[0m\u001b[0;34m)\u001b[0m\u001b[0;34m:\u001b[0m\u001b[0;34m\u001b[0m\u001b[0m\n",
      "\u001b[0;32m~/anaconda3/lib/python3.5/site-packages/sklearn/cluster/hierarchical.py\u001b[0m in \u001b[0;36mward_tree\u001b[0;34m(X, connectivity, n_clusters, return_distance)\u001b[0m\n\u001b[1;32m    181\u001b[0m                           \u001b[0;34m'for the specified number of clusters'\u001b[0m\u001b[0;34m,\u001b[0m\u001b[0;34m\u001b[0m\u001b[0m\n\u001b[1;32m    182\u001b[0m                           stacklevel=2)\n\u001b[0;32m--> 183\u001b[0;31m         \u001b[0mout\u001b[0m \u001b[0;34m=\u001b[0m \u001b[0mhierarchy\u001b[0m\u001b[0;34m.\u001b[0m\u001b[0mward\u001b[0m\u001b[0;34m(\u001b[0m\u001b[0mX\u001b[0m\u001b[0;34m)\u001b[0m\u001b[0;34m\u001b[0m\u001b[0m\n\u001b[0m\u001b[1;32m    184\u001b[0m         \u001b[0mchildren_\u001b[0m \u001b[0;34m=\u001b[0m \u001b[0mout\u001b[0m\u001b[0;34m[\u001b[0m\u001b[0;34m:\u001b[0m\u001b[0;34m,\u001b[0m \u001b[0;34m:\u001b[0m\u001b[0;36m2\u001b[0m\u001b[0;34m]\u001b[0m\u001b[0;34m.\u001b[0m\u001b[0mastype\u001b[0m\u001b[0;34m(\u001b[0m\u001b[0mnp\u001b[0m\u001b[0;34m.\u001b[0m\u001b[0mintp\u001b[0m\u001b[0;34m)\u001b[0m\u001b[0;34m\u001b[0m\u001b[0m\n\u001b[1;32m    185\u001b[0m \u001b[0;34m\u001b[0m\u001b[0m\n",
      "\u001b[0;32m~/anaconda3/lib/python3.5/site-packages/scipy/cluster/hierarchy.py\u001b[0m in \u001b[0;36mward\u001b[0;34m(y)\u001b[0m\n\u001b[1;32m    480\u001b[0m \u001b[0;34m\u001b[0m\u001b[0m\n\u001b[1;32m    481\u001b[0m     \"\"\"\n\u001b[0;32m--> 482\u001b[0;31m     \u001b[0;32mreturn\u001b[0m \u001b[0mlinkage\u001b[0m\u001b[0;34m(\u001b[0m\u001b[0my\u001b[0m\u001b[0;34m,\u001b[0m \u001b[0mmethod\u001b[0m\u001b[0;34m=\u001b[0m\u001b[0;34m'ward'\u001b[0m\u001b[0;34m,\u001b[0m \u001b[0mmetric\u001b[0m\u001b[0;34m=\u001b[0m\u001b[0;34m'euclidean'\u001b[0m\u001b[0;34m)\u001b[0m\u001b[0;34m\u001b[0m\u001b[0m\n\u001b[0m\u001b[1;32m    483\u001b[0m \u001b[0;34m\u001b[0m\u001b[0m\n\u001b[1;32m    484\u001b[0m \u001b[0;34m\u001b[0m\u001b[0m\n",
      "\u001b[0;32m~/anaconda3/lib/python3.5/site-packages/scipy/cluster/hierarchy.py\u001b[0m in \u001b[0;36mlinkage\u001b[0;34m(y, method, metric, optimal_ordering)\u001b[0m\n\u001b[1;32m    706\u001b[0m                          \u001b[0;34m'matrix looks suspiciously like an uncondensed '\u001b[0m\u001b[0;34m\u001b[0m\u001b[0m\n\u001b[1;32m    707\u001b[0m                          'distance matrix')\n\u001b[0;32m--> 708\u001b[0;31m         \u001b[0my\u001b[0m \u001b[0;34m=\u001b[0m \u001b[0mdistance\u001b[0m\u001b[0;34m.\u001b[0m\u001b[0mpdist\u001b[0m\u001b[0;34m(\u001b[0m\u001b[0my\u001b[0m\u001b[0;34m,\u001b[0m \u001b[0mmetric\u001b[0m\u001b[0;34m)\u001b[0m\u001b[0;34m\u001b[0m\u001b[0m\n\u001b[0m\u001b[1;32m    709\u001b[0m     \u001b[0;32melse\u001b[0m\u001b[0;34m:\u001b[0m\u001b[0;34m\u001b[0m\u001b[0m\n\u001b[1;32m    710\u001b[0m         \u001b[0;32mraise\u001b[0m \u001b[0mValueError\u001b[0m\u001b[0;34m(\u001b[0m\u001b[0;34m\"`y` must be 1 or 2 dimensional.\"\u001b[0m\u001b[0;34m)\u001b[0m\u001b[0;34m\u001b[0m\u001b[0m\n",
      "\u001b[0;32m~/anaconda3/lib/python3.5/site-packages/scipy/spatial/distance.py\u001b[0m in \u001b[0;36mpdist\u001b[0;34m(X, metric, *args, **kwargs)\u001b[0m\n\u001b[1;32m   1875\u001b[0m     \u001b[0mout\u001b[0m \u001b[0;34m=\u001b[0m \u001b[0mkwargs\u001b[0m\u001b[0;34m.\u001b[0m\u001b[0mpop\u001b[0m\u001b[0;34m(\u001b[0m\u001b[0;34m\"out\"\u001b[0m\u001b[0;34m,\u001b[0m \u001b[0;32mNone\u001b[0m\u001b[0;34m)\u001b[0m\u001b[0;34m\u001b[0m\u001b[0m\n\u001b[1;32m   1876\u001b[0m     \u001b[0;32mif\u001b[0m \u001b[0mout\u001b[0m \u001b[0;32mis\u001b[0m \u001b[0;32mNone\u001b[0m\u001b[0;34m:\u001b[0m\u001b[0;34m\u001b[0m\u001b[0m\n\u001b[0;32m-> 1877\u001b[0;31m         \u001b[0mdm\u001b[0m \u001b[0;34m=\u001b[0m \u001b[0mnp\u001b[0m\u001b[0;34m.\u001b[0m\u001b[0mempty\u001b[0m\u001b[0;34m(\u001b[0m\u001b[0;34m(\u001b[0m\u001b[0mm\u001b[0m \u001b[0;34m*\u001b[0m \u001b[0;34m(\u001b[0m\u001b[0mm\u001b[0m \u001b[0;34m-\u001b[0m \u001b[0;36m1\u001b[0m\u001b[0;34m)\u001b[0m\u001b[0;34m)\u001b[0m \u001b[0;34m//\u001b[0m \u001b[0;36m2\u001b[0m\u001b[0;34m,\u001b[0m \u001b[0mdtype\u001b[0m\u001b[0;34m=\u001b[0m\u001b[0mnp\u001b[0m\u001b[0;34m.\u001b[0m\u001b[0mdouble\u001b[0m\u001b[0;34m)\u001b[0m\u001b[0;34m\u001b[0m\u001b[0m\n\u001b[0m\u001b[1;32m   1878\u001b[0m     \u001b[0;32melse\u001b[0m\u001b[0;34m:\u001b[0m\u001b[0;34m\u001b[0m\u001b[0m\n\u001b[1;32m   1879\u001b[0m         \u001b[0;32mif\u001b[0m \u001b[0mout\u001b[0m\u001b[0;34m.\u001b[0m\u001b[0mshape\u001b[0m \u001b[0;34m!=\u001b[0m \u001b[0;34m(\u001b[0m\u001b[0mm\u001b[0m \u001b[0;34m*\u001b[0m \u001b[0;34m(\u001b[0m\u001b[0mm\u001b[0m \u001b[0;34m-\u001b[0m \u001b[0;36m1\u001b[0m\u001b[0;34m)\u001b[0m \u001b[0;34m//\u001b[0m \u001b[0;36m2\u001b[0m\u001b[0;34m,\u001b[0m\u001b[0;34m)\u001b[0m\u001b[0;34m:\u001b[0m\u001b[0;34m\u001b[0m\u001b[0m\n",
      "\u001b[0;31mMemoryError\u001b[0m: "
     ]
    }
   ],
   "source": [
    "import numpy as np\n",
    "# save clusters for chart\n",
    "y_hc_hog = hc_with_hog.fit_predict(np.reshape(hist_data_test, (-1, 2)))\n",
    "print(y_hc_hog)"
   ]
  },
  {
   "cell_type": "code",
   "execution_count": null,
   "metadata": {},
   "outputs": [],
   "source": []
  }
 ],
 "metadata": {
  "kernelspec": {
   "display_name": "Python 3",
   "language": "python",
   "name": "python3"
  },
  "language_info": {
   "codemirror_mode": {
    "name": "ipython",
    "version": 3
   },
   "file_extension": ".py",
   "mimetype": "text/x-python",
   "name": "python",
   "nbconvert_exporter": "python",
   "pygments_lexer": "ipython3",
   "version": "3.5.5"
  }
 },
 "nbformat": 4,
 "nbformat_minor": 2
}

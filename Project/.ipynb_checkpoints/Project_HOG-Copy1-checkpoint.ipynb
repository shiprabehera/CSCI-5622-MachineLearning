{
 "cells": [
  {
   "cell_type": "code",
   "execution_count": 2,
   "metadata": {},
   "outputs": [],
   "source": [
    "import pandas as pd\n",
    "class Signs:\n",
    "    \"\"\"\n",
    "    Class to store MNIST data\n",
    "    \"\"\"\n",
    "    def __init__(self, location):\n",
    "\n",
    "        import pickle, gzip, collections\n",
    "\n",
    "        # load data from file \n",
    "        #data = pd.read_csv(location, 'rb',engine='python',index_col=0)\n",
    "        #X = data.drop(['label'], axis=0, inplace=True)\n",
    "        #y = data[\"label\"].values\n",
    "        data = pd.read_csv(\"data/sign_mnist_train.csv\")\n",
    "        self.train_x = data.drop(columns = \"label\").values\n",
    "        self.train_y = data[\"label\"].values\n",
    "        data = pd.read_csv(\"data/sign_mnist_test.csv\")\n",
    "        self.test_x = data.drop(columns = \"label\").values\n",
    "        self.test_y = data[\"label\"].values\n",
    "        print(\"Lenght of training data is \", len(self.train_x))\n",
    "        print(\"Lenght of testing data is \", len(self.test_x))"
   ]
  },
  {
   "cell_type": "code",
   "execution_count": 3,
   "metadata": {},
   "outputs": [
    {
     "name": "stdout",
     "output_type": "stream",
     "text": [
      "Lenght of training data is  27455\n",
      "Lenght of testing data is  7172\n"
     ]
    }
   ],
   "source": [
    "DATA_PATH = \"data/sign_mnist_train.csv\"\n",
    "asl_data = Signs(DATA_PATH)"
   ]
  },
  {
   "cell_type": "code",
   "execution_count": 49,
   "metadata": {},
   "outputs": [
    {
     "name": "stdout",
     "output_type": "stream",
     "text": [
      "Start learning at 2018-12-13 03:00:33.992145\n",
      "Stop learning 2018-12-13 03:03:06.801739\n",
      "Elapsed learning 0:02:32.809594\n"
     ]
    }
   ],
   "source": [
    "from sklearn.model_selection import train_test_split\n",
    "from sklearn import datasets, svm, metrics\n",
    "import datetime as dt\n",
    "X_train, X_test, y_train, y_test = train_test_split(asl_data.train_x, asl_data.train_y, test_size=0.15, random_state=42)\n",
    "param_C = 5\n",
    "param_gamma = 0.05\n",
    "start_time = dt.datetime.now()\n",
    "print('Start learning at {}'.format(str(start_time)))\n",
    "svm_without_fe = svm.LinearSVC()\n",
    "#classifier = svm.SVC(C=param_C,gamma=param_gamma, decision_function_shape='ovo')\n",
    "\n",
    "svm_without_fe.fit(asl_data.train_x, asl_data.train_y)\n",
    "end_time = dt.datetime.now() \n",
    "print('Stop learning {}'.format(str(end_time)))\n",
    "elapsed_time= end_time - start_time\n",
    "print('Elapsed learning {}'.format(str(elapsed_time)))"
   ]
  },
  {
   "cell_type": "code",
   "execution_count": 50,
   "metadata": {},
   "outputs": [
    {
     "name": "stdout",
     "output_type": "stream",
     "text": [
      "Accuracy of SVM without feature extraction =60.76408254322365 %\n"
     ]
    }
   ],
   "source": [
    "expected = asl_data.test_y\n",
    "predicted = svm_without_fe.predict(asl_data.test_x)\n",
    "print(\"Accuracy of SVM without feature extraction ={}\".format(metrics.accuracy_score(expected, predicted) * 100) + \" %\")"
   ]
  },
  {
   "cell_type": "code",
   "execution_count": 81,
   "metadata": {},
   "outputs": [],
   "source": [
    "def get_accuracy_cluster(expected, predicted):\n",
    "    label_count_map = {}\n",
    "    for true_label, pred_label in zip(expected, predicted):\n",
    "        key = \"p\" + str(pred_label) + \"e\"  + str(true_label)\n",
    "        if key in label_count_map:\n",
    "            label_count_map[key] = label_count_map[key]+1\n",
    "        else:\n",
    "            label_count_map[key] = 1\n",
    "    print(label_count_map)\n",
    "    import collections\n",
    "    od = collections.OrderedDict(sorted(label_count_map.items()))\n",
    "    print(od)\n",
    "    final_label_map = {}\n",
    "    final_label_count_map = {}\n",
    "    for key, value in od.items():\n",
    "        #print(key, value)\n",
    "        pred_label = \"\"\n",
    "        true_label = \"\"\n",
    "        e_flag = 0\n",
    "        for k in range(0, len(key)):\n",
    "            if key[k] != \"p\" and key[k] != \"e\" and e_flag == 0:\n",
    "               pred_label = pred_label+key[k]\n",
    "            elif key[k] != \"p\" and key[k] != \"e\" and e_flag == 1:\n",
    "               true_label = true_label+key[k]\n",
    "            elif key[k] == \"e\":\n",
    "                e_flag = 1\n",
    "        #print(\"pred is \", pred_label+ \", true is \" + true_label)\n",
    "        if pred_label not in final_label_map:\n",
    "            final_label_count_map[pred_label] = value\n",
    "            final_label_map[pred_label] = true_label\n",
    "        elif final_label_count_map[pred_label] <= value:\n",
    "            final_label_count_map[pred_label] = value\n",
    "            final_label_map[pred_label] = true_label\n",
    "\n",
    "    print(\"final map is \", final_label_map)\n",
    "    err = 0\n",
    "    for true_label, pred_label in zip(expected, predicted):\n",
    "        #print(pred_label)\n",
    "        if final_label_map[str(pred_label)] != str(true_label):\n",
    "            err = err +1\n",
    "    #print(\"Total errors \", err)  \n",
    "    return 100- err*100/len(predicted)"
   ]
  },
  {
   "cell_type": "code",
   "execution_count": 52,
   "metadata": {},
   "outputs": [],
   "source": [
    "from sklearn.cluster import KMeans\n",
    "kmeans_without_fe = KMeans(n_clusters=24).fit(asl_data.train_x)\n"
   ]
  },
  {
   "cell_type": "code",
   "execution_count": 53,
   "metadata": {},
   "outputs": [],
   "source": [
    "result = kmeans_without_fe.predict(asl_data.test_x)"
   ]
  },
  {
   "cell_type": "code",
   "execution_count": 54,
   "metadata": {},
   "outputs": [
    {
     "name": "stdout",
     "output_type": "stream",
     "text": [
      "Accuracy of Kmeans without feature extraction is  24.051868377021748 %\n"
     ]
    },
    {
     "data": {
      "text/plain": [
       "24.051868377021748"
      ]
     },
     "execution_count": 54,
     "metadata": {},
     "output_type": "execute_result"
    }
   ],
   "source": [
    "acc = get_accuracy_cluster(asl_data.test_y, result)\n",
    "print(\"Accuracy of Kmeans without feature extraction is \", acc, \"%\")\n",
    "get_accuracy_cluster(asl_data.test_y, result)"
   ]
  },
  {
   "cell_type": "code",
   "execution_count": 4,
   "metadata": {},
   "outputs": [],
   "source": [
    "# sklearn skimage\n",
    "from skimage import feature\n",
    "\n",
    "# Histogram of Oriented Gradients\n",
    "class HOG:\n",
    "\tdef __init__(self, orientations = 9, pixelsPerCell = (9, 9),\n",
    "\t\tcellsPerBlock = (3, 3), block_norm = 'L2-Hys'):  \n",
    "\t\tself.orientations = orientations\n",
    "\t\tself.pixelsPerCell = pixelsPerCell\n",
    "\t\tself.cellsPerBlock = cellsPerBlock\n",
    "\t\tself.block_norm = block_norm    # changing from default to L2-Hys, improved a lot\n",
    "\n",
    "\tdef describe(self, image):\n",
    "\t\t# compute HOG for the image\n",
    "\t\thist = feature.hog(image, orientations = self.orientations,\n",
    "\t\t\tpixels_per_cell = self.pixelsPerCell,\n",
    "\t\t\tcells_per_block = self.cellsPerBlock,\n",
    "\t\t\tblock_norm = self.block_norm) \n",
    "\n",
    "\t\t# return the HOG features\n",
    "\t\treturn hist"
   ]
  },
  {
   "cell_type": "code",
   "execution_count": 1,
   "metadata": {},
   "outputs": [
    {
     "ename": "NameError",
     "evalue": "name 'HOG' is not defined",
     "output_type": "error",
     "traceback": [
      "\u001b[0;31m---------------------------------------------------------------------------\u001b[0m",
      "\u001b[0;31mNameError\u001b[0m                                 Traceback (most recent call last)",
      "\u001b[0;32m<ipython-input-1-4450c4b9edb3>\u001b[0m in \u001b[0;36m<module>\u001b[0;34m()\u001b[0m\n\u001b[1;32m     13\u001b[0m \u001b[0mhog_features\u001b[0m \u001b[0;34m=\u001b[0m \u001b[0;34m[\u001b[0m\u001b[0;34m]\u001b[0m\u001b[0;34m\u001b[0m\u001b[0m\n\u001b[1;32m     14\u001b[0m \u001b[0mi\u001b[0m \u001b[0;34m=\u001b[0m \u001b[0;36m0\u001b[0m\u001b[0;34m\u001b[0m\u001b[0m\n\u001b[0;32m---> 15\u001b[0;31m \u001b[0mhog\u001b[0m \u001b[0;34m=\u001b[0m \u001b[0mHOG\u001b[0m\u001b[0;34m(\u001b[0m\u001b[0morientations\u001b[0m \u001b[0;34m=\u001b[0m \u001b[0;36m3\u001b[0m\u001b[0;34m,\u001b[0m \u001b[0mpixelsPerCell\u001b[0m \u001b[0;34m=\u001b[0m \u001b[0;34m(\u001b[0m\u001b[0;36m2\u001b[0m\u001b[0;34m,\u001b[0m \u001b[0;36m2\u001b[0m\u001b[0;34m)\u001b[0m\u001b[0;34m,\u001b[0m\u001b[0mcellsPerBlock\u001b[0m \u001b[0;34m=\u001b[0m \u001b[0;34m(\u001b[0m\u001b[0;36m4\u001b[0m\u001b[0;34m,\u001b[0m \u001b[0;36m4\u001b[0m\u001b[0;34m)\u001b[0m\u001b[0;34m,\u001b[0m \u001b[0mblock_norm\u001b[0m \u001b[0;34m=\u001b[0m \u001b[0;34m'L2-Hys'\u001b[0m\u001b[0;34m)\u001b[0m\u001b[0;34m\u001b[0m\u001b[0m\n\u001b[0m\u001b[1;32m     16\u001b[0m \u001b[0mhist_data\u001b[0m \u001b[0;34m=\u001b[0m \u001b[0;34m[\u001b[0m\u001b[0;34m]\u001b[0m\u001b[0;34m\u001b[0m\u001b[0m\n\u001b[1;32m     17\u001b[0m \u001b[0;32mfor\u001b[0m \u001b[0mx\u001b[0m\u001b[0;34m,\u001b[0m\u001b[0my\u001b[0m \u001b[0;32min\u001b[0m \u001b[0mzip\u001b[0m\u001b[0;34m(\u001b[0m\u001b[0masl_data\u001b[0m\u001b[0;34m.\u001b[0m\u001b[0mtrain_x\u001b[0m\u001b[0;34m,\u001b[0m \u001b[0masl_data\u001b[0m\u001b[0;34m.\u001b[0m\u001b[0mtrain_y\u001b[0m\u001b[0;34m)\u001b[0m\u001b[0;34m:\u001b[0m\u001b[0;34m\u001b[0m\u001b[0m\n",
      "\u001b[0;31mNameError\u001b[0m: name 'HOG' is not defined"
     ]
    }
   ],
   "source": [
    "import numpy as np # linear algebra\n",
    "import cv2\n",
    "import os\n",
    "from matplotlib import pyplot as plt\n",
    "from skimage import color\n",
    "from skimage.feature import hog\n",
    "from sklearn import svm\n",
    "from sklearn.metrics import classification_report,accuracy_score\n",
    "\n",
    "\n",
    "ppc = 16\n",
    "hog_images = []\n",
    "hog_features = []\n",
    "i = 0\n",
    "hog = HOG(orientations = 3, pixelsPerCell = (2, 2),cellsPerBlock = (4, 4), block_norm = 'L2-Hys')\n",
    "hist_data = []  \n",
    "for x,y in zip(asl_data.train_x, asl_data.train_y):\n",
    "    fname = \"img{}\".format(i)+\".jpg\"\n",
    "    cv2.imwrite(fname, x.reshape(28,28))\n",
    "    img = cv2.imread(fname)\n",
    "    os.remove(fname)\n",
    "    gray= cv2.cvtColor(img, cv2.COLOR_BGR2GRAY)\n",
    "    #fd,hog_image = hog(gray, orientations=8, pixels_per_cell=(ppc,ppc),cells_per_block=(4, 4),block_norm= 'L2')\n",
    "    hist = hog.describe(gray)\n",
    "    hist_data.append(hist)\n",
    "\n",
    "    "
   ]
  },
  {
   "cell_type": "code",
   "execution_count": 24,
   "metadata": {
    "scrolled": true
   },
   "outputs": [
    {
     "name": "stdout",
     "output_type": "stream",
     "text": [
      "(27455, 5808)\n"
     ]
    },
    {
     "data": {
      "image/png": "[encoded data removed]",
      "text/plain": [
       "<Figure size 360x360 with 4 Axes>"
      ]
     },
     "metadata": {
      "needs_background": "light"
     },
     "output_type": "display_data"
    }
   ],
   "source": [
    "print(np.shape(hist_data))\n",
    "#print(len(data.train_y))\n",
    "done = []\n",
    "f, a = plt.subplots(2, 2, figsize=(5, 5))\n",
    "i = 0\n",
    "for x,y in zip(asl_data.test_x, asl_data.test_y):\n",
    "    fname = \"img{}\".format(i)+\".jpg\"\n",
    "    cv2.imwrite(fname, x.reshape(28,28))\n",
    "    img = cv2.imread(fname)\n",
    "    os.remove(fname)\n",
    "    gray= cv2.cvtColor(img, cv2.COLOR_BGR2GRAY)\n",
    "    #fd,hog_image = hog(gray, orientations=8, pixels_per_cell=(ppc,ppc),cells_per_block=(4, 4),block_norm= 'L2')\n",
    "    if y in [2,5] and y not in done:\n",
    "        fd, hog_image = feature.hog(img, orientations=8, pixels_per_cell=(16, 16),\n",
    "                    cells_per_block=(1, 1), visualize=True, multichannel=True, block_norm = 'L2-Hys')\n",
    "\n",
    "        #fig, (ax1, ax2) = plt.subplots(1, 2, figsize=(8, 4), sharex=True, sharey=True)\n",
    "        #for i in range(len(label_in_use)):\n",
    "        a[i][0].imshow(img)\n",
    "        \n",
    "        #plt.savefig(file_path+\"testing samples.png\")\n",
    "        #plt.show()\n",
    "        #ax1.axis('off')\n",
    "        #ax1.imshow(img)\n",
    "        #ax1.set_title('Input image')\n",
    "        from skimage import exposure\n",
    "        # Rescale histogram for better display\n",
    "        hog_image_rescaled = exposure.rescale_intensity(hog_image, in_range=(0, 10))\n",
    "\n",
    "        #ax2.axis('off')\n",
    "        #ax2.imshow(hog_image_rescaled, cmap=plt.cm.gray)\n",
    "        a[i][1].imshow(hog_image_rescaled, cmap=plt.cm.gray)\n",
    "        i = i+1\n",
    "        #ax2.set_title('Histogram of Oriented Gradients')\n",
    "        #plt.show()\n",
    "        done.append(y)\n",
    "        #break\n",
    "plt.savefig(\"testing samples.png\")\n",
    "plt.show()"
   ]
  },
  {
   "cell_type": "code",
   "execution_count": 60,
   "metadata": {},
   "outputs": [
    {
     "name": "stdout",
     "output_type": "stream",
     "text": [
      "Start learning at 2018-12-13 03:09:39.825304\n",
      "Stop learning 2018-12-13 03:11:35.990711\n",
      "Elapsed learning 0:01:56.165407\n"
     ]
    }
   ],
   "source": [
    "start_time = dt.datetime.now()\n",
    "print('Start learning at {}'.format(str(start_time)))\n",
    "svm_with_hog = svm.LinearSVC()\n",
    "#classifier = svm.SVC(C=param_C,gamma=param_gamma, decision_function_shape='ovo')\n",
    "\n",
    "svm_with_hog.fit(hist_data, asl_data.train_y)\n",
    "end_time = dt.datetime.now() \n",
    "print('Stop learning {}'.format(str(end_time)))\n",
    "elapsed_time= end_time - start_time\n",
    "print('Elapsed learning {}'.format(str(elapsed_time)))"
   ]
  },
  {
   "cell_type": "code",
   "execution_count": 6,
   "metadata": {},
   "outputs": [],
   "source": [
    "hist_data_test = []  \n",
    "for d in asl_data.test_x:\n",
    "    fname = \"img{}\".format(i)+\".jpg\"\n",
    "    cv2.imwrite(fname, d.reshape(28,28))\n",
    "    img = cv2.imread(fname)\n",
    "    os.remove(fname)\n",
    "    gray= cv2.cvtColor(img, cv2.COLOR_BGR2GRAY)\n",
    "    #fd,hog_image = hog(gray, orientations=8, pixels_per_cell=(ppc,ppc),cells_per_block=(4, 4),block_norm= 'L2')\n",
    "    hist = hog.describe(gray)\n",
    "    hist_data_test.append(hist)"
   ]
  },
  {
   "cell_type": "code",
   "execution_count": 62,
   "metadata": {},
   "outputs": [
    {
     "name": "stdout",
     "output_type": "stream",
     "text": [
      "Accuracy of SVM with HOG=86.67038482989403 %\n"
     ]
    }
   ],
   "source": [
    "expected = asl_data.test_y\n",
    "predicted = svm_with_hog.predict(hist_data_test)\n",
    "print(\"Accuracy of SVM with HOG={}\".format(metrics.accuracy_score(expected, predicted) * 100) + \" %\")"
   ]
  },
  {
   "cell_type": "code",
   "execution_count": 8,
   "metadata": {},
   "outputs": [],
   "source": [
    "from sklearn.cluster import KMeans\n",
    "kmeans_with_hog = KMeans(n_clusters=24).fit(hist_data)\n"
   ]
  },
  {
   "cell_type": "code",
   "execution_count": 9,
   "metadata": {},
   "outputs": [],
   "source": [
    "result = kmeans_with_hog.predict(hist_data_test)"
   ]
  },
  {
   "cell_type": "code",
   "execution_count": 16,
   "metadata": {},
   "outputs": [
    {
     "name": "stdout",
     "output_type": "stream",
     "text": [
      "(7172, 5808)\n",
      "[0.03801137 0.18038358 0.07852924 ... 0.020182   0.14186322 0.01927007]\n",
      "{0, 1, 2, 3, 4, 5, 6, 7, 8, 9, 10, 11, 12, 13, 14, 15, 16, 17, 18, 19, 20, 21, 22, 23}\n",
      "(24, 5808)\n"
     ]
    },
    {
     "data": {
      "text/plain": [
       "<Figure size 3600x3600 with 0 Axes>"
      ]
     },
     "execution_count": 16,
     "metadata": {},
     "output_type": "execute_result"
    },
    {
     "data": {
      "image/png": "[encoded data removed]",
      "text/plain": [
       "<Figure size 432x288 with 1 Axes>"
      ]
     },
     "metadata": {
      "needs_background": "light"
     },
     "output_type": "display_data"
    },
    {
     "data": {
      "text/plain": [
       "<Figure size 3600x3600 with 0 Axes>"
      ]
     },
     "metadata": {},
     "output_type": "display_data"
    }
   ],
   "source": [
    "\n",
    "\n",
    "print(np.shape(hist_data_test))\n",
    "hist_data_test = np.array(hist_data_test)\n",
    "print(hist_data_test[:,0])\n",
    "print(set(result))\n",
    "plt.scatter(hist_data_test[0:500,0], hist_data_test[0:500,1], c=result[0:500], s=20,  alpha=0.75)\n",
    "#plt.scatter(data.test_x[0:100,0], data.test_x[0:100,500], c=result[0:100], s=50, cmap='hsv', alpha=0.75)\n",
    "\n",
    "centers = kmeans_with_hog.cluster_centers_\n",
    "print(np.shape(centers))\n",
    "plt.scatter(centers[:, 0], centers[:, 1], marker='x', s=169, linewidths=3,color='r', zorder=10)\n",
    "plt.figure(figsize=(50,50))"
   ]
  },
  {
   "cell_type": "code",
   "execution_count": 82,
   "metadata": {},
   "outputs": [
    {
     "name": "stdout",
     "output_type": "stream",
     "text": [
      "{'p10e15': 19, 'p16e20': 21, 'p14e23': 38, 'p0e16': 2, 'p1e1': 9, 'p22e8': 42, 'p5e0': 231, 'p15e14': 63, 'p3e12': 77, 'p1e18': 67, 'p12e7': 83, 'p6e12': 182, 'p21e17': 98, 'p6e13': 126, 'p18e11': 21, 'p17e5': 162, 'p16e23': 17, 'p11e5': 42, 'p5e18': 25, 'p7e1': 72, 'p13e12': 80, 'p10e5': 2, 'p11e1': 12, 'p11e14': 61, 'p14e8': 92, 'p10e23': 46, 'p10e6': 11, 'p12e6': 88, 'p2e15': 28, 'p18e23': 21, 'p23e15': 277, 'p2e7': 259, 'p21e12': 1, 'p23e16': 6, 'p15e2': 146, 'p7e20': 104, 'p20e2': 42, 'p21e20': 49, 'p18e14': 4, 'p18e1': 64, 'p5e13': 10, 'p18e15': 2, 'p14e14': 17, 'p11e0': 21, 'p9e15': 21, 'p3e3': 80, 'p6e18': 25, 'p3e13': 89, 'p3e24': 3, 'p18e8': 13, 'p16e17': 5, 'p4e20': 31, 'p13e8': 18, 'p11e24': 98, 'p12e17': 21, 'p2e19': 1, 'p21e1': 194, 'p9e6': 188, 'p1e4': 297, 'p21e3': 103, 'p13e4': 135, 'p9e7': 94, 'p18e5': 41, 'p16e1': 42, 'p16e22': 61, 'p18e21': 60, 'p15e8': 4, 'p0e11': 167, 'p3e18': 119, 'p18e24': 39, 'p4e21': 127, 'p13e13': 26, 'p3e23': 123, 'p16e21': 159, 'p2e24': 24, 'p12e10': 21, 'p1e13': 40, 'p2e6': 61, 'p11e4': 21, 'p10e11': 21, 'p12e23': 21, 'p3e19': 22, 'p6e8': 41, 'p18e10': 42, 'p11e8': 62, 'p19e19': 8, 'p1e16': 13, 'p13e18': 10, 'p4e1': 39, 'p21e10': 82, 'p12e24': 63, 'p1e12': 54, 'p9e19': 21, 'p7e10': 123, 'p18e20': 61, 'p18e22': 42, 'p3e8': 16, 'p23e19': 2, 'p1e19': 6, 'p6e17': 20, 'p4e22': 103, 'p6e4': 31, 'p13e0': 79, 'p18e3': 62, 'p5e4': 14, 'p8e2': 122, 'p7e19': 6, 'p22e24': 105, 'p15e23': 1, 'p3e10': 2, 'p6e14': 20, 'p10e16': 143, 'p10e14': 81, 'p16e10': 61, 'p12e19': 182}\n",
      "OrderedDict([('p0e11', 167), ('p0e16', 2), ('p10e11', 21), ('p10e14', 81), ('p10e15', 19), ('p10e16', 143), ('p10e23', 46), ('p10e5', 2), ('p10e6', 11), ('p11e0', 21), ('p11e1', 12), ('p11e14', 61), ('p11e24', 98), ('p11e4', 21), ('p11e5', 42), ('p11e8', 62), ('p12e10', 21), ('p12e17', 21), ('p12e19', 182), ('p12e23', 21), ('p12e24', 63), ('p12e6', 88), ('p12e7', 83), ('p13e0', 79), ('p13e12', 80), ('p13e13', 26), ('p13e18', 10), ('p13e4', 135), ('p13e8', 18), ('p14e14', 17), ('p14e23', 38), ('p14e8', 92), ('p15e14', 63), ('p15e2', 146), ('p15e23', 1), ('p15e8', 4), ('p16e1', 42), ('p16e10', 61), ('p16e17', 5), ('p16e20', 21), ('p16e21', 159), ('p16e22', 61), ('p16e23', 17), ('p17e5', 162), ('p18e1', 64), ('p18e10', 42), ('p18e11', 21), ('p18e14', 4), ('p18e15', 2), ('p18e20', 61), ('p18e21', 60), ('p18e22', 42), ('p18e23', 21), ('p18e24', 39), ('p18e3', 62), ('p18e5', 41), ('p18e8', 13), ('p19e19', 8), ('p1e1', 9), ('p1e12', 54), ('p1e13', 40), ('p1e16', 13), ('p1e18', 67), ('p1e19', 6), ('p1e4', 297), ('p20e2', 42), ('p21e1', 194), ('p21e10', 82), ('p21e12', 1), ('p21e17', 98), ('p21e20', 49), ('p21e3', 103), ('p22e24', 105), ('p22e8', 42), ('p23e15', 277), ('p23e16', 6), ('p23e19', 2), ('p2e15', 28), ('p2e19', 1), ('p2e24', 24), ('p2e6', 61), ('p2e7', 259), ('p3e10', 2), ('p3e12', 77), ('p3e13', 89), ('p3e18', 119), ('p3e19', 22), ('p3e23', 123), ('p3e24', 3), ('p3e3', 80), ('p3e8', 16), ('p4e1', 39), ('p4e20', 31), ('p4e21', 127), ('p4e22', 103), ('p5e0', 231), ('p5e13', 10), ('p5e18', 25), ('p5e4', 14), ('p6e12', 182), ('p6e13', 126), ('p6e14', 20), ('p6e17', 20), ('p6e18', 25), ('p6e4', 31), ('p6e8', 41), ('p7e1', 72), ('p7e10', 123), ('p7e19', 6), ('p7e20', 104), ('p8e2', 122), ('p9e15', 21), ('p9e19', 21), ('p9e6', 188), ('p9e7', 94)])\n",
      "final map is  {'19': '19', '4': '21', '5': '0', '9': '6', '2': '7', '22': '24', '17': '5', '23': '15', '21': '1', '7': '10', '18': '1', '13': '4', '6': '12', '10': '16', '15': '2', '12': '19', '14': '8', '16': '21', '20': '2', '1': '4', '8': '2', '0': '11', '11': '24', '3': '23'}\n",
      "Accuracy of Kmeans with HOG is  50.55772448410485 %\n"
     ]
    }
   ],
   "source": [
    "acc = get_accuracy_cluster(asl_data.test_y, result)\n",
    "print(\"Accuracy of Kmeans with HOG is \", acc, \"%\")"
   ]
  },
  {
   "cell_type": "code",
   "execution_count": 7,
   "metadata": {},
   "outputs": [
    {
     "name": "stdout",
     "output_type": "stream",
     "text": [
      "number of clusters in pca-DBSCAN:  0\n",
      "27455\n"
     ]
    },
    {
     "ename": "TypeError",
     "evalue": "list indices must be integers or slices, not tuple",
     "output_type": "error",
     "traceback": [
      "\u001b[0;31m---------------------------------------------------------------------------\u001b[0m",
      "\u001b[0;31mTypeError\u001b[0m                                 Traceback (most recent call last)",
      "\u001b[0;32m<ipython-input-7-2171a19c36e3>\u001b[0m in \u001b[0;36m<module>\u001b[0;34m()\u001b[0m\n\u001b[1;32m     15\u001b[0m \u001b[0;31m#DBSCAN visualization\u001b[0m\u001b[0;34m\u001b[0m\u001b[0;34m\u001b[0m\u001b[0m\n\u001b[1;32m     16\u001b[0m \u001b[0mplt\u001b[0m\u001b[0;34m.\u001b[0m\u001b[0mfigure\u001b[0m\u001b[0;34m(\u001b[0m\u001b[0mfigsize\u001b[0m\u001b[0;34m=\u001b[0m\u001b[0;34m(\u001b[0m\u001b[0;36m10\u001b[0m\u001b[0;34m,\u001b[0m\u001b[0;36m10\u001b[0m\u001b[0;34m)\u001b[0m\u001b[0;34m)\u001b[0m\u001b[0;34m\u001b[0m\u001b[0m\n\u001b[0;32m---> 17\u001b[0;31m \u001b[0mplt\u001b[0m\u001b[0;34m.\u001b[0m\u001b[0mxlim\u001b[0m\u001b[0;34m(\u001b[0m\u001b[0mhist_data_test\u001b[0m\u001b[0;34m[\u001b[0m\u001b[0;34m:\u001b[0m\u001b[0;34m,\u001b[0m\u001b[0;36m0\u001b[0m\u001b[0;34m]\u001b[0m\u001b[0;34m.\u001b[0m\u001b[0mmin\u001b[0m\u001b[0;34m(\u001b[0m\u001b[0;34m)\u001b[0m\u001b[0;34m,\u001b[0m \u001b[0mhist_data_test\u001b[0m\u001b[0;34m[\u001b[0m\u001b[0;34m:\u001b[0m\u001b[0;34m,\u001b[0m\u001b[0;36m0\u001b[0m\u001b[0;34m]\u001b[0m\u001b[0;34m.\u001b[0m\u001b[0mmax\u001b[0m\u001b[0;34m(\u001b[0m\u001b[0;34m)\u001b[0m\u001b[0;34m)\u001b[0m\u001b[0;34m\u001b[0m\u001b[0m\n\u001b[0m\u001b[1;32m     18\u001b[0m \u001b[0mplt\u001b[0m\u001b[0;34m.\u001b[0m\u001b[0mylim\u001b[0m\u001b[0;34m(\u001b[0m\u001b[0mhist_data_test\u001b[0m\u001b[0;34m[\u001b[0m\u001b[0;34m:\u001b[0m\u001b[0;34m,\u001b[0m\u001b[0;36m1\u001b[0m\u001b[0;34m]\u001b[0m\u001b[0;34m.\u001b[0m\u001b[0mmin\u001b[0m\u001b[0;34m(\u001b[0m\u001b[0;34m)\u001b[0m\u001b[0;34m,\u001b[0m \u001b[0mhist_data_test\u001b[0m\u001b[0;34m[\u001b[0m\u001b[0;34m:\u001b[0m\u001b[0;34m,\u001b[0m\u001b[0;36m1\u001b[0m\u001b[0;34m]\u001b[0m\u001b[0;34m.\u001b[0m\u001b[0mmax\u001b[0m\u001b[0;34m(\u001b[0m\u001b[0;34m)\u001b[0m\u001b[0;34m)\u001b[0m\u001b[0;34m\u001b[0m\u001b[0m\n\u001b[1;32m     19\u001b[0m \u001b[0;32mfor\u001b[0m \u001b[0mi\u001b[0m \u001b[0;32min\u001b[0m \u001b[0mrange\u001b[0m\u001b[0;34m(\u001b[0m\u001b[0mlen\u001b[0m\u001b[0;34m(\u001b[0m\u001b[0masl_data\u001b[0m\u001b[0;34m.\u001b[0m\u001b[0mtest_y\u001b[0m\u001b[0;34m)\u001b[0m\u001b[0;34m)\u001b[0m\u001b[0;34m:\u001b[0m\u001b[0;34m\u001b[0m\u001b[0m\n",
      "\u001b[0;31mTypeError\u001b[0m: list indices must be integers or slices, not tuple"
     ]
    },
    {
     "data": {
      "text/plain": [
       "<Figure size 720x720 with 0 Axes>"
      ]
     },
     "metadata": {},
     "output_type": "display_data"
    }
   ],
   "source": [
    "from time import time\n",
    "t=time()\n",
    "from sklearn.cluster import DBSCAN\n",
    "db = DBSCAN(eps=1, min_samples=10)\n",
    "db = db.fit(hist_data)\n",
    "labels_db = db.labels_\n",
    "clusters_db = db.fit_predict(hist_data_test)\n",
    "n_clusters_ = len(set(clusters_db)) - (1 if -1 in clusters_db else 0)\n",
    "print(\"number of clusters in pca-DBSCAN: \", n_clusters_)\n",
    "\n",
    "print(len(labels_db[labels_db==-1]))\n",
    "count = 0;\n",
    "        \n",
    "\n",
    "#DBSCAN visualization\n",
    "plt.figure(figsize=(10,10))\n",
    "plt.xlim(hist_data_test[:,0].min(), hist_data_test[:,0].max())\n",
    "plt.ylim(hist_data_test[:,1].min(), hist_data_test[:,1].max())\n",
    "for i in range(len(asl_data.test_y)):\n",
    "    if(clusters_db[i]<25):\n",
    "        plt.text(hist_data_test[i,0], hist_data_test[i,1], str(asl_data.test_y[i]),\n",
    "             color = colors[clusters_db[i]],\n",
    "             fontdict={'size':9})\n",
    "print(\"Accuracy=\",get_accuracy_cluster(asl_data.test_y,clusters_db))\n",
    "plt.title('PCA -> DBSCAN')\n",
    "plt.xlabel(\"first PC\")\n",
    "plt.ylabel(\"second PC\")\n",
    "plt.text(15, 25, str(\"DBSCAN time: {}\".format(time()-t)),\n",
    "         bbox = dict(boxstyle='round', facecolor='wheat', alpha=0.5),\n",
    "         fontsize=9)\n",
    "plt.show()\n",
    "\n",
    "print(\"DBSCAN time: \", time()-t)"
   ]
  },
  {
   "cell_type": "code",
   "execution_count": null,
   "metadata": {},
   "outputs": [],
   "source": []
  },
  {
   "cell_type": "code",
   "execution_count": 74,
   "metadata": {},
   "outputs": [
    {
     "name": "stdout",
     "output_type": "stream",
     "text": [
      "Start learning at 2018-12-13 03:30:46.619602\n",
      "Stop learning 2018-12-13 05:55:52.363550\n",
      "Elapsed learning 2:25:05.743948\n"
     ]
    }
   ],
   "source": [
    "from sklearn.mixture import GaussianMixture\n",
    "start_time = dt.datetime.now()\n",
    "print('Start learning at {}'.format(str(start_time)))\n",
    "gmm_with_hog = GaussianMixture(n_components=24).fit(hist_data)\n",
    "end_time = dt.datetime.now() \n",
    "print('Stop learning {}'.format(str(end_time)))\n",
    "elapsed_time= end_time - start_time\n",
    "print('Elapsed learning {}'.format(str(elapsed_time)))\n",
    "#labels = gmm_hog.predict(hist_data)\n"
   ]
  },
  {
   "cell_type": "code",
   "execution_count": 77,
   "metadata": {},
   "outputs": [
    {
     "ename": "KeyboardInterrupt",
     "evalue": "",
     "output_type": "error",
     "traceback": [
      "\u001b[0;31m---------------------------------------------------------------------------\u001b[0m",
      "\u001b[0;31mKeyboardInterrupt\u001b[0m                         Traceback (most recent call last)",
      "\u001b[0;32m<ipython-input-77-7a7285d50d70>\u001b[0m in \u001b[0;36m<module>\u001b[0;34m()\u001b[0m\n\u001b[1;32m      3\u001b[0m \u001b[0;31m#size = 50 * probs.max(1) ** 2  # square emphasizes differences\u001b[0m\u001b[0;34m\u001b[0m\u001b[0;34m\u001b[0m\u001b[0m\n\u001b[1;32m      4\u001b[0m \u001b[0;31m#plt.scatter(data.train_x[:, 0], data.train_x[:, 1], c=labels, cmap='viridis', s=size);\u001b[0m\u001b[0;34m\u001b[0m\u001b[0;34m\u001b[0m\u001b[0m\n\u001b[0;32m----> 5\u001b[0;31m \u001b[0mlabels\u001b[0m \u001b[0;34m=\u001b[0m \u001b[0mgmm_with_hog\u001b[0m\u001b[0;34m.\u001b[0m\u001b[0mpredict\u001b[0m\u001b[0;34m(\u001b[0m\u001b[0mhist_data_test\u001b[0m\u001b[0;34m)\u001b[0m\u001b[0;34m\u001b[0m\u001b[0m\n\u001b[0m\u001b[1;32m      6\u001b[0m \u001b[0mprint\u001b[0m\u001b[0;34m(\u001b[0m\u001b[0mset\u001b[0m\u001b[0;34m(\u001b[0m\u001b[0mlabels\u001b[0m\u001b[0;34m)\u001b[0m\u001b[0;34m)\u001b[0m\u001b[0;34m\u001b[0m\u001b[0m\n",
      "\u001b[0;32m~/anaconda3/lib/python3.5/site-packages/sklearn/mixture/base.py\u001b[0m in \u001b[0;36mpredict\u001b[0;34m(self, X)\u001b[0m\n\u001b[1;32m    338\u001b[0m         \u001b[0mself\u001b[0m\u001b[0;34m.\u001b[0m\u001b[0m_check_is_fitted\u001b[0m\u001b[0;34m(\u001b[0m\u001b[0;34m)\u001b[0m\u001b[0;34m\u001b[0m\u001b[0m\n\u001b[1;32m    339\u001b[0m         \u001b[0mX\u001b[0m \u001b[0;34m=\u001b[0m \u001b[0m_check_X\u001b[0m\u001b[0;34m(\u001b[0m\u001b[0mX\u001b[0m\u001b[0;34m,\u001b[0m \u001b[0;32mNone\u001b[0m\u001b[0;34m,\u001b[0m \u001b[0mself\u001b[0m\u001b[0;34m.\u001b[0m\u001b[0mmeans_\u001b[0m\u001b[0;34m.\u001b[0m\u001b[0mshape\u001b[0m\u001b[0;34m[\u001b[0m\u001b[0;36m1\u001b[0m\u001b[0;34m]\u001b[0m\u001b[0;34m)\u001b[0m\u001b[0;34m\u001b[0m\u001b[0m\n\u001b[0;32m--> 340\u001b[0;31m         \u001b[0;32mreturn\u001b[0m \u001b[0mself\u001b[0m\u001b[0;34m.\u001b[0m\u001b[0m_estimate_weighted_log_prob\u001b[0m\u001b[0;34m(\u001b[0m\u001b[0mX\u001b[0m\u001b[0;34m)\u001b[0m\u001b[0;34m.\u001b[0m\u001b[0margmax\u001b[0m\u001b[0;34m(\u001b[0m\u001b[0maxis\u001b[0m\u001b[0;34m=\u001b[0m\u001b[0;36m1\u001b[0m\u001b[0;34m)\u001b[0m\u001b[0;34m\u001b[0m\u001b[0m\n\u001b[0m\u001b[1;32m    341\u001b[0m \u001b[0;34m\u001b[0m\u001b[0m\n\u001b[1;32m    342\u001b[0m     \u001b[0;32mdef\u001b[0m \u001b[0mpredict_proba\u001b[0m\u001b[0;34m(\u001b[0m\u001b[0mself\u001b[0m\u001b[0;34m,\u001b[0m \u001b[0mX\u001b[0m\u001b[0;34m)\u001b[0m\u001b[0;34m:\u001b[0m\u001b[0;34m\u001b[0m\u001b[0m\n",
      "\u001b[0;32m~/anaconda3/lib/python3.5/site-packages/sklearn/mixture/base.py\u001b[0m in \u001b[0;36m_estimate_weighted_log_prob\u001b[0;34m(self, X)\u001b[0m\n\u001b[1;32m    420\u001b[0m         \u001b[0mweighted_log_prob\u001b[0m \u001b[0;34m:\u001b[0m \u001b[0marray\u001b[0m\u001b[0;34m,\u001b[0m \u001b[0mshape\u001b[0m \u001b[0;34m(\u001b[0m\u001b[0mn_samples\u001b[0m\u001b[0;34m,\u001b[0m \u001b[0mn_component\u001b[0m\u001b[0;34m)\u001b[0m\u001b[0;34m\u001b[0m\u001b[0m\n\u001b[1;32m    421\u001b[0m         \"\"\"\n\u001b[0;32m--> 422\u001b[0;31m         \u001b[0;32mreturn\u001b[0m \u001b[0mself\u001b[0m\u001b[0;34m.\u001b[0m\u001b[0m_estimate_log_prob\u001b[0m\u001b[0;34m(\u001b[0m\u001b[0mX\u001b[0m\u001b[0;34m)\u001b[0m \u001b[0;34m+\u001b[0m \u001b[0mself\u001b[0m\u001b[0;34m.\u001b[0m\u001b[0m_estimate_log_weights\u001b[0m\u001b[0;34m(\u001b[0m\u001b[0;34m)\u001b[0m\u001b[0;34m\u001b[0m\u001b[0m\n\u001b[0m\u001b[1;32m    423\u001b[0m \u001b[0;34m\u001b[0m\u001b[0m\n\u001b[1;32m    424\u001b[0m     \u001b[0;34m@\u001b[0m\u001b[0mabstractmethod\u001b[0m\u001b[0;34m\u001b[0m\u001b[0m\n",
      "\u001b[0;32m~/anaconda3/lib/python3.5/site-packages/sklearn/mixture/gaussian_mixture.py\u001b[0m in \u001b[0;36m_estimate_log_prob\u001b[0;34m(self, X)\u001b[0m\n\u001b[1;32m    673\u001b[0m     \u001b[0;32mdef\u001b[0m \u001b[0m_estimate_log_prob\u001b[0m\u001b[0;34m(\u001b[0m\u001b[0mself\u001b[0m\u001b[0;34m,\u001b[0m \u001b[0mX\u001b[0m\u001b[0;34m)\u001b[0m\u001b[0;34m:\u001b[0m\u001b[0;34m\u001b[0m\u001b[0m\n\u001b[1;32m    674\u001b[0m         return _estimate_log_gaussian_prob(\n\u001b[0;32m--> 675\u001b[0;31m             X, self.means_, self.precisions_cholesky_, self.covariance_type)\n\u001b[0m\u001b[1;32m    676\u001b[0m \u001b[0;34m\u001b[0m\u001b[0m\n\u001b[1;32m    677\u001b[0m     \u001b[0;32mdef\u001b[0m \u001b[0m_estimate_log_weights\u001b[0m\u001b[0;34m(\u001b[0m\u001b[0mself\u001b[0m\u001b[0;34m)\u001b[0m\u001b[0;34m:\u001b[0m\u001b[0;34m\u001b[0m\u001b[0m\n",
      "\u001b[0;32m~/anaconda3/lib/python3.5/site-packages/sklearn/mixture/gaussian_mixture.py\u001b[0m in \u001b[0;36m_estimate_log_gaussian_prob\u001b[0;34m(X, means, precisions_chol, covariance_type)\u001b[0m\n\u001b[1;32m    410\u001b[0m         \u001b[0mlog_prob\u001b[0m \u001b[0;34m=\u001b[0m \u001b[0mnp\u001b[0m\u001b[0;34m.\u001b[0m\u001b[0mempty\u001b[0m\u001b[0;34m(\u001b[0m\u001b[0;34m(\u001b[0m\u001b[0mn_samples\u001b[0m\u001b[0;34m,\u001b[0m \u001b[0mn_components\u001b[0m\u001b[0;34m)\u001b[0m\u001b[0;34m)\u001b[0m\u001b[0;34m\u001b[0m\u001b[0m\n\u001b[1;32m    411\u001b[0m         \u001b[0;32mfor\u001b[0m \u001b[0mk\u001b[0m\u001b[0;34m,\u001b[0m \u001b[0;34m(\u001b[0m\u001b[0mmu\u001b[0m\u001b[0;34m,\u001b[0m \u001b[0mprec_chol\u001b[0m\u001b[0;34m)\u001b[0m \u001b[0;32min\u001b[0m \u001b[0menumerate\u001b[0m\u001b[0;34m(\u001b[0m\u001b[0mzip\u001b[0m\u001b[0;34m(\u001b[0m\u001b[0mmeans\u001b[0m\u001b[0;34m,\u001b[0m \u001b[0mprecisions_chol\u001b[0m\u001b[0;34m)\u001b[0m\u001b[0;34m)\u001b[0m\u001b[0;34m:\u001b[0m\u001b[0;34m\u001b[0m\u001b[0m\n\u001b[0;32m--> 412\u001b[0;31m             \u001b[0my\u001b[0m \u001b[0;34m=\u001b[0m \u001b[0mnp\u001b[0m\u001b[0;34m.\u001b[0m\u001b[0mdot\u001b[0m\u001b[0;34m(\u001b[0m\u001b[0mX\u001b[0m\u001b[0;34m,\u001b[0m \u001b[0mprec_chol\u001b[0m\u001b[0;34m)\u001b[0m \u001b[0;34m-\u001b[0m \u001b[0mnp\u001b[0m\u001b[0;34m.\u001b[0m\u001b[0mdot\u001b[0m\u001b[0;34m(\u001b[0m\u001b[0mmu\u001b[0m\u001b[0;34m,\u001b[0m \u001b[0mprec_chol\u001b[0m\u001b[0;34m)\u001b[0m\u001b[0;34m\u001b[0m\u001b[0m\n\u001b[0m\u001b[1;32m    413\u001b[0m             \u001b[0mlog_prob\u001b[0m\u001b[0;34m[\u001b[0m\u001b[0;34m:\u001b[0m\u001b[0;34m,\u001b[0m \u001b[0mk\u001b[0m\u001b[0;34m]\u001b[0m \u001b[0;34m=\u001b[0m \u001b[0mnp\u001b[0m\u001b[0;34m.\u001b[0m\u001b[0msum\u001b[0m\u001b[0;34m(\u001b[0m\u001b[0mnp\u001b[0m\u001b[0;34m.\u001b[0m\u001b[0msquare\u001b[0m\u001b[0;34m(\u001b[0m\u001b[0my\u001b[0m\u001b[0;34m)\u001b[0m\u001b[0;34m,\u001b[0m \u001b[0maxis\u001b[0m\u001b[0;34m=\u001b[0m\u001b[0;36m1\u001b[0m\u001b[0;34m)\u001b[0m\u001b[0;34m\u001b[0m\u001b[0m\n\u001b[1;32m    414\u001b[0m \u001b[0;34m\u001b[0m\u001b[0m\n",
      "\u001b[0;31mKeyboardInterrupt\u001b[0m: "
     ]
    }
   ],
   "source": [
    "#probs = gmm.predict_proba(hist_data_test)\n",
    "#print(probs[:5].round(3))\n",
    "#size = 50 * probs.max(1) ** 2  # square emphasizes differences\n",
    "#plt.scatter(data.train_x[:, 0], data.train_x[:, 1], c=labels, cmap='viridis', s=size);\n",
    "labels = gmm_with_hog.predict(hist_data_test)\n",
    "print(set(labels))"
   ]
  },
  {
   "cell_type": "code",
   "execution_count": 76,
   "metadata": {},
   "outputs": [
    {
     "name": "stdout",
     "output_type": "stream",
     "text": [
      "Accuracy of GMM with HOG is  24.679308421639703 %\n"
     ]
    }
   ],
   "source": [
    "acc = get_accuracy_cluster(asl_data.test_y, labels)\n",
    "print(\"Accuracy of GMM with HOG is \", acc, \"%\")"
   ]
  },
  {
   "cell_type": "code",
   "execution_count": 86,
   "metadata": {},
   "outputs": [
    {
     "data": {
      "image/png": "[encoded data removed]",
      "text/plain": [
       "<Figure size 432x288 with 1 Axes>"
      ]
     },
     "metadata": {
      "needs_background": "light"
     },
     "output_type": "display_data"
    }
   ],
   "source": [
    "hist_data_test = np.array(hist_data_test)\n",
    "plt.scatter(hist_data_test[0:500, 0], hist_data_test[0:500, 1], c=labels[0:500], s=15, cmap='viridis');\n",
    "\n",
    "probs = gmm_with_hog.predict_proba(hist_data_test)\n",
    "size = 50 * probs.max(1) ** 2  # square emphasizes differences\n",
    "plt.scatter(hist_data_test[0:500, 0], hist_data_test[0:500, 1], c=labels[0:500], cmap='viridis', s=size);"
   ]
  },
  {
   "cell_type": "code",
   "execution_count": 164,
   "metadata": {},
   "outputs": [
    {
     "name": "stdout",
     "output_type": "stream",
     "text": [
      "Start learning at 2018-12-09 18:31:27.048164\n",
      "Stop learning 2018-12-11 16:48:47.014758\n",
      "Elapsed learning 1 day, 22:17:19.966594\n"
     ]
    }
   ],
   "source": [
    "print('Start learning at {}'.format(str(start_time)))\n",
    "gmm_without_fe = GaussianMixture(n_components=24).fit(asl_data.train_x)\n",
    "end_time = dt.datetime.now() \n",
    "print('Stop learning {}'.format(str(end_time)))\n",
    "elapsed_time= end_time - start_time\n",
    "print('Elapsed learning {}'.format(str(elapsed_time)))\n"
   ]
  },
  {
   "cell_type": "code",
   "execution_count": 165,
   "metadata": {},
   "outputs": [],
   "source": [
    "#labels = gmm_without_fe.predict(data.train_x)\n",
    "#print(set(labels))\n",
    "#plt.scatter(data.train_x[:, 0], data.train_x[:, 1], c=labels, s=40, cmap='viridis');"
   ]
  },
  {
   "cell_type": "code",
   "execution_count": 169,
   "metadata": {},
   "outputs": [
    {
     "name": "stdout",
     "output_type": "stream",
     "text": [
      "{3, 4, 8, 12, 15, 17, 18, 21, 23}\n"
     ]
    }
   ],
   "source": [
    "#probs = gmm.predict_proba(data.test_x)\n",
    "#print(probs[:5].round(3))\n",
    "#size = 50 * probs.max(1) ** 2  # square emphasizes differences\n",
    "#plt.scatter(data.train_x[:, 0], data.train_x[:, 1], c=labels, cmap='viridis', s=size);\n",
    "labels = gmm_without_fe.predict(asl_data.test_x)\n",
    "print(set(labels))\n"
   ]
  },
  {
   "cell_type": "code",
   "execution_count": 170,
   "metadata": {},
   "outputs": [
    {
     "name": "stdout",
     "output_type": "stream",
     "text": [
      "Accuracy of GMM without feature extraction is  16.66201896263246 %\n"
     ]
    }
   ],
   "source": [
    "acc = get_accuracy_cluster(asl_data.test_y, labels)\n",
    "print(\"Accuracy of GMM without feature extraction is \", acc, \"%\")"
   ]
  },
  {
   "cell_type": "code",
   "execution_count": 100,
   "metadata": {},
   "outputs": [],
   "source": [
    "#probs = gmm.predict_proba(data.test_x)\n",
    "#print(probs[:5].round(3))\n",
    "#size = 50 * probs.max(1) ** 2  # square emphasizes differences\n",
    "#plt.scatter(data.test_x[:, 0], data.test_x[:, 1], c=labels, cmap='viridis', s=size);"
   ]
  },
  {
   "cell_type": "code",
   "execution_count": 2,
   "metadata": {},
   "outputs": [
    {
     "ename": "NameError",
     "evalue": "name 'dt' is not defined",
     "output_type": "error",
     "traceback": [
      "\u001b[0;31m---------------------------------------------------------------------------\u001b[0m",
      "\u001b[0;31mNameError\u001b[0m                                 Traceback (most recent call last)",
      "\u001b[0;32m<ipython-input-2-442792a0541b>\u001b[0m in \u001b[0;36m<module>\u001b[0;34m()\u001b[0m\n\u001b[0;32m----> 1\u001b[0;31m \u001b[0mstart_time\u001b[0m \u001b[0;34m=\u001b[0m \u001b[0mdt\u001b[0m\u001b[0;34m.\u001b[0m\u001b[0mdatetime\u001b[0m\u001b[0;34m.\u001b[0m\u001b[0mnow\u001b[0m\u001b[0;34m(\u001b[0m\u001b[0;34m)\u001b[0m\u001b[0;34m\u001b[0m\u001b[0m\n\u001b[0m\u001b[1;32m      2\u001b[0m \u001b[0mprint\u001b[0m\u001b[0;34m(\u001b[0m\u001b[0;34m'Start learning at {}'\u001b[0m\u001b[0;34m.\u001b[0m\u001b[0mformat\u001b[0m\u001b[0;34m(\u001b[0m\u001b[0mstr\u001b[0m\u001b[0;34m(\u001b[0m\u001b[0mstart_time\u001b[0m\u001b[0;34m)\u001b[0m\u001b[0;34m)\u001b[0m\u001b[0;34m)\u001b[0m\u001b[0;34m\u001b[0m\u001b[0m\n\u001b[1;32m      3\u001b[0m \u001b[0mgmm_with_hog\u001b[0m \u001b[0;34m=\u001b[0m \u001b[0mGaussianMixture\u001b[0m\u001b[0;34m(\u001b[0m\u001b[0mn_components\u001b[0m\u001b[0;34m=\u001b[0m\u001b[0;36m24\u001b[0m\u001b[0;34m)\u001b[0m\u001b[0;34m.\u001b[0m\u001b[0mfit\u001b[0m\u001b[0;34m(\u001b[0m\u001b[0mhist_data\u001b[0m\u001b[0;34m)\u001b[0m\u001b[0;34m\u001b[0m\u001b[0m\n\u001b[1;32m      4\u001b[0m \u001b[0mend_time\u001b[0m \u001b[0;34m=\u001b[0m \u001b[0mdt\u001b[0m\u001b[0;34m.\u001b[0m\u001b[0mdatetime\u001b[0m\u001b[0;34m.\u001b[0m\u001b[0mnow\u001b[0m\u001b[0;34m(\u001b[0m\u001b[0;34m)\u001b[0m\u001b[0;34m\u001b[0m\u001b[0m\n\u001b[1;32m      5\u001b[0m \u001b[0mprint\u001b[0m\u001b[0;34m(\u001b[0m\u001b[0;34m'Stop learning {}'\u001b[0m\u001b[0;34m.\u001b[0m\u001b[0mformat\u001b[0m\u001b[0;34m(\u001b[0m\u001b[0mstr\u001b[0m\u001b[0;34m(\u001b[0m\u001b[0mend_time\u001b[0m\u001b[0;34m)\u001b[0m\u001b[0;34m)\u001b[0m\u001b[0;34m)\u001b[0m\u001b[0;34m\u001b[0m\u001b[0m\n",
      "\u001b[0;31mNameError\u001b[0m: name 'dt' is not defined"
     ]
    }
   ],
   "source": [
    "start_time = dt.datetime.now()\n",
    "print('Start learning at {}'.format(str(start_time)))\n",
    "gmm_with_hog = GaussianMixture(n_components=24).fit(hist_data)\n",
    "end_time = dt.datetime.now() \n",
    "print('Stop learning {}'.format(str(end_time)))\n",
    "elapsed_time= end_time - start_time\n",
    "print('Elapsed learning {}'.format(str(elapsed_time)))"
   ]
  },
  {
   "cell_type": "code",
   "execution_count": 109,
   "metadata": {},
   "outputs": [
    {
     "name": "stdout",
     "output_type": "stream",
     "text": [
      "{0, 1, 2, 3, 4, 5, 6, 7, 8, 10, 11, 12, 13, 14, 15, 16, 17, 18, 19, 20, 21, 22, 23, 24}\n"
     ]
    }
   ],
   "source": [
    "#A,B,C,F,H,L,O,P,T,V\n",
    "#0,1,2,5,7,11,14,15,19,21\n",
    "print(set(asl_data.train_y))"
   ]
  },
  {
   "cell_type": "code",
   "execution_count": 2,
   "metadata": {},
   "outputs": [],
   "source": [
    "import cv2"
   ]
  },
  {
   "cell_type": "code",
   "execution_count": 3,
   "metadata": {},
   "outputs": [],
   "source": [
    "import numpy"
   ]
  },
  {
   "cell_type": "code",
   "execution_count": 9,
   "metadata": {},
   "outputs": [],
   "source": [
    "import imutils"
   ]
  },
  {
   "cell_type": "code",
   "execution_count": 5,
   "metadata": {},
   "outputs": [
    {
     "name": "stdout",
     "output_type": "stream",
     "text": [
      "\n",
      "The following command must be run outside of the IPython shell:\n",
      "\n",
      "    $ pip install imutils\n",
      "\n",
      "The Python package manager (pip) can only be used from outside of IPython.\n",
      "Please reissue the `pip` command in a separate terminal or command prompt.\n",
      "\n",
      "See the Python documentation for more information on how to install packages:\n",
      "\n",
      "    https://docs.python.org/3/installing/\n"
     ]
    }
   ],
   "source": [
    "pip install imutils"
   ]
  },
  {
   "cell_type": "code",
   "execution_count": 7,
   "metadata": {},
   "outputs": [
    {
     "data": {
      "text/plain": [
       "'/Users/shipra/anaconda3/bin/python'"
      ]
     },
     "execution_count": 7,
     "metadata": {},
     "output_type": "execute_result"
    }
   ],
   "source": [
    "import sys\n",
    "sys.executable"
   ]
  },
  {
   "cell_type": "code",
   "execution_count": 8,
   "metadata": {},
   "outputs": [
    {
     "data": {
      "text/plain": [
       "['',\n",
       " '/Users/shipra/anaconda3/lib/python35.zip',\n",
       " '/Users/shipra/anaconda3/lib/python3.5',\n",
       " '/Users/shipra/anaconda3/lib/python3.5/plat-darwin',\n",
       " '/Users/shipra/anaconda3/lib/python3.5/lib-dynload',\n",
       " '/Users/shipra/anaconda3/lib/python3.5/site-packages',\n",
       " '/Users/shipra/anaconda3/lib/python3.5/site-packages/aeosa',\n",
       " '/Users/shipra/anaconda3/lib/python3.5/site-packages/IPython/extensions',\n",
       " '/Users/shipra/.ipython']"
      ]
     },
     "execution_count": 8,
     "metadata": {},
     "output_type": "execute_result"
    }
   ],
   "source": [
    "sys.path"
   ]
  },
  {
   "cell_type": "code",
   "execution_count": 10,
   "metadata": {},
   "outputs": [
    {
     "ename": "error",
     "evalue": "OpenCV(3.4.2) /opt/concourse/worker/volumes/live/0851a95b-0a19-4f3a-61a7-502b925fea13/volume/opencv-suite_1535642710601/work/modules/imgproc/src/color.hpp:253: error: (-215:Assertion failed) VScn::contains(scn) && VDcn::contains(dcn) && VDepth::contains(depth) in function 'CvtHelper'\n",
     "output_type": "error",
     "traceback": [
      "\u001b[0;31m---------------------------------------------------------------------------\u001b[0m",
      "\u001b[0;31merror\u001b[0m                                     Traceback (most recent call last)",
      "\u001b[0;32m<ipython-input-10-ba20c4b3b54c>\u001b[0m in \u001b[0;36m<module>\u001b[0;34m()\u001b[0m\n\u001b[1;32m     39\u001b[0m \u001b[0;31m# the focal length\u001b[0m\u001b[0;34m\u001b[0m\u001b[0;34m\u001b[0m\u001b[0m\n\u001b[1;32m     40\u001b[0m \u001b[0mimage\u001b[0m \u001b[0;34m=\u001b[0m \u001b[0mcv2\u001b[0m\u001b[0;34m.\u001b[0m\u001b[0mimread\u001b[0m\u001b[0;34m(\u001b[0m\u001b[0;34m\"images/2ft.png\"\u001b[0m\u001b[0;34m)\u001b[0m\u001b[0;34m\u001b[0m\u001b[0m\n\u001b[0;32m---> 41\u001b[0;31m \u001b[0mmarker\u001b[0m \u001b[0;34m=\u001b[0m \u001b[0mfind_marker\u001b[0m\u001b[0;34m(\u001b[0m\u001b[0mimage\u001b[0m\u001b[0;34m)\u001b[0m\u001b[0;34m\u001b[0m\u001b[0m\n\u001b[0m\u001b[1;32m     42\u001b[0m \u001b[0mfocalLength\u001b[0m \u001b[0;34m=\u001b[0m \u001b[0;34m(\u001b[0m\u001b[0mmarker\u001b[0m\u001b[0;34m[\u001b[0m\u001b[0;36m1\u001b[0m\u001b[0;34m]\u001b[0m\u001b[0;34m[\u001b[0m\u001b[0;36m0\u001b[0m\u001b[0;34m]\u001b[0m \u001b[0;34m*\u001b[0m \u001b[0mKNOWN_DISTANCE\u001b[0m\u001b[0;34m)\u001b[0m \u001b[0;34m/\u001b[0m \u001b[0mKNOWN_WIDTH\u001b[0m\u001b[0;34m\u001b[0m\u001b[0m\n\u001b[1;32m     43\u001b[0m \u001b[0;34m\u001b[0m\u001b[0m\n",
      "\u001b[0;32m<ipython-input-10-ba20c4b3b54c>\u001b[0m in \u001b[0;36mfind_marker\u001b[0;34m(image)\u001b[0m\n\u001b[1;32m     10\u001b[0m \u001b[0;32mdef\u001b[0m \u001b[0mfind_marker\u001b[0m\u001b[0;34m(\u001b[0m\u001b[0mimage\u001b[0m\u001b[0;34m)\u001b[0m\u001b[0;34m:\u001b[0m\u001b[0;34m\u001b[0m\u001b[0m\n\u001b[1;32m     11\u001b[0m         \u001b[0;31m# convert the image to grayscale, blur it, and detect edges\u001b[0m\u001b[0;34m\u001b[0m\u001b[0;34m\u001b[0m\u001b[0m\n\u001b[0;32m---> 12\u001b[0;31m         \u001b[0mgray\u001b[0m \u001b[0;34m=\u001b[0m \u001b[0mcv2\u001b[0m\u001b[0;34m.\u001b[0m\u001b[0mcvtColor\u001b[0m\u001b[0;34m(\u001b[0m\u001b[0mimage\u001b[0m\u001b[0;34m,\u001b[0m \u001b[0mcv2\u001b[0m\u001b[0;34m.\u001b[0m\u001b[0mCOLOR_BGR2GRAY\u001b[0m\u001b[0;34m)\u001b[0m\u001b[0;34m\u001b[0m\u001b[0m\n\u001b[0m\u001b[1;32m     13\u001b[0m         \u001b[0mgray\u001b[0m \u001b[0;34m=\u001b[0m \u001b[0mcv2\u001b[0m\u001b[0;34m.\u001b[0m\u001b[0mGaussianBlur\u001b[0m\u001b[0;34m(\u001b[0m\u001b[0mgray\u001b[0m\u001b[0;34m,\u001b[0m \u001b[0;34m(\u001b[0m\u001b[0;36m5\u001b[0m\u001b[0;34m,\u001b[0m \u001b[0;36m5\u001b[0m\u001b[0;34m)\u001b[0m\u001b[0;34m,\u001b[0m \u001b[0;36m0\u001b[0m\u001b[0;34m)\u001b[0m\u001b[0;34m\u001b[0m\u001b[0m\n\u001b[1;32m     14\u001b[0m         \u001b[0medged\u001b[0m \u001b[0;34m=\u001b[0m \u001b[0mcv2\u001b[0m\u001b[0;34m.\u001b[0m\u001b[0mCanny\u001b[0m\u001b[0;34m(\u001b[0m\u001b[0mgray\u001b[0m\u001b[0;34m,\u001b[0m \u001b[0;36m35\u001b[0m\u001b[0;34m,\u001b[0m \u001b[0;36m125\u001b[0m\u001b[0;34m)\u001b[0m\u001b[0;34m\u001b[0m\u001b[0m\n",
      "\u001b[0;31merror\u001b[0m: OpenCV(3.4.2) /opt/concourse/worker/volumes/live/0851a95b-0a19-4f3a-61a7-502b925fea13/volume/opencv-suite_1535642710601/work/modules/imgproc/src/color.hpp:253: error: (-215:Assertion failed) VScn::contains(scn) && VDcn::contains(dcn) && VDepth::contains(depth) in function 'CvtHelper'\n"
     ]
    }
   ],
   "source": [
    "# USAGE\n",
    "# python distance_to_camera.py\n",
    "\n",
    "# import the necessary packages\n",
    "from imutils import paths\n",
    "import numpy as np\n",
    "import imutils\n",
    "import cv2\n",
    "\n",
    "def find_marker(image):\n",
    "\t# convert the image to grayscale, blur it, and detect edges\n",
    "\tgray = cv2.cvtColor(image, cv2.COLOR_BGR2GRAY)\n",
    "\tgray = cv2.GaussianBlur(gray, (5, 5), 0)\n",
    "\tedged = cv2.Canny(gray, 35, 125)\n",
    "\n",
    "\t# find the contours in the edged image and keep the largest one;\n",
    "\t# we'll assume that this is our piece of paper in the image\n",
    "\tcnts = cv2.findContours(edged.copy(), cv2.RETR_LIST, cv2.CHAIN_APPROX_SIMPLE)\n",
    "\tcnts = imutils.grab_contours(cnts)\n",
    "\tc = max(cnts, key = cv2.contourArea)\n",
    "\n",
    "\t# compute the bounding box of the of the paper region and return it\n",
    "\treturn cv2.minAreaRect(c)\n",
    "\n",
    "def distance_to_camera(knownWidth, focalLength, perWidth):\n",
    "\t# compute and return the distance from the maker to the camera\n",
    "\treturn (knownWidth * focalLength) / perWidth\n",
    "\n",
    "# initialize the known distance from the camera to the object, which\n",
    "# in this case is 24 inches\n",
    "KNOWN_DISTANCE = 24.0\n",
    "\n",
    "# initialize the known object width, which in this case, the piece of\n",
    "# paper is 12 inches wide\n",
    "KNOWN_WIDTH = 11.0\n",
    "\n",
    "# load the furst image that contains an object that is KNOWN TO BE 2 feet\n",
    "# from our camera, then find the paper marker in the image, and initialize\n",
    "# the focal length\n",
    "image = cv2.imread(\"images/2ft.png\")\n",
    "marker = find_marker(image)\n",
    "focalLength = (marker[1][0] * KNOWN_DISTANCE) / KNOWN_WIDTH\n",
    "\n",
    "# loop over the images\n",
    "for imagePath in sorted(paths.list_images(\"images\")):\n",
    "\t# load the image, find the marker in the image, then compute the\n",
    "\t# distance to the marker from the camera\n",
    "\timage = cv2.imread(imagePath)\n",
    "\tmarker = find_marker(image)\n",
    "\tinches = distance_to_camera(KNOWN_WIDTH, focalLength, marker[1][0])\n",
    "\n",
    "\t# draw a bounding box around the image and display it\n",
    "\tbox = cv2.cv.BoxPoints(marker) if imutils.is_cv2() else cv2.boxPoints(marker)\n",
    "\tbox = np.int0(box)\n",
    "\tcv2.drawContours(image, [box], -1, (0, 255, 0), 2)\n",
    "\tcv2.putText(image, \"%.2fft\" % (inches / 12),\n",
    "\t\t(image.shape[1] - 200, image.shape[0] - 20), cv2.FONT_HERSHEY_SIMPLEX,\n",
    "\t\t2.0, (0, 255, 0), 3)\n",
    "\tcv2.imshow(\"image\", image)\n",
    "\tcv2.waitKey(0)"
   ]
  },
  {
   "cell_type": "code",
   "execution_count": null,
   "metadata": {},
   "outputs": [],
   "source": []
  }
 ],
 "metadata": {
  "kernelspec": {
   "display_name": "Python 3",
   "language": "python",
   "name": "python3"
  },
  "language_info": {
   "codemirror_mode": {
    "name": "ipython",
    "version": 3
   },
   "file_extension": ".py",
   "mimetype": "text/x-python",
   "name": "python",
   "nbconvert_exporter": "python",
   "pygments_lexer": "ipython3",
   "version": "3.5.5"
  }
 },
 "nbformat": 4,
 "nbformat_minor": 2
}

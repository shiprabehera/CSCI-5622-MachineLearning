{
 "cells": [
  {
   "cell_type": "code",
   "execution_count": 1,
   "metadata": {},
   "outputs": [],
   "source": [
    "import numpy as np\n",
    "import pandas as pd\n",
    "from sklearn.ensemble import RandomForestClassifier\n",
    "df = pd.read_csv(\"data/sign_mnist_train.csv\")\n",
    "d_test = pd.read_csv(\"data/sign_mnist_test.csv\")\n",
    "X_train = df.iloc[:,1:785].values\n",
    "y_train = df.iloc[:,0].values\n",
    "X_test = d_test.iloc[:,1:785].values\n",
    "y_test = d_test.iloc[:,0].values\n",
    "\n",
    "class Random_forest_cf:\n",
    "    def __init__(self,X,Y,n_estimate=10,depth=10):\n",
    "        self.rfc = RandomForestClassifier(n_jobs=-1, n_estimators=n_estimate, max_depth = depth)\n",
    "        self.rfc.fit(X, Y)\n",
    "    def getscore(self,X,Y):\n",
    "        return self.rfc.score(X, Y)\n"
   ]
  },
  {
   "cell_type": "code",
   "execution_count": 2,
   "metadata": {},
   "outputs": [
    {
     "name": "stdout",
     "output_type": "stream",
     "text": [
      "Maximum accuracy achieved is: 75.61349693251533 , when the number of estimators are: 410\n"
     ]
    },
    {
     "data": {
      "text/plain": [
       "[<matplotlib.lines.Line2D at 0x115dd6e10>]"
      ]
     },
     "execution_count": 2,
     "metadata": {},
     "output_type": "execute_result"
    }
   ],
   "source": [
    "import matplotlib.pyplot as plt\n",
    "plt.ylabel('Accuracy')\n",
    "plt.xlabel('Number of Trees')\n",
    "accuracy = []\n",
    "number_of_trees = []\n",
    "max_accuracy = -1\n",
    "for i in range(10,600,100):\n",
    "    rf = Random_forest_cf(X_train,y_train,i)\n",
    "    _accuracy = rf.getscore(X_test,y_test)*100\n",
    "    if(_accuracy>max_accuracy):\n",
    "        max_accuracy = _accuracy\n",
    "        estimator = i\n",
    "    accuracy.append(_accuracy)\n",
    "    number_of_trees.append(i)\n",
    "\n",
    "print(\"Maximum accuracy achieved is:\", max_accuracy,\", when the number of estimators are:\", estimator)\n",
    "plt.plot(number_of_trees, accuracy)"
   ]
  },
  {
   "cell_type": "code",
   "execution_count": 3,
   "metadata": {},
   "outputs": [
    {
     "ename": "KeyboardInterrupt",
     "evalue": "",
     "output_type": "error",
     "traceback": [
      "\u001b[0;31m---------------------------------------------------------------------------\u001b[0m",
      "\u001b[0;31mKeyboardInterrupt\u001b[0m                         Traceback (most recent call last)",
      "\u001b[0;32m<ipython-input-3-a027b307c848>\u001b[0m in \u001b[0;36m<module>\u001b[0;34m()\u001b[0m\n\u001b[1;32m      5\u001b[0m \u001b[0mnumber_of_trees\u001b[0m \u001b[0;34m=\u001b[0m \u001b[0;34m[\u001b[0m\u001b[0;34m]\u001b[0m\u001b[0;34m\u001b[0m\u001b[0m\n\u001b[1;32m      6\u001b[0m \u001b[0;32mfor\u001b[0m \u001b[0mi\u001b[0m \u001b[0;32min\u001b[0m \u001b[0mrange\u001b[0m\u001b[0;34m(\u001b[0m\u001b[0;36m10\u001b[0m\u001b[0;34m,\u001b[0m\u001b[0;36m100\u001b[0m\u001b[0;34m,\u001b[0m\u001b[0;36m10\u001b[0m\u001b[0;34m)\u001b[0m\u001b[0;34m:\u001b[0m\u001b[0;34m\u001b[0m\u001b[0m\n\u001b[0;32m----> 7\u001b[0;31m     \u001b[0mrf\u001b[0m \u001b[0;34m=\u001b[0m \u001b[0mRandom_forest_cf\u001b[0m\u001b[0;34m(\u001b[0m\u001b[0mX_train\u001b[0m\u001b[0;34m,\u001b[0m\u001b[0my_train\u001b[0m\u001b[0;34m,\u001b[0m\u001b[0;36m400\u001b[0m\u001b[0;34m,\u001b[0m\u001b[0mi\u001b[0m\u001b[0;34m)\u001b[0m\u001b[0;34m\u001b[0m\u001b[0m\n\u001b[0m\u001b[1;32m      8\u001b[0m     \u001b[0m_accuracy\u001b[0m \u001b[0;34m=\u001b[0m \u001b[0mrf\u001b[0m\u001b[0;34m.\u001b[0m\u001b[0mgetscore\u001b[0m\u001b[0;34m(\u001b[0m\u001b[0mX_test\u001b[0m\u001b[0;34m,\u001b[0m\u001b[0my_test\u001b[0m\u001b[0;34m)\u001b[0m\u001b[0;34m*\u001b[0m\u001b[0;36m100\u001b[0m\u001b[0;34m\u001b[0m\u001b[0m\n\u001b[1;32m      9\u001b[0m     \u001b[0;32mif\u001b[0m\u001b[0;34m(\u001b[0m\u001b[0m_accuracy\u001b[0m\u001b[0;34m>\u001b[0m\u001b[0mmax_accuracy\u001b[0m\u001b[0;34m)\u001b[0m\u001b[0;34m:\u001b[0m\u001b[0;34m\u001b[0m\u001b[0m\n",
      "\u001b[0;32m<ipython-input-1-fcc6d69c44c5>\u001b[0m in \u001b[0;36m__init__\u001b[0;34m(self, X, Y, n_estimate, depth)\u001b[0m\n\u001b[1;32m     12\u001b[0m     \u001b[0;32mdef\u001b[0m \u001b[0m__init__\u001b[0m\u001b[0;34m(\u001b[0m\u001b[0mself\u001b[0m\u001b[0;34m,\u001b[0m\u001b[0mX\u001b[0m\u001b[0;34m,\u001b[0m\u001b[0mY\u001b[0m\u001b[0;34m,\u001b[0m\u001b[0mn_estimate\u001b[0m\u001b[0;34m=\u001b[0m\u001b[0;36m10\u001b[0m\u001b[0;34m,\u001b[0m\u001b[0mdepth\u001b[0m\u001b[0;34m=\u001b[0m\u001b[0;36m10\u001b[0m\u001b[0;34m)\u001b[0m\u001b[0;34m:\u001b[0m\u001b[0;34m\u001b[0m\u001b[0m\n\u001b[1;32m     13\u001b[0m         \u001b[0mself\u001b[0m\u001b[0;34m.\u001b[0m\u001b[0mrfc\u001b[0m \u001b[0;34m=\u001b[0m \u001b[0mRandomForestClassifier\u001b[0m\u001b[0;34m(\u001b[0m\u001b[0mn_jobs\u001b[0m\u001b[0;34m=\u001b[0m\u001b[0;34m-\u001b[0m\u001b[0;36m1\u001b[0m\u001b[0;34m,\u001b[0m \u001b[0mn_estimators\u001b[0m\u001b[0;34m=\u001b[0m\u001b[0mn_estimate\u001b[0m\u001b[0;34m,\u001b[0m \u001b[0mmax_depth\u001b[0m \u001b[0;34m=\u001b[0m \u001b[0mdepth\u001b[0m\u001b[0;34m)\u001b[0m\u001b[0;34m\u001b[0m\u001b[0m\n\u001b[0;32m---> 14\u001b[0;31m         \u001b[0mself\u001b[0m\u001b[0;34m.\u001b[0m\u001b[0mrfc\u001b[0m\u001b[0;34m.\u001b[0m\u001b[0mfit\u001b[0m\u001b[0;34m(\u001b[0m\u001b[0mX\u001b[0m\u001b[0;34m,\u001b[0m \u001b[0mY\u001b[0m\u001b[0;34m)\u001b[0m\u001b[0;34m\u001b[0m\u001b[0m\n\u001b[0m\u001b[1;32m     15\u001b[0m     \u001b[0;32mdef\u001b[0m \u001b[0mgetscore\u001b[0m\u001b[0;34m(\u001b[0m\u001b[0mself\u001b[0m\u001b[0;34m,\u001b[0m\u001b[0mX\u001b[0m\u001b[0;34m,\u001b[0m\u001b[0mY\u001b[0m\u001b[0;34m)\u001b[0m\u001b[0;34m:\u001b[0m\u001b[0;34m\u001b[0m\u001b[0m\n\u001b[1;32m     16\u001b[0m         \u001b[0;32mreturn\u001b[0m \u001b[0mself\u001b[0m\u001b[0;34m.\u001b[0m\u001b[0mrfc\u001b[0m\u001b[0;34m.\u001b[0m\u001b[0mscore\u001b[0m\u001b[0;34m(\u001b[0m\u001b[0mX\u001b[0m\u001b[0;34m,\u001b[0m \u001b[0mY\u001b[0m\u001b[0;34m)\u001b[0m\u001b[0;34m\u001b[0m\u001b[0m\n",
      "\u001b[0;32m~/anaconda3/lib/python3.5/site-packages/sklearn/ensemble/forest.py\u001b[0m in \u001b[0;36mfit\u001b[0;34m(self, X, y, sample_weight)\u001b[0m\n\u001b[1;32m    326\u001b[0m                     \u001b[0mt\u001b[0m\u001b[0;34m,\u001b[0m \u001b[0mself\u001b[0m\u001b[0;34m,\u001b[0m \u001b[0mX\u001b[0m\u001b[0;34m,\u001b[0m \u001b[0my\u001b[0m\u001b[0;34m,\u001b[0m \u001b[0msample_weight\u001b[0m\u001b[0;34m,\u001b[0m \u001b[0mi\u001b[0m\u001b[0;34m,\u001b[0m \u001b[0mlen\u001b[0m\u001b[0;34m(\u001b[0m\u001b[0mtrees\u001b[0m\u001b[0;34m)\u001b[0m\u001b[0;34m,\u001b[0m\u001b[0;34m\u001b[0m\u001b[0m\n\u001b[1;32m    327\u001b[0m                     verbose=self.verbose, class_weight=self.class_weight)\n\u001b[0;32m--> 328\u001b[0;31m                 for i, t in enumerate(trees))\n\u001b[0m\u001b[1;32m    329\u001b[0m \u001b[0;34m\u001b[0m\u001b[0m\n\u001b[1;32m    330\u001b[0m             \u001b[0;31m# Collect newly grown trees\u001b[0m\u001b[0;34m\u001b[0m\u001b[0;34m\u001b[0m\u001b[0m\n",
      "\u001b[0;32m~/anaconda3/lib/python3.5/site-packages/sklearn/externals/joblib/parallel.py\u001b[0m in \u001b[0;36m__call__\u001b[0;34m(self, iterable)\u001b[0m\n\u001b[1;32m    787\u001b[0m                 \u001b[0;31m# consumption.\u001b[0m\u001b[0;34m\u001b[0m\u001b[0;34m\u001b[0m\u001b[0m\n\u001b[1;32m    788\u001b[0m                 \u001b[0mself\u001b[0m\u001b[0;34m.\u001b[0m\u001b[0m_iterating\u001b[0m \u001b[0;34m=\u001b[0m \u001b[0;32mFalse\u001b[0m\u001b[0;34m\u001b[0m\u001b[0m\n\u001b[0;32m--> 789\u001b[0;31m             \u001b[0mself\u001b[0m\u001b[0;34m.\u001b[0m\u001b[0mretrieve\u001b[0m\u001b[0;34m(\u001b[0m\u001b[0;34m)\u001b[0m\u001b[0;34m\u001b[0m\u001b[0m\n\u001b[0m\u001b[1;32m    790\u001b[0m             \u001b[0;31m# Make sure that we get a last message telling us we are done\u001b[0m\u001b[0;34m\u001b[0m\u001b[0;34m\u001b[0m\u001b[0m\n\u001b[1;32m    791\u001b[0m             \u001b[0melapsed_time\u001b[0m \u001b[0;34m=\u001b[0m \u001b[0mtime\u001b[0m\u001b[0;34m.\u001b[0m\u001b[0mtime\u001b[0m\u001b[0;34m(\u001b[0m\u001b[0;34m)\u001b[0m \u001b[0;34m-\u001b[0m \u001b[0mself\u001b[0m\u001b[0;34m.\u001b[0m\u001b[0m_start_time\u001b[0m\u001b[0;34m\u001b[0m\u001b[0m\n",
      "\u001b[0;32m~/anaconda3/lib/python3.5/site-packages/sklearn/externals/joblib/parallel.py\u001b[0m in \u001b[0;36mretrieve\u001b[0;34m(self)\u001b[0m\n\u001b[1;32m    697\u001b[0m             \u001b[0;32mtry\u001b[0m\u001b[0;34m:\u001b[0m\u001b[0;34m\u001b[0m\u001b[0m\n\u001b[1;32m    698\u001b[0m                 \u001b[0;32mif\u001b[0m \u001b[0mgetattr\u001b[0m\u001b[0;34m(\u001b[0m\u001b[0mself\u001b[0m\u001b[0;34m.\u001b[0m\u001b[0m_backend\u001b[0m\u001b[0;34m,\u001b[0m \u001b[0;34m'supports_timeout'\u001b[0m\u001b[0;34m,\u001b[0m \u001b[0;32mFalse\u001b[0m\u001b[0;34m)\u001b[0m\u001b[0;34m:\u001b[0m\u001b[0;34m\u001b[0m\u001b[0m\n\u001b[0;32m--> 699\u001b[0;31m                     \u001b[0mself\u001b[0m\u001b[0;34m.\u001b[0m\u001b[0m_output\u001b[0m\u001b[0;34m.\u001b[0m\u001b[0mextend\u001b[0m\u001b[0;34m(\u001b[0m\u001b[0mjob\u001b[0m\u001b[0;34m.\u001b[0m\u001b[0mget\u001b[0m\u001b[0;34m(\u001b[0m\u001b[0mtimeout\u001b[0m\u001b[0;34m=\u001b[0m\u001b[0mself\u001b[0m\u001b[0;34m.\u001b[0m\u001b[0mtimeout\u001b[0m\u001b[0;34m)\u001b[0m\u001b[0;34m)\u001b[0m\u001b[0;34m\u001b[0m\u001b[0m\n\u001b[0m\u001b[1;32m    700\u001b[0m                 \u001b[0;32melse\u001b[0m\u001b[0;34m:\u001b[0m\u001b[0;34m\u001b[0m\u001b[0m\n\u001b[1;32m    701\u001b[0m                     \u001b[0mself\u001b[0m\u001b[0;34m.\u001b[0m\u001b[0m_output\u001b[0m\u001b[0;34m.\u001b[0m\u001b[0mextend\u001b[0m\u001b[0;34m(\u001b[0m\u001b[0mjob\u001b[0m\u001b[0;34m.\u001b[0m\u001b[0mget\u001b[0m\u001b[0;34m(\u001b[0m\u001b[0;34m)\u001b[0m\u001b[0;34m)\u001b[0m\u001b[0;34m\u001b[0m\u001b[0m\n",
      "\u001b[0;32m~/anaconda3/lib/python3.5/multiprocessing/pool.py\u001b[0m in \u001b[0;36mget\u001b[0;34m(self, timeout)\u001b[0m\n\u001b[1;32m    636\u001b[0m \u001b[0;34m\u001b[0m\u001b[0m\n\u001b[1;32m    637\u001b[0m     \u001b[0;32mdef\u001b[0m \u001b[0mget\u001b[0m\u001b[0;34m(\u001b[0m\u001b[0mself\u001b[0m\u001b[0;34m,\u001b[0m \u001b[0mtimeout\u001b[0m\u001b[0;34m=\u001b[0m\u001b[0;32mNone\u001b[0m\u001b[0;34m)\u001b[0m\u001b[0;34m:\u001b[0m\u001b[0;34m\u001b[0m\u001b[0m\n\u001b[0;32m--> 638\u001b[0;31m         \u001b[0mself\u001b[0m\u001b[0;34m.\u001b[0m\u001b[0mwait\u001b[0m\u001b[0;34m(\u001b[0m\u001b[0mtimeout\u001b[0m\u001b[0;34m)\u001b[0m\u001b[0;34m\u001b[0m\u001b[0m\n\u001b[0m\u001b[1;32m    639\u001b[0m         \u001b[0;32mif\u001b[0m \u001b[0;32mnot\u001b[0m \u001b[0mself\u001b[0m\u001b[0;34m.\u001b[0m\u001b[0mready\u001b[0m\u001b[0;34m(\u001b[0m\u001b[0;34m)\u001b[0m\u001b[0;34m:\u001b[0m\u001b[0;34m\u001b[0m\u001b[0m\n\u001b[1;32m    640\u001b[0m             \u001b[0;32mraise\u001b[0m \u001b[0mTimeoutError\u001b[0m\u001b[0;34m\u001b[0m\u001b[0m\n",
      "\u001b[0;32m~/anaconda3/lib/python3.5/multiprocessing/pool.py\u001b[0m in \u001b[0;36mwait\u001b[0;34m(self, timeout)\u001b[0m\n\u001b[1;32m    633\u001b[0m \u001b[0;34m\u001b[0m\u001b[0m\n\u001b[1;32m    634\u001b[0m     \u001b[0;32mdef\u001b[0m \u001b[0mwait\u001b[0m\u001b[0;34m(\u001b[0m\u001b[0mself\u001b[0m\u001b[0;34m,\u001b[0m \u001b[0mtimeout\u001b[0m\u001b[0;34m=\u001b[0m\u001b[0;32mNone\u001b[0m\u001b[0;34m)\u001b[0m\u001b[0;34m:\u001b[0m\u001b[0;34m\u001b[0m\u001b[0m\n\u001b[0;32m--> 635\u001b[0;31m         \u001b[0mself\u001b[0m\u001b[0;34m.\u001b[0m\u001b[0m_event\u001b[0m\u001b[0;34m.\u001b[0m\u001b[0mwait\u001b[0m\u001b[0;34m(\u001b[0m\u001b[0mtimeout\u001b[0m\u001b[0;34m)\u001b[0m\u001b[0;34m\u001b[0m\u001b[0m\n\u001b[0m\u001b[1;32m    636\u001b[0m \u001b[0;34m\u001b[0m\u001b[0m\n\u001b[1;32m    637\u001b[0m     \u001b[0;32mdef\u001b[0m \u001b[0mget\u001b[0m\u001b[0;34m(\u001b[0m\u001b[0mself\u001b[0m\u001b[0;34m,\u001b[0m \u001b[0mtimeout\u001b[0m\u001b[0;34m=\u001b[0m\u001b[0;32mNone\u001b[0m\u001b[0;34m)\u001b[0m\u001b[0;34m:\u001b[0m\u001b[0;34m\u001b[0m\u001b[0m\n",
      "\u001b[0;32m~/anaconda3/lib/python3.5/threading.py\u001b[0m in \u001b[0;36mwait\u001b[0;34m(self, timeout)\u001b[0m\n\u001b[1;32m    547\u001b[0m             \u001b[0msignaled\u001b[0m \u001b[0;34m=\u001b[0m \u001b[0mself\u001b[0m\u001b[0;34m.\u001b[0m\u001b[0m_flag\u001b[0m\u001b[0;34m\u001b[0m\u001b[0m\n\u001b[1;32m    548\u001b[0m             \u001b[0;32mif\u001b[0m \u001b[0;32mnot\u001b[0m \u001b[0msignaled\u001b[0m\u001b[0;34m:\u001b[0m\u001b[0;34m\u001b[0m\u001b[0m\n\u001b[0;32m--> 549\u001b[0;31m                 \u001b[0msignaled\u001b[0m \u001b[0;34m=\u001b[0m \u001b[0mself\u001b[0m\u001b[0;34m.\u001b[0m\u001b[0m_cond\u001b[0m\u001b[0;34m.\u001b[0m\u001b[0mwait\u001b[0m\u001b[0;34m(\u001b[0m\u001b[0mtimeout\u001b[0m\u001b[0;34m)\u001b[0m\u001b[0;34m\u001b[0m\u001b[0m\n\u001b[0m\u001b[1;32m    550\u001b[0m             \u001b[0;32mreturn\u001b[0m \u001b[0msignaled\u001b[0m\u001b[0;34m\u001b[0m\u001b[0m\n\u001b[1;32m    551\u001b[0m \u001b[0;34m\u001b[0m\u001b[0m\n",
      "\u001b[0;32m~/anaconda3/lib/python3.5/threading.py\u001b[0m in \u001b[0;36mwait\u001b[0;34m(self, timeout)\u001b[0m\n\u001b[1;32m    291\u001b[0m         \u001b[0;32mtry\u001b[0m\u001b[0;34m:\u001b[0m    \u001b[0;31m# restore state no matter what (e.g., KeyboardInterrupt)\u001b[0m\u001b[0;34m\u001b[0m\u001b[0m\n\u001b[1;32m    292\u001b[0m             \u001b[0;32mif\u001b[0m \u001b[0mtimeout\u001b[0m \u001b[0;32mis\u001b[0m \u001b[0;32mNone\u001b[0m\u001b[0;34m:\u001b[0m\u001b[0;34m\u001b[0m\u001b[0m\n\u001b[0;32m--> 293\u001b[0;31m                 \u001b[0mwaiter\u001b[0m\u001b[0;34m.\u001b[0m\u001b[0macquire\u001b[0m\u001b[0;34m(\u001b[0m\u001b[0;34m)\u001b[0m\u001b[0;34m\u001b[0m\u001b[0m\n\u001b[0m\u001b[1;32m    294\u001b[0m                 \u001b[0mgotit\u001b[0m \u001b[0;34m=\u001b[0m \u001b[0;32mTrue\u001b[0m\u001b[0;34m\u001b[0m\u001b[0m\n\u001b[1;32m    295\u001b[0m             \u001b[0;32melse\u001b[0m\u001b[0;34m:\u001b[0m\u001b[0;34m\u001b[0m\u001b[0m\n",
      "\u001b[0;31mKeyboardInterrupt\u001b[0m: "
     ]
    },
    {
     "data": {
      "image/png": "[encoded data removed]",
      "text/plain": [
       "<Figure size 432x288 with 1 Axes>"
      ]
     },
     "metadata": {
      "needs_background": "light"
     },
     "output_type": "display_data"
    }
   ],
   "source": [
    "import matplotlib.pyplot as plt\n",
    "plt.ylabel('Accuracy')\n",
    "plt.xlabel('Depth')\n",
    "accuracy = []\n",
    "number_of_trees = []\n",
    "for i in range(10,100,10):\n",
    "    rf = Random_forest_cf(X_train,y_train,400,i)\n",
    "    _accuracy = rf.getscore(X_test,y_test)*100\n",
    "    if(_accuracy>max_accuracy):\n",
    "        max_accuracy = _accuracy\n",
    "        _depth = i\n",
    "    accuracy.append(_accuracy)\n",
    "    number_of_trees.append(i)\n",
    "print(\"Maximum accuracy achieved is:\", max_accuracy,\" when the depth is:\",_depth)\n",
    "plt.plot(number_of_trees, accuracy)"
   ]
  },
  {
   "cell_type": "code",
   "execution_count": 6,
   "metadata": {},
   "outputs": [
    {
     "name": "stderr",
     "output_type": "stream",
     "text": [
      "/Users/shipra/anaconda3/lib/python3.5/site-packages/sklearn/utils/validation.py:475: DataConversionWarning: Data with input dtype int64 was converted to float64 by StandardScaler.\n",
      "  warnings.warn(msg, DataConversionWarning)\n"
     ]
    }
   ],
   "source": [
    "from sklearn.decomposition import PCA\n",
    "from sklearn.preprocessing import StandardScaler\n",
    "\n",
    "X_std = StandardScaler().fit_transform(X_train)\n",
    "X_std_test = StandardScaler().fit_transform(X_test)\n",
    "components = 40\n",
    "\n",
    "# Call the PCA method with 2 components. \n",
    "pca = PCA(n_components=components)\n",
    "x_2 = pca.fit(X_std).transform(X_std)\n",
    "x_test = pca.fit(X_std).transform(X_std_test)"
   ]
  },
  {
   "cell_type": "code",
   "execution_count": 10,
   "metadata": {},
   "outputs": [],
   "source": [
    "def get_accuracy_cluster(expected, predicted):\n",
    "    label_count_map = {}\n",
    "    for true_label, pred_label in zip(expected, predicted):\n",
    "        key = \"p\" + str(pred_label) + \"e\"  + str(true_label)\n",
    "        if key in label_count_map:\n",
    "            label_count_map[key] = label_count_map[key]+1\n",
    "        else:\n",
    "            label_count_map[key] = 1\n",
    "    print(label_count_map)\n",
    "    import collections\n",
    "    od = collections.OrderedDict(sorted(label_count_map.items()))\n",
    "    print(od)\n",
    "    final_label_map = {}\n",
    "    final_label_count_map = {}\n",
    "    for key, value in od.items():\n",
    "        #print(key, value)\n",
    "        pred_label = \"\"\n",
    "        true_label = \"\"\n",
    "        e_flag = 0\n",
    "        for k in range(0, len(key)):\n",
    "            if key[k] != \"p\" and key[k] != \"e\" and e_flag == 0:\n",
    "               pred_label = pred_label+key[k]\n",
    "            elif key[k] != \"p\" and key[k] != \"e\" and e_flag == 1:\n",
    "               true_label = true_label+key[k]\n",
    "            elif key[k] == \"e\":\n",
    "                e_flag = 1\n",
    "        #print(\"pred is \", pred_label+ \", true is \" + true_label)\n",
    "        if pred_label not in final_label_map:\n",
    "            final_label_count_map[pred_label] = value\n",
    "            final_label_map[pred_label] = true_label\n",
    "        elif final_label_count_map[pred_label] <= value:\n",
    "            final_label_count_map[pred_label] = value\n",
    "            final_label_map[pred_label] = true_label\n",
    "\n",
    "    print(\"final map is \", final_label_map)\n",
    "    err = 0\n",
    "    for true_label, pred_label in zip(expected, predicted):\n",
    "        #print(pred_label)\n",
    "        if final_label_map[str(pred_label)] != str(true_label):\n",
    "            err = err +1\n",
    "    #print(\"Total errors \", err)  \n",
    "    return 100- err*100/len(predicted)"
   ]
  },
  {
   "cell_type": "code",
   "execution_count": 7,
   "metadata": {},
   "outputs": [],
   "source": [
    "from sklearn.cluster import KMeans\n",
    "kmeans_with_pca = KMeans(n_clusters=24).fit(x_2)"
   ]
  },
  {
   "cell_type": "code",
   "execution_count": 8,
   "metadata": {},
   "outputs": [],
   "source": [
    "result_kmeans_pca = kmeans_with_pca.predict(x_test)"
   ]
  },
  {
   "cell_type": "code",
   "execution_count": 11,
   "metadata": {},
   "outputs": [
    {
     "name": "stdout",
     "output_type": "stream",
     "text": [
      "{'p0e1': 5, 'p6e19': 4, 'p10e16': 6, 'p1e22': 8, 'p7e23': 13, 'p9e14': 5, 'p20e15': 11, 'p21e0': 120, 'p7e15': 16, 'p20e12': 12, 'p23e16': 20, 'p22e2': 62, 'p18e4': 31, 'p4e21': 3, 'p13e2': 15, 'p9e15': 1, 'p9e8': 27, 'p10e19': 9, 'p13e24': 44, 'p9e18': 34, 'p23e8': 5, 'p14e0': 3, 'p22e19': 18, 'p13e22': 18, 'p7e11': 61, 'p16e6': 3, 'p21e18': 25, 'p5e14': 60, 'p19e14': 18, 'p22e24': 11, 'p17e8': 1, 'p9e20': 68, 'p10e2': 5, 'p20e23': 10, 'p8e24': 17, 'p18e10': 72, 'p15e23': 16, 'p21e16': 7, 'p18e18': 11, 'p14e2': 17, 'p14e8': 18, 'p13e12': 3, 'p15e6': 14, 'p22e4': 42, 'p10e12': 15, 'p9e21': 66, 'p8e21': 20, 'p14e14': 23, 'p3e24': 19, 'p0e24': 1, 'p6e3': 9, 'p19e3': 55, 'p19e18': 47, 'p12e19': 1, 'p19e1': 78, 'p1e18': 13, 'p3e4': 44, 'p22e11': 18, 'p10e11': 16, 'p1e5': 9, 'p19e5': 51, 'p3e20': 31, 'p2e22': 4, 'p3e8': 16, 'p1e6': 5, 'p21e4': 142, 'p4e23': 15, 'p7e16': 3, 'p19e2': 9, 'p22e7': 23, 'p12e16': 7, 'p23e10': 26, 'p14e4': 35, 'p13e8': 27, 'p16e17': 11, 'p13e10': 8, 'p18e3': 23, 'p10e15': 2, 'p12e23': 1, 'p17e23': 3, 'p10e7': 34, 'p19e19': 11, 'p9e10': 27, 'p17e16': 3, 'p18e15': 5, 'p0e0': 86, 'p11e21': 12, 'p10e18': 19, 'p0e16': 20, 'p10e1': 36, 'p22e14': 37, 'p23e3': 12, 'p20e24': 6, 'p1e0': 11, 'p9e11': 7, 'p4e6': 50, 'p11e24': 27, 'p6e8': 10, 'p7e19': 28, 'p20e19': 11, 'p20e10': 99, 'p14e16': 18, 'p10e23': 9, 'p19e22': 15, 'p0e18': 37, 'p4e0': 12, 'p6e23': 3, 'p17e7': 78, 'p19e8': 10, 'p2e16': 27, 'p19e21': 43, 'p1e12': 15, 'p22e8': 17, 'p13e7': 4, 'p13e3': 13, 'p14e12': 12, 'p13e11': 31, 'p16e13': 12, 'p12e4': 53, 'p2e15': 139, 'p1e7': 13, 'p6e15': 6, 'p10e5': 17, 'p18e20': 26, 'p1e4': 12, 'p9e16': 3, 'p18e23': 27, 'p12e13': 28, 'p19e0': 2, 'p0e12': 47, 'p13e13': 11, 'p0e14': 22, 'p20e21': 30, 'p7e21': 8, 'p5e11': 3, 'p2e11': 5, 'p23e22': 5, 'p1e13': 17, 'p22e13': 13, 'p16e8': 46, 'p7e8': 1, 'p13e6': 28, 'p13e16': 1, 'p10e6': 1, 'p10e13': 5, 'p10e22': 1, 'p10e14': 14, 'p21e2': 1, 'p17e5': 9, 'p17e6': 84, 'p4e7': 10, 'p3e15': 1, 'p7e20': 3, 'p6e13': 2, 'p19e16': 1, 'p3e6': 1, 'p9e13': 27, 'p3e19': 1, 'p1e16': 1, 'p10e8': 15, 'p18e13': 11, 'p9e23': 48, 'p7e5': 13, 'p16e19': 1, 'p6e11': 1, 'p17e2': 16, 'p8e1': 7, 'p7e6': 65, 'p22e6': 26, 'p7e24': 21, 'p20e4': 1, 'p18e5': 17, 'p6e21': 1, 'p11e11': 8, 'p3e12': 33, 'p1e19': 22, 'p5e2': 139, 'p13e5': 29, 'p9e7': 5, 'p13e1': 9, 'p19e20': 46, 'p19e23': 26, 'p8e20': 15, 'p3e7': 5, 'p9e2': 1, 'p10e20': 12, 'p17e19': 10, 'p4e3': 16, 'p23e12': 8, 'p22e0': 7, 'p16e7': 6, 'p2e6': 3, 'p6e17': 7, 'p7e7': 79, 'p12e14': 25, 'p3e1': 21, 'p3e3': 13, 'p19e7': 10, 'p23e2': 6, 'p20e22': 18, 'p2e10': 5, 'p20e1': 80, 'p13e17': 8, 'p12e12': 48, 'p12e5': 4, 'p16e16': 8, 'p23e23': 3, 'p18e1': 48, 'p5e23': 1, 'p2e23': 6, 'p1e17': 5, 'p10e4': 11, 'p20e3': 25, 'p11e7': 47, 'p23e15': 57, 'p22e18': 6, 'p8e16': 4, 'p7e10': 13, 'p15e11': 30, 'p7e14': 13, 'p0e5': 12, 'p22e20': 3, 'p22e17': 6, 'p6e6': 63, 'p18e24': 42, 'p4e12': 10, 'p16e15': 23, 'p9e17': 28, 'p16e23': 2, 'p17e14': 9, 'p3e22': 40, 'p11e22': 13, 'p2e1': 5, 'p9e4': 17, 'p18e21': 55, 'p22e22': 1, 'p3e18': 19, 'p8e15': 43, 'p3e16': 9, 'p0e8': 26, 'p7e17': 11, 'p23e5': 2, 'p9e19': 14, 'p19e12': 31, 'p12e0': 64, 'p13e21': 31, 'p10e24': 22, 'p1e8': 21, 'p21e23': 8, 'p13e20': 34, 'p12e1': 4, 'p18e17': 49, 'p9e22': 33, 'p4e8': 2, 'p16e1': 25, 'p1e14': 2, 'p15e8': 1, 'p0e13': 44, 'p1e23': 23, 'p21e5': 4, 'p3e0': 1, 'p12e8': 8, 'p20e18': 13, 'p9e5': 32, 'p9e6': 5, 'p2e24': 2, 'p0e4': 107, 'p19e13': 12, 'p22e21': 3, 'p9e0': 8, 'p1e2': 1, 'p6e16': 11, 'p23e19': 5, 'p12e2': 19, 'p13e19': 93, 'p23e18': 13, 'p2e20': 4, 'p1e21': 20, 'p9e1': 52, 'p10e3': 30, 'p12e11': 5, 'p18e8': 23, 'p21e12': 71, 'p21e8': 14, 'p10e0': 16, 'p2e7': 7, 'p3e5': 22, 'p22e10': 6, 'p17e11': 10, 'p13e23': 18, 'p22e5': 18, 'p1e10': 3, 'p22e16': 14, 'p23e4': 3, 'p18e22': 49, 'p21e1': 23, 'p1e11': 9, 'p3e21': 33, 'p16e11': 4, 'p1e20': 24, 'p14e13': 12, 'p15e19': 16, 'p22e15': 43, 'p0e2': 13, 'p19e24': 26, 'p23e1': 14, 'p20e5': 8, 'p6e24': 2, 'p10e21': 15, 'p10e10': 10, 'p3e10': 39, 'p9e24': 67, 'p9e12': 16, 'p2e12': 5, 'p18e12': 21, 'p13e14': 4, 'p7e22': 1, 'p19e10': 23, 'p13e0': 1, 'p21e14': 11, 'p16e24': 2, 'p19e11': 1, 'p7e2': 6, 'p13e18': 1, 'p3e13': 12, 'p18e7': 2, 'p18e19': 4, 'p1e3': 5, 'p9e3': 18, 'p1e24': 20, 'p16e12': 23, 'p21e13': 63, 'p21e24': 3, 'p15e7': 59, 'p23e21': 6, 'p6e7': 54, 'p3e14': 3, 'p7e13': 20, 'p6e1': 1, 'p3e23': 30, 'p1e1': 24, 'p22e12': 18, 'p16e3': 26, 'p12e18': 8, 'p22e23': 5, 'p6e12': 6, 'p18e16': 1, 'p5e13': 1, 'p3e17': 19, 'p2e13': 1}\n",
      "OrderedDict([('p0e0', 86), ('p0e1', 5), ('p0e12', 47), ('p0e13', 44), ('p0e14', 22), ('p0e16', 20), ('p0e18', 37), ('p0e2', 13), ('p0e24', 1), ('p0e4', 107), ('p0e5', 12), ('p0e8', 26), ('p10e0', 16), ('p10e1', 36), ('p10e10', 10), ('p10e11', 16), ('p10e12', 15), ('p10e13', 5), ('p10e14', 14), ('p10e15', 2), ('p10e16', 6), ('p10e18', 19), ('p10e19', 9), ('p10e2', 5), ('p10e20', 12), ('p10e21', 15), ('p10e22', 1), ('p10e23', 9), ('p10e24', 22), ('p10e3', 30), ('p10e4', 11), ('p10e5', 17), ('p10e6', 1), ('p10e7', 34), ('p10e8', 15), ('p11e11', 8), ('p11e21', 12), ('p11e22', 13), ('p11e24', 27), ('p11e7', 47), ('p12e0', 64), ('p12e1', 4), ('p12e11', 5), ('p12e12', 48), ('p12e13', 28), ('p12e14', 25), ('p12e16', 7), ('p12e18', 8), ('p12e19', 1), ('p12e2', 19), ('p12e23', 1), ('p12e4', 53), ('p12e5', 4), ('p12e8', 8), ('p13e0', 1), ('p13e1', 9), ('p13e10', 8), ('p13e11', 31), ('p13e12', 3), ('p13e13', 11), ('p13e14', 4), ('p13e16', 1), ('p13e17', 8), ('p13e18', 1), ('p13e19', 93), ('p13e2', 15), ('p13e20', 34), ('p13e21', 31), ('p13e22', 18), ('p13e23', 18), ('p13e24', 44), ('p13e3', 13), ('p13e5', 29), ('p13e6', 28), ('p13e7', 4), ('p13e8', 27), ('p14e0', 3), ('p14e12', 12), ('p14e13', 12), ('p14e14', 23), ('p14e16', 18), ('p14e2', 17), ('p14e4', 35), ('p14e8', 18), ('p15e11', 30), ('p15e19', 16), ('p15e23', 16), ('p15e6', 14), ('p15e7', 59), ('p15e8', 1), ('p16e1', 25), ('p16e11', 4), ('p16e12', 23), ('p16e13', 12), ('p16e15', 23), ('p16e16', 8), ('p16e17', 11), ('p16e19', 1), ('p16e23', 2), ('p16e24', 2), ('p16e3', 26), ('p16e6', 3), ('p16e7', 6), ('p16e8', 46), ('p17e11', 10), ('p17e14', 9), ('p17e16', 3), ('p17e19', 10), ('p17e2', 16), ('p17e23', 3), ('p17e5', 9), ('p17e6', 84), ('p17e7', 78), ('p17e8', 1), ('p18e1', 48), ('p18e10', 72), ('p18e12', 21), ('p18e13', 11), ('p18e15', 5), ('p18e16', 1), ('p18e17', 49), ('p18e18', 11), ('p18e19', 4), ('p18e20', 26), ('p18e21', 55), ('p18e22', 49), ('p18e23', 27), ('p18e24', 42), ('p18e3', 23), ('p18e4', 31), ('p18e5', 17), ('p18e7', 2), ('p18e8', 23), ('p19e0', 2), ('p19e1', 78), ('p19e10', 23), ('p19e11', 1), ('p19e12', 31), ('p19e13', 12), ('p19e14', 18), ('p19e16', 1), ('p19e18', 47), ('p19e19', 11), ('p19e2', 9), ('p19e20', 46), ('p19e21', 43), ('p19e22', 15), ('p19e23', 26), ('p19e24', 26), ('p19e3', 55), ('p19e5', 51), ('p19e7', 10), ('p19e8', 10), ('p1e0', 11), ('p1e1', 24), ('p1e10', 3), ('p1e11', 9), ('p1e12', 15), ('p1e13', 17), ('p1e14', 2), ('p1e16', 1), ('p1e17', 5), ('p1e18', 13), ('p1e19', 22), ('p1e2', 1), ('p1e20', 24), ('p1e21', 20), ('p1e22', 8), ('p1e23', 23), ('p1e24', 20), ('p1e3', 5), ('p1e4', 12), ('p1e5', 9), ('p1e6', 5), ('p1e7', 13), ('p1e8', 21), ('p20e1', 80), ('p20e10', 99), ('p20e12', 12), ('p20e15', 11), ('p20e18', 13), ('p20e19', 11), ('p20e21', 30), ('p20e22', 18), ('p20e23', 10), ('p20e24', 6), ('p20e3', 25), ('p20e4', 1), ('p20e5', 8), ('p21e0', 120), ('p21e1', 23), ('p21e12', 71), ('p21e13', 63), ('p21e14', 11), ('p21e16', 7), ('p21e18', 25), ('p21e2', 1), ('p21e23', 8), ('p21e24', 3), ('p21e4', 142), ('p21e5', 4), ('p21e8', 14), ('p22e0', 7), ('p22e10', 6), ('p22e11', 18), ('p22e12', 18), ('p22e13', 13), ('p22e14', 37), ('p22e15', 43), ('p22e16', 14), ('p22e17', 6), ('p22e18', 6), ('p22e19', 18), ('p22e2', 62), ('p22e20', 3), ('p22e21', 3), ('p22e22', 1), ('p22e23', 5), ('p22e24', 11), ('p22e4', 42), ('p22e5', 18), ('p22e6', 26), ('p22e7', 23), ('p22e8', 17), ('p23e1', 14), ('p23e10', 26), ('p23e12', 8), ('p23e15', 57), ('p23e16', 20), ('p23e18', 13), ('p23e19', 5), ('p23e2', 6), ('p23e21', 6), ('p23e22', 5), ('p23e23', 3), ('p23e3', 12), ('p23e4', 3), ('p23e5', 2), ('p23e8', 5), ('p2e1', 5), ('p2e10', 5), ('p2e11', 5), ('p2e12', 5), ('p2e13', 1), ('p2e15', 139), ('p2e16', 27), ('p2e20', 4), ('p2e22', 4), ('p2e23', 6), ('p2e24', 2), ('p2e6', 3), ('p2e7', 7), ('p3e0', 1), ('p3e1', 21), ('p3e10', 39), ('p3e12', 33), ('p3e13', 12), ('p3e14', 3), ('p3e15', 1), ('p3e16', 9), ('p3e17', 19), ('p3e18', 19), ('p3e19', 1), ('p3e20', 31), ('p3e21', 33), ('p3e22', 40), ('p3e23', 30), ('p3e24', 19), ('p3e3', 13), ('p3e4', 44), ('p3e5', 22), ('p3e6', 1), ('p3e7', 5), ('p3e8', 16), ('p4e0', 12), ('p4e12', 10), ('p4e21', 3), ('p4e23', 15), ('p4e3', 16), ('p4e6', 50), ('p4e7', 10), ('p4e8', 2), ('p5e11', 3), ('p5e13', 1), ('p5e14', 60), ('p5e2', 139), ('p5e23', 1), ('p6e1', 1), ('p6e11', 1), ('p6e12', 6), ('p6e13', 2), ('p6e15', 6), ('p6e16', 11), ('p6e17', 7), ('p6e19', 4), ('p6e21', 1), ('p6e23', 3), ('p6e24', 2), ('p6e3', 9), ('p6e6', 63), ('p6e7', 54), ('p6e8', 10), ('p7e10', 13), ('p7e11', 61), ('p7e13', 20), ('p7e14', 13), ('p7e15', 16), ('p7e16', 3), ('p7e17', 11), ('p7e19', 28), ('p7e2', 6), ('p7e20', 3), ('p7e21', 8), ('p7e22', 1), ('p7e23', 13), ('p7e24', 21), ('p7e5', 13), ('p7e6', 65), ('p7e7', 79), ('p7e8', 1), ('p8e1', 7), ('p8e15', 43), ('p8e16', 4), ('p8e20', 15), ('p8e21', 20), ('p8e24', 17), ('p9e0', 8), ('p9e1', 52), ('p9e10', 27), ('p9e11', 7), ('p9e12', 16), ('p9e13', 27), ('p9e14', 5), ('p9e15', 1), ('p9e16', 3), ('p9e17', 28), ('p9e18', 34), ('p9e19', 14), ('p9e2', 1), ('p9e20', 68), ('p9e21', 66), ('p9e22', 33), ('p9e23', 48), ('p9e24', 67), ('p9e3', 18), ('p9e4', 17), ('p9e5', 32), ('p9e6', 5), ('p9e7', 5), ('p9e8', 27)])\n",
      "final map is  {'13': '19', '3': '4', '10': '1', '1': '20', '9': '20', '7': '7', '16': '8', '4': '6', '0': '4', '11': '7', '15': '7', '22': '2', '19': '1', '17': '6', '14': '4', '8': '15', '18': '10', '6': '6', '5': '2', '23': '15', '12': '0', '2': '15', '20': '10', '21': '4'}\n",
      "Accuracy of Kmeans with PCA is  24.12158393753485 %\n"
     ]
    }
   ],
   "source": [
    "acc = get_accuracy_cluster(y_test, result_kmeans_pca)\n",
    "print(\"Accuracy of Kmeans with PCA is \", acc, \"%\")"
   ]
  },
  {
   "cell_type": "code",
   "execution_count": 18,
   "metadata": {},
   "outputs": [
    {
     "name": "stdout",
     "output_type": "stream",
     "text": [
      "Maximum accuracy achieved is: 76.86837702175126 , when the number of estimators are: 410\n"
     ]
    },
    {
     "data": {
      "text/plain": [
       "[<matplotlib.lines.Line2D at 0x1dac09a33c8>]"
      ]
     },
     "execution_count": 18,
     "metadata": {},
     "output_type": "execute_result"
    },
    {
     "data": {
      "image/png": "[encoded data removed]",
      "text/plain": [
       "<Figure size 432x288 with 1 Axes>"
      ]
     },
     "metadata": {},
     "output_type": "display_data"
    }
   ],
   "source": [
    "import matplotlib.pyplot as plt\n",
    "plt.ylabel('Accuracy')\n",
    "plt.xlabel('Number of Trees')\n",
    "accuracy = []\n",
    "number_of_trees = []\n",
    "max_accuracy = -1\n",
    "for i in range(10,600,100):\n",
    "    rf = Random_forest_cf(x_2,y_train,i)\n",
    "    _accuracy = rf.getscore(x_test,y_test)*100\n",
    "    if(_accuracy>max_accuracy):\n",
    "        max_accuracy = _accuracy\n",
    "        estimator = i\n",
    "    accuracy.append(_accuracy)\n",
    "    number_of_trees.append(i)\n",
    "\n",
    "print(\"Maximum accuracy achieved is:\", max_accuracy,\", when the number of estimators are:\", estimator)\n",
    "plt.plot(number_of_trees, accuracy)"
   ]
  },
  {
   "cell_type": "code",
   "execution_count": 19,
   "metadata": {},
   "outputs": [
    {
     "name": "stdout",
     "output_type": "stream",
     "text": [
      "Maximum accuracy achieved is: 83.9654210819855  when the depth is: 60\n"
     ]
    },
    {
     "data": {
      "text/plain": [
       "[<matplotlib.lines.Line2D at 0x1dac00bb0b8>]"
      ]
     },
     "execution_count": 19,
     "metadata": {},
     "output_type": "execute_result"
    },
    {
     "data": {
      "image/png": "[encoded data removed]",
      "text/plain": [
       "<Figure size 432x288 with 1 Axes>"
      ]
     },
     "metadata": {},
     "output_type": "display_data"
    }
   ],
   "source": [
    "import matplotlib.pyplot as plt\n",
    "plt.ylabel('Accuracy')\n",
    "plt.xlabel('Depth')\n",
    "accuracy = []\n",
    "number_of_trees = []\n",
    "for i in range(10,100,10):\n",
    "    rf = Random_forest_cf(x_2,y_train,410,i)\n",
    "    _accuracy = rf.getscore(x_test,y_test)*100\n",
    "    if(_accuracy>max_accuracy):\n",
    "        max_accuracy = _accuracy\n",
    "        _depth = i\n",
    "    accuracy.append(_accuracy)\n",
    "    number_of_trees.append(i)\n",
    "\n",
    "print(\"Maximum accuracy achieved is:\", max_accuracy,\" when the depth is:\",_depth)\n",
    "plt.plot(number_of_trees, accuracy)"
   ]
  },
  {
   "cell_type": "code",
   "execution_count": 12,
   "metadata": {},
   "outputs": [],
   "source": [
    "# sklearn skimage\n",
    "from skimage import feature\n",
    "\n",
    "# Histogram of Oriented Gradients\n",
    "class HOG:\n",
    "\tdef __init__(self, orientations = 9, pixelsPerCell = (9, 9),\n",
    "\t\tcellsPerBlock = (3, 3), block_norm = 'L2-Hys'):  \n",
    "\t\tself.orientations = orientations\n",
    "\t\tself.pixelsPerCell = pixelsPerCell\n",
    "\t\tself.cellsPerBlock = cellsPerBlock\n",
    "\t\tself.block_norm = block_norm    # changing from default to L2-Hys, improved a lot\n",
    "\n",
    "\tdef describe(self, image):\n",
    "\t\t# compute HOG for the image\n",
    "\t\thist = feature.hog(image, orientations = self.orientations,\n",
    "\t\t\tpixels_per_cell = self.pixelsPerCell,\n",
    "\t\t\tcells_per_block = self.cellsPerBlock,\n",
    "\t\t\tblock_norm = self.block_norm) \n",
    "\n",
    "\t\t# return the HOG features\n",
    "\t\treturn hist"
   ]
  },
  {
   "cell_type": "code",
   "execution_count": 13,
   "metadata": {},
   "outputs": [],
   "source": [
    "import numpy as np # linear algebra\n",
    "import cv2\n",
    "import os\n",
    "from matplotlib import pyplot as plt\n",
    "from skimage import color\n",
    "from skimage.feature import hog\n",
    "from sklearn import svm\n",
    "from sklearn.metrics import classification_report,accuracy_score\n",
    "\n",
    "\n",
    "ppc = 16\n",
    "hog_images = []\n",
    "hog_features = []\n",
    "i = 0\n",
    "hog = HOG(orientations = 3, pixelsPerCell = (2, 2),cellsPerBlock = (4, 4), block_norm = 'L2-Hys')\n",
    "hist_data = []  \n",
    "for x in X_train:\n",
    "    fname = \"img{}\".format(i)+\".jpg\"\n",
    "    cv2.imwrite(fname, x.reshape(28,28))\n",
    "    img = cv2.imread(fname)\n",
    "    os.remove(fname)\n",
    "    gray= cv2.cvtColor(img, cv2.COLOR_BGR2GRAY)\n",
    "    #fd,hog_image = hog(gray, orientations=8, pixels_per_cell=(ppc,ppc),cells_per_block=(4, 4),block_norm= 'L2')\n",
    "    hist = hog.describe(gray)\n",
    "    hist_data.append(hist)"
   ]
  },
  {
   "cell_type": "code",
   "execution_count": 14,
   "metadata": {},
   "outputs": [],
   "source": [
    "hist_data_test = []  \n",
    "for d in X_test:\n",
    "    fname = \"img{}\".format(i)+\".jpg\"\n",
    "    cv2.imwrite(fname, d.reshape(28,28))\n",
    "    img = cv2.imread(fname)\n",
    "    os.remove(fname)\n",
    "    gray= cv2.cvtColor(img, cv2.COLOR_BGR2GRAY)\n",
    "    #fd,hog_image = hog(gray, orientations=8, pixels_per_cell=(ppc,ppc),cells_per_block=(4, 4),block_norm= 'L2')\n",
    "    hist = hog.describe(gray)\n",
    "    hist_data_test.append(hist)"
   ]
  },
  {
   "cell_type": "code",
   "execution_count": 15,
   "metadata": {},
   "outputs": [
    {
     "name": "stdout",
     "output_type": "stream",
     "text": [
      "Maximum accuracy achieved is: 90.61628555493586  when the depth is: 80\n"
     ]
    },
    {
     "data": {
      "text/plain": [
       "[<matplotlib.lines.Line2D at 0x1a1f18ebe0>]"
      ]
     },
     "execution_count": 15,
     "metadata": {},
     "output_type": "execute_result"
    },
    {
     "data": {
      "image/png": "[encoded data removed]",
      "text/plain": [
       "<Figure size 432x288 with 1 Axes>"
      ]
     },
     "metadata": {
      "needs_background": "light"
     },
     "output_type": "display_data"
    }
   ],
   "source": [
    "import matplotlib.pyplot as plt\n",
    "plt.ylabel('Accuracy')\n",
    "plt.xlabel('Depth')\n",
    "accuracy = []\n",
    "number_of_trees = []\n",
    "for i in range(10,100,10):\n",
    "    rf = Random_forest_cf(hist_data,y_train,410,i)\n",
    "    _accuracy = rf.getscore(hist_data_test,y_test)*100\n",
    "    if(_accuracy>max_accuracy):\n",
    "        max_accuracy = _accuracy\n",
    "        _depth = i\n",
    "    accuracy.append(_accuracy)\n",
    "    number_of_trees.append(i)\n",
    "\n",
    "print(\"Maximum accuracy achieved is:\", max_accuracy,\" when the depth is:\",_depth)\n",
    "plt.plot(number_of_trees, accuracy)"
   ]
  },
  {
   "cell_type": "code",
   "execution_count": null,
   "metadata": {},
   "outputs": [],
   "source": []
  }
 ],
 "metadata": {
  "kernelspec": {
   "display_name": "Python 3",
   "language": "python",
   "name": "python3"
  },
  "language_info": {
   "codemirror_mode": {
    "name": "ipython",
    "version": 3
   },
   "file_extension": ".py",
   "mimetype": "text/x-python",
   "name": "python",
   "nbconvert_exporter": "python",
   "pygments_lexer": "ipython3",
   "version": "3.5.5"
  }
 },
 "nbformat": 4,
 "nbformat_minor": 2
}

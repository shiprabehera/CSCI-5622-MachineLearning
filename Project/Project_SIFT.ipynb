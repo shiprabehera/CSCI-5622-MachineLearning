{
 "cells": [
  {
   "cell_type": "code",
   "execution_count": 4,
   "metadata": {},
   "outputs": [],
   "source": [
    "import pandas as pd\n",
    "class Signs:\n",
    "    \"\"\"\n",
    "    Class to store MNIST data\n",
    "    \"\"\"\n",
    "    def __init__(self, location):\n",
    "\n",
    "        import pickle, gzip, collections\n",
    "\n",
    "        # load data from file \n",
    "        #data = pd.read_csv(location, 'rb',engine='python',index_col=0)\n",
    "        #X = data.drop(['label'], axis=0, inplace=True)\n",
    "        #y = data[\"label\"].values\n",
    "        data = pd.read_csv(\"data/sign_mnist_train.csv\")\n",
    "        self.train_x = data.drop(columns = \"label\").values\n",
    "        self.train_y = data[\"label\"].values\n",
    "        data = pd.read_csv(\"data/sign_mnist_test.csv\")\n",
    "        self.test_x = data.drop(columns = \"label\").values\n",
    "        self.test_y = data[\"label\"].values\n",
    "        print(\"Lenght of training data is \", len(self.train_x))\n",
    "        print(\"Lenght of testing data is \", len(self.test_x))"
   ]
  },
  {
   "cell_type": "code",
   "execution_count": 5,
   "metadata": {},
   "outputs": [
    {
     "name": "stdout",
     "output_type": "stream",
     "text": [
      "Lenght of training data is  27455\n",
      "Lenght of testing data is  7172\n"
     ]
    }
   ],
   "source": [
    "DATA_PATH = \"data/sign_mnist_train.csv\"\n",
    "data = Signs(DATA_PATH)"
   ]
  },
  {
   "cell_type": "code",
   "execution_count": 245,
   "metadata": {},
   "outputs": [
    {
     "name": "stdout",
     "output_type": "stream",
     "text": [
      "######## Label is  2\n"
     ]
    },
    {
     "data": {
      "image/png": "[encoded data removed]",
      "text/plain": [
       "<Figure size 432x288 with 1 Axes>"
      ]
     },
     "metadata": {
      "needs_background": "light"
     },
     "output_type": "display_data"
    }
   ],
   "source": [
    "from matplotlib import pyplot as plt\n",
    "def view_sign(example, label):\n",
    "    plt.imshow(example.reshape(28,28))\n",
    "    print(\"######## Label is \", label)\n",
    "view_sign(data.train_x[2],data.train_y[2])\n"
   ]
  },
  {
   "cell_type": "code",
   "execution_count": 246,
   "metadata": {},
   "outputs": [],
   "source": [
    "import cv2\n",
    "def sift(img, class_number):\n",
    "    \"\"\"\n",
    "    Gets a list of 128 - dimensional descriptors using SIFT and DoG\n",
    "    for keypoints and resizes the image having the larger dimension set to 640\n",
    "    and keeping the size relation.\n",
    "    Args:\n",
    "        img (BGR matrix): The grayscale image that will be used.\n",
    "    Returns:\n",
    "        list of floats array: The descriptors found in the image.\n",
    "    \"\"\"\n",
    "    img_descs = []\n",
    "    y = []\n",
    "    sift = cv2.xfeatures2d.SIFT_create()\n",
    "    kp, des = sift.detectAndCompute(img, None)\n",
    "    if des is not None:\n",
    "        #print(\"shape of des \", np.shape(des))\n",
    "        img_descs.append(des)\n",
    "        y.append(class_number)\n",
    "    else:\n",
    "        #print('Found empty for label !!!!!!!', class_number)\n",
    "        img_descs.append(np.zeros(128))\n",
    "        y.append(class_number)\n",
    "        #return None\n",
    "    #print(\"shape of sift \", np.shape(img_descs))\n",
    "    #print(\"label here is---------\", y)\n",
    "    return img_descs,y"
   ]
  },
  {
   "cell_type": "code",
   "execution_count": 247,
   "metadata": {},
   "outputs": [],
   "source": [
    "import os\n",
    "import numpy as np\n",
    "def extract_features(data_x, data_y):\n",
    "    des = None\n",
    "    i = 0\n",
    "    empty = 0\n",
    "    for d in data_x:\n",
    "        #print(\"----------- at i \", i)\n",
    "        fname = \"img{}\".format(i)+\".jpg\"\n",
    "        cv2.imwrite(fname, d.reshape(28,28))\n",
    "        img = cv2.imread(fname)\n",
    "        os.remove(fname)\n",
    "        gray= cv2.cvtColor(img, cv2.COLOR_BGR2GRAY)\n",
    "        #print(\"label is \\n\", data.train_y[i])\n",
    "        new_des = sift(gray, data_y[i])\n",
    "        #print(\"type is \", new_des[0])\n",
    "        #print(\"type is \", type(np.array(new_des[0])))\n",
    "        if not np.array(new_des[0]).any():\n",
    "            empty = empty+1\n",
    "        if new_des is not None:\n",
    "            if des is None:\n",
    "                des = np.array(new_des)\n",
    "                des = np.transpose(des)\n",
    "                #print(\"shape of des here --------\", np.shape(des))\n",
    "                #print(des[1])\n",
    "            else:\n",
    "                #print(\"shape from sift \\n\", np.shape(new_des))\n",
    "                #print(\"label from func \\n\", new_des[1])\n",
    "                des = np.vstack((des, np.array(np.transpose(new_des))))\n",
    "                #print(\"shape of des here --------\", np.shape(des))\n",
    "                #des = np.transpose(des)\n",
    "                #print(\"shape of des here --------\", np.shape(des))\n",
    "        else:\n",
    "            empty = empty+1\n",
    "            print(np.shape(des))\n",
    "            print(np.shape(np.zeros(128)))\n",
    "            #des = np.vstack((des, np.zeros(128)))\n",
    "        i = i+1\n",
    "        #if (i==100):\n",
    "            #break\n",
    "    print(\"No. of images for which sift returned None \", empty) \n",
    "    return des\n"
   ]
  },
  {
   "cell_type": "code",
   "execution_count": 248,
   "metadata": {},
   "outputs": [
    {
     "name": "stdout",
     "output_type": "stream",
     "text": [
      "No. of images for which sift returned None  69\n"
     ]
    }
   ],
   "source": [
    "des = extract_features(data.train_x, data.train_y)"
   ]
  },
  {
   "cell_type": "code",
   "execution_count": 249,
   "metadata": {},
   "outputs": [
    {
     "name": "stdout",
     "output_type": "stream",
     "text": [
      "descrptor shape is  (184773, 128)\n",
      "24\n"
     ]
    }
   ],
   "source": [
    "from sklearn.cluster import KMeans\n",
    "def extract_descriptors(des):\n",
    "    descriptors = None\n",
    "    for d in des:\n",
    "        #print (\"shape is \", np.shape(d[0]))\n",
    "        #print(\"labe is \", d[1])\n",
    "        if descriptors is None:\n",
    "            descriptors = np.array(d[0])\n",
    "            #print(\"descrptor shape in loop is \", np.shape(descriptors))\n",
    "        else:\n",
    "            #print(\"descrptor shape in loop before vstack is \", np.shape(descriptors))\n",
    "            descriptors = np.vstack((descriptors, d[0]))\n",
    "            #print(\"descrptor shape in loop after vstack is \", np.shape(descriptors))\n",
    "    return descriptors\n",
    "    \n",
    "descriptors = extract_descriptors(des)\n",
    "print(\"descrptor shape is \", np.shape(descriptors))\n",
    "'''for d in des:\n",
    "    print(np.shape(d[0]))\n",
    "    print(\"orig d\", d)\n",
    "    \n",
    "    #print(np.shape(list(d)))\n",
    "    print(\"after flatten \", np.hstack(d[0]))\n",
    "    print(\"len \", len(np.hstack(d[0])))'''\n",
    "'''print(np.shape(des[0]))\n",
    "print(np.shape(des[0][0]))\n",
    "print(np.shape(des[1][0]))\n",
    "print(np.shape(des[2][0]))\n",
    "print(des[1][1])'''\n",
    "k = 24  # Number of clusters\n",
    "kmeans_sift = KMeans(n_clusters=k).fit(descriptors)\n",
    "print(len(kmeans_sift.cluster_centers_))\n",
    "\n",
    "#print(\"train labels \", kmeans.labels_)\n",
    "#voc, variance = kmeans(des, k, 1)  # Perform Kmeans with default values\n",
    "#descriptors = des_list[0][0]\n",
    "\n",
    "#for image_path, descriptor in des_list[:0]:\n",
    "    #print(descriptor)\n",
    "    #descriptors = np.vstack((descriptors, descriptor))  # Stacking the descriptors\n"
   ]
  },
  {
   "cell_type": "code",
   "execution_count": 250,
   "metadata": {},
   "outputs": [
    {
     "name": "stdout",
     "output_type": "stream",
     "text": [
      "No. of images for which sift returned None  8\n",
      "descrptor shape is  (47883, 128)\n"
     ]
    }
   ],
   "source": [
    "des_test = extract_features(data.test_x, data.test_y)\n",
    "\n",
    "descriptors = extract_descriptors(des_test)\n",
    "print(\"descrptor shape is \", np.shape(descriptors))\n",
    "result_sift_kmeans = kmeans_sift.predict(descriptors)"
   ]
  },
  {
   "cell_type": "code",
   "execution_count": 251,
   "metadata": {},
   "outputs": [],
   "source": [
    "import collections\n",
    "def majority(neighbor_indices, counts):\n",
    "        \"\"\"\n",
    "        Given the indices of training protypes, return the majority label. Break ties \n",
    "        by choosing the tied label that appears most often in the training prototypes. \n",
    "\n",
    "        :param neighbor_indices: The indices of the k nearest neighbors\n",
    "        \"\"\"\n",
    "        #assert len(neighbor_indices) == self._k, \"Did not get k neighbor indices\"\n",
    "        if len(neighbor_indices) == 0:\n",
    "            return -1\n",
    "        #Get labels of neighbor indices\n",
    "        y_neighbors = neighbor_indices\n",
    "        \n",
    "        #Get count of each label of neighbors\n",
    "        label_counters = collections.Counter(y_neighbors)\n",
    "        \n",
    "        #assign first label as majority label\n",
    "        majority_label = y_neighbors[0]\n",
    "        \n",
    "        for label in label_counters.keys():\n",
    "            if (label_counters[label] > label_counters[majority_label]):\n",
    "                majority_label = label\n",
    "            elif label_counters[label] == label_counters[majority_label]:\n",
    "                #in case there is still a tie, just choose label as the majority_label\n",
    "                if counts[label] >= counts[majority_label]:\n",
    "                    majority_label = label\n",
    "\n",
    "        return majority_label"
   ]
  },
  {
   "cell_type": "code",
   "execution_count": 252,
   "metadata": {},
   "outputs": [],
   "source": [
    "def get_accuracy_cluster(expected, predicted):\n",
    "    label_count_map = {}\n",
    "    for true_label, pred_label in zip(expected, predicted):\n",
    "        key = \"p\" + str(pred_label) + \"e\"  + str(true_label)\n",
    "        if key in label_count_map:\n",
    "            label_count_map[key] = label_count_map[key]+1\n",
    "        else:\n",
    "            label_count_map[key] = 1\n",
    "    print(label_count_map)\n",
    "    import collections\n",
    "    od = collections.OrderedDict(sorted(label_count_map.items()))\n",
    "    print(od)\n",
    "    final_label_map = {}\n",
    "    final_label_count_map = {}\n",
    "    for key, value in od.items():\n",
    "        #print(key, value)\n",
    "        pred_label = \"\"\n",
    "        true_label = \"\"\n",
    "        e_flag = 0\n",
    "        for k in range(0, len(key)):\n",
    "            if key[k] != \"p\" and key[k] != \"e\" and e_flag == 0:\n",
    "               pred_label = pred_label+key[k]\n",
    "            elif key[k] != \"p\" and key[k] != \"e\" and e_flag == 1:\n",
    "               true_label = true_label+key[k]\n",
    "            elif key[k] == \"e\":\n",
    "                e_flag = 1\n",
    "        #print(\"pred is \", pred_label+ \", true is \" + true_label)\n",
    "        if pred_label not in final_label_map:\n",
    "            final_label_count_map[pred_label] = value\n",
    "            final_label_map[pred_label] = true_label\n",
    "        elif final_label_count_map[pred_label] <= value:\n",
    "            final_label_count_map[pred_label] = value\n",
    "            final_label_map[pred_label] = true_label\n",
    "\n",
    "    print(\"final map is \", final_label_map)\n",
    "    err = 0\n",
    "    for true_label, pred_label in zip(expected, predicted):\n",
    "        #print(pred_label)\n",
    "        if final_label_map[str(pred_label)] != str(true_label):\n",
    "            err = err +1\n",
    "    #print(\"Total errors \", err)  \n",
    "    return 100- err*100/len(predicted)"
   ]
  },
  {
   "cell_type": "code",
   "execution_count": 256,
   "metadata": {},
   "outputs": [
    {
     "name": "stdout",
     "output_type": "stream",
     "text": [
      "{'p9e3': 1, 'p7e21': 1, 'p3e3': 2, 'p9e17': 1, 'p3e13': 3, 'p7e2': 2, 'p7e15': 4, 'p8e8': 1, 'p9e6': 2, 'p0e14': 1, 'p6e22': 4, 'p6e13': 1, 'p-1e14': 226, 'p2e8': 2, 'p2e13': 3, 'p3e1': 2, 'p3e11': 1, 'p9e14': 1, 'p9e0': 1, 'p-1e18': 229, 'p3e20': 4, 'p6e17': 4, 'p7e18': 1, 'p8e0': 1, 'p2e20': 2, 'p7e11': 1, 'p8e18': 3, 'p-1e6': 326, 'p7e7': 2, 'p2e11': 2, 'p-1e13': 277, 'p2e7': 5, 'p6e5': 5, 'p8e3': 2, 'p7e22': 1, 'p3e0': 2, 'p9e15': 2, 'p3e15': 2, 'p3e17': 1, 'p2e5': 3, 'p-1e16': 155, 'p7e12': 4, 'p8e22': 1, 'p2e22': 3, 'p2e12': 2, 'p2e4': 8, 'p4e17': 1, 'p-1e20': 251, 'p6e10': 6, 'p4e22': 2, 'p5e21': 1, 'p7e6': 2, 'p7e24': 3, 'p9e7': 1, 'p4e21': 6, 'p-1e22': 193, 'p9e22': 1, 'p6e4': 11, 'p4e11': 1, 'p5e8': 1, 'p4e6': 4, 'p4e5': 3, 'p2e10': 2, 'p-1e4': 468, 'p-1e19': 232, 'p2e6': 3, 'p8e10': 2, 'p9e21': 1, 'p0e15': 1, 'p6e15': 8, 'p7e17': 1, 'p2e21': 3, 'p9e10': 4, 'p-1e23': 249, 'p2e17': 1, 'p-1e11': 200, 'p3e2': 1, 'p7e8': 4, 'p-1e7': 407, 'p-1e8': 267, 'p4e8': 4, 'p3e23': 1, 'p4e13': 5, 'p3e10': 2, 'p9e2': 2, 'p9e13': 2, 'p4e23': 1, 'p4e18': 2, 'p2e2': 4, 'p3e8': 1, 'p-1e10': 309, 'p3e12': 3, 'p2e15': 4, 'p4e12': 3, 'p6e6': 8, 'p6e11': 4, 'p5e4': 1, 'p-1e17': 135, 'p6e1': 10, 'p-1e12': 369, 'p6e2': 6, 'p9e16': 2, 'p3e24': 2, 'p4e14': 4, 'p4e10': 4, 'p7e23': 2, 'p9e19': 4, 'p9e18': 1, 'p3e21': 1, 'p3e7': 3, 'p-1e15': 320, 'p9e1': 4, 'p6e3': 8, 'p4e19': 3, 'p2e3': 4, 'p3e6': 1, 'p9e4': 1, 'p5e12': 2, 'p0e6': 1, 'p7e10': 1, 'p3e16': 1, 'p3e14': 3, 'p-1e0': 315, 'p3e4': 2, 'p8e6': 1, 'p-1e24': 310, 'p5e0': 2, 'p2e1': 3, 'p2e23': 3, 'p4e0': 5, 'p2e14': 2, 'p-1e1': 403, 'p-1e21': 317, 'p7e4': 4, 'p8e14': 1, 'p6e20': 2, 'p6e8': 8, 'p5e10': 1, 'p6e12': 7, 'p4e4': 3, 'p4e15': 6, 'p2e24': 3, 'p6e24': 6, 'p3e5': 1, 'p6e21': 14, 'p2e18': 2, 'p4e7': 4, 'p4e1': 5, 'p6e7': 13, 'p4e24': 5, 'p8e12': 2, 'p7e5': 2, 'p6e19': 6, 'p4e3': 3, 'p6e18': 8, 'p6e16': 4, 'p0e7': 1, 'p2e19': 2, 'p2e0': 2, 'p3e22': 1, 'p9e12': 2, 'p9e23': 2, 'p-1e5': 232, 'p8e24': 2, 'p9e20': 2, 'p8e21': 2, 'p7e1': 5, 'p9e24': 1, 'p-1e2': 289, 'p6e14': 8, 'p0e20': 1, 'p4e20': 4, 'p2e16': 1, 'p-1e3': 223, 'p4e2': 6, 'p6e23': 9, 'p5e3': 2, 'p3e19': 1, 'p8e5': 1, 'p7e16': 1, 'p6e0': 3}\n",
      "OrderedDict([('p-1e0', 315), ('p-1e1', 403), ('p-1e10', 309), ('p-1e11', 200), ('p-1e12', 369), ('p-1e13', 277), ('p-1e14', 226), ('p-1e15', 320), ('p-1e16', 155), ('p-1e17', 135), ('p-1e18', 229), ('p-1e19', 232), ('p-1e2', 289), ('p-1e20', 251), ('p-1e21', 317), ('p-1e22', 193), ('p-1e23', 249), ('p-1e24', 310), ('p-1e3', 223), ('p-1e4', 468), ('p-1e5', 232), ('p-1e6', 326), ('p-1e7', 407), ('p-1e8', 267), ('p0e14', 1), ('p0e15', 1), ('p0e20', 1), ('p0e6', 1), ('p0e7', 1), ('p2e0', 2), ('p2e1', 3), ('p2e10', 2), ('p2e11', 2), ('p2e12', 2), ('p2e13', 3), ('p2e14', 2), ('p2e15', 4), ('p2e16', 1), ('p2e17', 1), ('p2e18', 2), ('p2e19', 2), ('p2e2', 4), ('p2e20', 2), ('p2e21', 3), ('p2e22', 3), ('p2e23', 3), ('p2e24', 3), ('p2e3', 4), ('p2e4', 8), ('p2e5', 3), ('p2e6', 3), ('p2e7', 5), ('p2e8', 2), ('p3e0', 2), ('p3e1', 2), ('p3e10', 2), ('p3e11', 1), ('p3e12', 3), ('p3e13', 3), ('p3e14', 3), ('p3e15', 2), ('p3e16', 1), ('p3e17', 1), ('p3e19', 1), ('p3e2', 1), ('p3e20', 4), ('p3e21', 1), ('p3e22', 1), ('p3e23', 1), ('p3e24', 2), ('p3e3', 2), ('p3e4', 2), ('p3e5', 1), ('p3e6', 1), ('p3e7', 3), ('p3e8', 1), ('p4e0', 5), ('p4e1', 5), ('p4e10', 4), ('p4e11', 1), ('p4e12', 3), ('p4e13', 5), ('p4e14', 4), ('p4e15', 6), ('p4e17', 1), ('p4e18', 2), ('p4e19', 3), ('p4e2', 6), ('p4e20', 4), ('p4e21', 6), ('p4e22', 2), ('p4e23', 1), ('p4e24', 5), ('p4e3', 3), ('p4e4', 3), ('p4e5', 3), ('p4e6', 4), ('p4e7', 4), ('p4e8', 4), ('p5e0', 2), ('p5e10', 1), ('p5e12', 2), ('p5e21', 1), ('p5e3', 2), ('p5e4', 1), ('p5e8', 1), ('p6e0', 3), ('p6e1', 10), ('p6e10', 6), ('p6e11', 4), ('p6e12', 7), ('p6e13', 1), ('p6e14', 8), ('p6e15', 8), ('p6e16', 4), ('p6e17', 4), ('p6e18', 8), ('p6e19', 6), ('p6e2', 6), ('p6e20', 2), ('p6e21', 14), ('p6e22', 4), ('p6e23', 9), ('p6e24', 6), ('p6e3', 8), ('p6e4', 11), ('p6e5', 5), ('p6e6', 8), ('p6e7', 13), ('p6e8', 8), ('p7e1', 5), ('p7e10', 1), ('p7e11', 1), ('p7e12', 4), ('p7e15', 4), ('p7e16', 1), ('p7e17', 1), ('p7e18', 1), ('p7e2', 2), ('p7e21', 1), ('p7e22', 1), ('p7e23', 2), ('p7e24', 3), ('p7e4', 4), ('p7e5', 2), ('p7e6', 2), ('p7e7', 2), ('p7e8', 4), ('p8e0', 1), ('p8e10', 2), ('p8e12', 2), ('p8e14', 1), ('p8e18', 3), ('p8e21', 2), ('p8e22', 1), ('p8e24', 2), ('p8e3', 2), ('p8e5', 1), ('p8e6', 1), ('p8e8', 1), ('p9e0', 1), ('p9e1', 4), ('p9e10', 4), ('p9e12', 2), ('p9e13', 2), ('p9e14', 1), ('p9e15', 2), ('p9e16', 2), ('p9e17', 1), ('p9e18', 1), ('p9e19', 4), ('p9e2', 2), ('p9e20', 2), ('p9e21', 1), ('p9e22', 1), ('p9e23', 2), ('p9e24', 1), ('p9e3', 1), ('p9e4', 1), ('p9e6', 2), ('p9e7', 1)])\n",
      "final map is  {'8': '18', '-1': '4', '7': '1', '9': '19', '0': '7', '3': '20', '2': '4', '5': '3', '6': '21', '4': '21'}\n",
      "Accuracy of Kmeans with SIFT is  7.180702732849966 %\n"
     ]
    }
   ],
   "source": [
    "counts = collections.Counter(result)\n",
    "\n",
    "i = 0\n",
    "test_labels = []\n",
    "for d in des_test:\n",
    "    #print(\"shape is \", np.shape(d[0]))\n",
    "    num_keypts = np.shape(d[0])[0]\n",
    "    #print(\"i is \", i)\n",
    "    #print(\"num_keypts is \", inum_keypts)\n",
    "    labels = result[i: i+num_keypts]\n",
    "    i = i + num_keypts\n",
    "    #print (\"label each image \", labels)\n",
    "    #print (\"label each image \", len(labels))\n",
    "    test_labels.append(majority(labels, counts))\n",
    "#print(\"test labels for each image\", test_labels)\n",
    "#print(\"true labels \", data.test_y)\n",
    "label_map = {}\n",
    "err = 0\n",
    "acc = get_accuracy_cluster(data.test_y, test_labels)\n",
    "print(\"Accuracy of Kmeans with SIFT is \", acc, \"%\")"
   ]
  },
  {
   "cell_type": "code",
   "execution_count": 133,
   "metadata": {},
   "outputs": [
    {
     "data": {
      "image/png": "[encoded data removed]",
      "text/plain": [
       "<Figure size 432x288 with 1 Axes>"
      ]
     },
     "metadata": {
      "needs_background": "light"
     },
     "output_type": "display_data"
    }
   ],
   "source": [
    "#plt.scatter(descriptors[:, 0], descriptors[:, 1], c=result, s=50, cmap='viridis')\n",
    "centers = kmeans.cluster_centers_\n",
    "plt.scatter(centers[:, 0], centers[:, 1], s=200, alpha=0.5);"
   ]
  },
  {
   "cell_type": "code",
   "execution_count": 150,
   "metadata": {},
   "outputs": [
    {
     "name": "stdout",
     "output_type": "stream",
     "text": [
      "Start learning at 2018-12-08 23:21:14.787313\n",
      "Stop learning 2018-12-08 23:23:50.796798\n",
      "Elapsed learning 0:02:36.009485\n"
     ]
    }
   ],
   "source": [
    "from sklearn.model_selection import train_test_split\n",
    "from sklearn import datasets, svm, metrics\n",
    "import datetime as dt\n",
    "X_train, X_test, y_train, y_test = train_test_split(data.train_x, data.train_y, test_size=0.15, random_state=42)\n",
    "param_C = 5\n",
    "param_gamma = 0.05\n",
    "start_time = dt.datetime.now()\n",
    "print('Start learning at {}'.format(str(start_time)))\n",
    "classifier = svm.LinearSVC()\n",
    "#classifier = svm.SVC(C=param_C,gamma=param_gamma, decision_function_shape='ovo')\n",
    "\n",
    "classifier.fit(data.train_x, data.train_y)\n",
    "end_time = dt.datetime.now() \n",
    "print('Stop learning {}'.format(str(end_time)))\n",
    "elapsed_time= end_time - start_time\n",
    "print('Elapsed learning {}'.format(str(elapsed_time)))"
   ]
  },
  {
   "cell_type": "code",
   "execution_count": 151,
   "metadata": {},
   "outputs": [],
   "source": [
    "expected = data.test_y\n",
    "predicted = classifier.predict(data.test_x)"
   ]
  },
  {
   "cell_type": "code",
   "execution_count": 154,
   "metadata": {},
   "outputs": [
    {
     "name": "stdout",
     "output_type": "stream",
     "text": [
      "Accuracy = 60.75013943112103 %\n"
     ]
    }
   ],
   "source": [
    "#show_some_digits(X_test,predicted,title_text=\"Predicted {}\")\n",
    "\n",
    "#print(\"Classification report for classifier %s:\\n%s\\n\"\n",
    "      #% (classifier, metrics.classification_report(expected, predicted)))\n",
    "      \n",
    "#cm = metrics.confusion_matrix(expected, predicted)\n",
    "#print(\"Confusion matrix:\\n%s\" % cm)\n",
    "\n",
    "#plot_confusion_matrix(cm)\n",
    "\n",
    "print(\"Accuracy = {}\".format(metrics.accuracy_score(expected, predicted) * 100) + \" %\")"
   ]
  },
  {
   "cell_type": "code",
   "execution_count": 258,
   "metadata": {},
   "outputs": [
    {
     "name": "stdout",
     "output_type": "stream",
     "text": [
      "27455\n",
      "184773\n"
     ]
    }
   ],
   "source": [
    "print(len(des[:,1]))\n",
    "descriptors = extract_descriptors(des)\n",
    "print(len(descriptors))"
   ]
  },
  {
   "cell_type": "code",
   "execution_count": 259,
   "metadata": {},
   "outputs": [],
   "source": [
    "train_labels = []\n",
    "i = 0\n",
    "c = 0\n",
    "for d in des:\n",
    "    #print(\"shape is \", np.shape(d[0]))\n",
    "    num_keypts = np.shape(d[0])[0]\n",
    "    #print(\"i is \", i)\n",
    "    #print(\"num_keypts is \", num_keypts)\n",
    "    #print(\"label is \", d[1])\n",
    "    for j in range(num_keypts):\n",
    "        #print(d[1])\n",
    "        train_labels.append(d[1])\n",
    "    \n",
    "    i = i+num_keypts\n",
    "    #labels = result[i: i+num_keypts]\n",
    "    #i = i + num_keypts\n"
   ]
  },
  {
   "cell_type": "code",
   "execution_count": 260,
   "metadata": {},
   "outputs": [
    {
     "name": "stdout",
     "output_type": "stream",
     "text": [
      "193536\n",
      "193536\n",
      "184773\n",
      "15\n"
     ]
    }
   ],
   "source": [
    "print(i)\n",
    "print(len(train_labels))\n",
    "print(len(descriptors))\n",
    "print(train_labels[184772])\n",
    "\n"
   ]
  },
  {
   "cell_type": "code",
   "execution_count": 262,
   "metadata": {},
   "outputs": [
    {
     "name": "stdout",
     "output_type": "stream",
     "text": [
      "Start learning at 2018-12-13 21:36:09.316940\n"
     ]
    },
    {
     "ename": "KeyboardInterrupt",
     "evalue": "",
     "output_type": "error",
     "traceback": [
      "\u001b[0;31m---------------------------------------------------------------------------\u001b[0m",
      "\u001b[0;31mKeyboardInterrupt\u001b[0m                         Traceback (most recent call last)",
      "\u001b[0;32m<ipython-input-262-d3b93ff45e15>\u001b[0m in \u001b[0;36m<module>\u001b[0;34m()\u001b[0m\n\u001b[1;32m      7\u001b[0m \u001b[0;31m#classifier = svm.SVC(C=param_C,gamma=param_gamma, decision_function_shape='ovo')\u001b[0m\u001b[0;34m\u001b[0m\u001b[0;34m\u001b[0m\u001b[0m\n\u001b[1;32m      8\u001b[0m \u001b[0;34m\u001b[0m\u001b[0m\n\u001b[0;32m----> 9\u001b[0;31m \u001b[0mclassifier\u001b[0m\u001b[0;34m.\u001b[0m\u001b[0mfit\u001b[0m\u001b[0;34m(\u001b[0m\u001b[0mdescriptors\u001b[0m\u001b[0;34m,\u001b[0m \u001b[0mtrain_labels\u001b[0m\u001b[0;34m[\u001b[0m\u001b[0;36m0\u001b[0m\u001b[0;34m:\u001b[0m\u001b[0;36m184773\u001b[0m\u001b[0;34m]\u001b[0m\u001b[0;34m)\u001b[0m\u001b[0;34m\u001b[0m\u001b[0m\n\u001b[0m\u001b[1;32m     10\u001b[0m \u001b[0mend_time\u001b[0m \u001b[0;34m=\u001b[0m \u001b[0mdt\u001b[0m\u001b[0;34m.\u001b[0m\u001b[0mdatetime\u001b[0m\u001b[0;34m.\u001b[0m\u001b[0mnow\u001b[0m\u001b[0;34m(\u001b[0m\u001b[0;34m)\u001b[0m\u001b[0;34m\u001b[0m\u001b[0m\n\u001b[1;32m     11\u001b[0m \u001b[0mprint\u001b[0m\u001b[0;34m(\u001b[0m\u001b[0;34m'Stop learning {}'\u001b[0m\u001b[0;34m.\u001b[0m\u001b[0mformat\u001b[0m\u001b[0;34m(\u001b[0m\u001b[0mstr\u001b[0m\u001b[0;34m(\u001b[0m\u001b[0mend_time\u001b[0m\u001b[0;34m)\u001b[0m\u001b[0;34m)\u001b[0m\u001b[0;34m)\u001b[0m\u001b[0;34m\u001b[0m\u001b[0m\n",
      "\u001b[0;32m~/anaconda3/lib/python3.5/site-packages/sklearn/svm/classes.py\u001b[0m in \u001b[0;36mfit\u001b[0;34m(self, X, y, sample_weight)\u001b[0m\n\u001b[1;32m    233\u001b[0m             \u001b[0mself\u001b[0m\u001b[0;34m.\u001b[0m\u001b[0mclass_weight\u001b[0m\u001b[0;34m,\u001b[0m \u001b[0mself\u001b[0m\u001b[0;34m.\u001b[0m\u001b[0mpenalty\u001b[0m\u001b[0;34m,\u001b[0m \u001b[0mself\u001b[0m\u001b[0;34m.\u001b[0m\u001b[0mdual\u001b[0m\u001b[0;34m,\u001b[0m \u001b[0mself\u001b[0m\u001b[0;34m.\u001b[0m\u001b[0mverbose\u001b[0m\u001b[0;34m,\u001b[0m\u001b[0;34m\u001b[0m\u001b[0m\n\u001b[1;32m    234\u001b[0m             \u001b[0mself\u001b[0m\u001b[0;34m.\u001b[0m\u001b[0mmax_iter\u001b[0m\u001b[0;34m,\u001b[0m \u001b[0mself\u001b[0m\u001b[0;34m.\u001b[0m\u001b[0mtol\u001b[0m\u001b[0;34m,\u001b[0m \u001b[0mself\u001b[0m\u001b[0;34m.\u001b[0m\u001b[0mrandom_state\u001b[0m\u001b[0;34m,\u001b[0m \u001b[0mself\u001b[0m\u001b[0;34m.\u001b[0m\u001b[0mmulti_class\u001b[0m\u001b[0;34m,\u001b[0m\u001b[0;34m\u001b[0m\u001b[0m\n\u001b[0;32m--> 235\u001b[0;31m             self.loss, sample_weight=sample_weight)\n\u001b[0m\u001b[1;32m    236\u001b[0m \u001b[0;34m\u001b[0m\u001b[0m\n\u001b[1;32m    237\u001b[0m         \u001b[0;32mif\u001b[0m \u001b[0mself\u001b[0m\u001b[0;34m.\u001b[0m\u001b[0mmulti_class\u001b[0m \u001b[0;34m==\u001b[0m \u001b[0;34m\"crammer_singer\"\u001b[0m \u001b[0;32mand\u001b[0m \u001b[0mlen\u001b[0m\u001b[0;34m(\u001b[0m\u001b[0mself\u001b[0m\u001b[0;34m.\u001b[0m\u001b[0mclasses_\u001b[0m\u001b[0;34m)\u001b[0m \u001b[0;34m==\u001b[0m \u001b[0;36m2\u001b[0m\u001b[0;34m:\u001b[0m\u001b[0;34m\u001b[0m\u001b[0m\n",
      "\u001b[0;32m~/anaconda3/lib/python3.5/site-packages/sklearn/svm/base.py\u001b[0m in \u001b[0;36m_fit_liblinear\u001b[0;34m(X, y, C, fit_intercept, intercept_scaling, class_weight, penalty, dual, verbose, max_iter, tol, random_state, multi_class, loss, epsilon, sample_weight)\u001b[0m\n\u001b[1;32m    888\u001b[0m         \u001b[0mX\u001b[0m\u001b[0;34m,\u001b[0m \u001b[0my_ind\u001b[0m\u001b[0;34m,\u001b[0m \u001b[0msp\u001b[0m\u001b[0;34m.\u001b[0m\u001b[0misspmatrix\u001b[0m\u001b[0;34m(\u001b[0m\u001b[0mX\u001b[0m\u001b[0;34m)\u001b[0m\u001b[0;34m,\u001b[0m \u001b[0msolver_type\u001b[0m\u001b[0;34m,\u001b[0m \u001b[0mtol\u001b[0m\u001b[0;34m,\u001b[0m \u001b[0mbias\u001b[0m\u001b[0;34m,\u001b[0m \u001b[0mC\u001b[0m\u001b[0;34m,\u001b[0m\u001b[0;34m\u001b[0m\u001b[0m\n\u001b[1;32m    889\u001b[0m         \u001b[0mclass_weight_\u001b[0m\u001b[0;34m,\u001b[0m \u001b[0mmax_iter\u001b[0m\u001b[0;34m,\u001b[0m \u001b[0mrnd\u001b[0m\u001b[0;34m.\u001b[0m\u001b[0mrandint\u001b[0m\u001b[0;34m(\u001b[0m\u001b[0mnp\u001b[0m\u001b[0;34m.\u001b[0m\u001b[0miinfo\u001b[0m\u001b[0;34m(\u001b[0m\u001b[0;34m'i'\u001b[0m\u001b[0;34m)\u001b[0m\u001b[0;34m.\u001b[0m\u001b[0mmax\u001b[0m\u001b[0;34m)\u001b[0m\u001b[0;34m,\u001b[0m\u001b[0;34m\u001b[0m\u001b[0m\n\u001b[0;32m--> 890\u001b[0;31m         epsilon, sample_weight)\n\u001b[0m\u001b[1;32m    891\u001b[0m     \u001b[0;31m# Regarding rnd.randint(..) in the above signature:\u001b[0m\u001b[0;34m\u001b[0m\u001b[0;34m\u001b[0m\u001b[0m\n\u001b[1;32m    892\u001b[0m     \u001b[0;31m# seed for srand in range [0..INT_MAX); due to limitations in Numpy\u001b[0m\u001b[0;34m\u001b[0m\u001b[0;34m\u001b[0m\u001b[0m\n",
      "\u001b[0;31mKeyboardInterrupt\u001b[0m: "
     ]
    }
   ],
   "source": [
    "X_train, X_test, y_train, y_test = train_test_split(descriptors, train_labels[0:184773], test_size=0.15, random_state=42)\n",
    "param_C = 5\n",
    "param_gamma = 0.05\n",
    "start_time = dt.datetime.now()\n",
    "print('Start learning at {}'.format(str(start_time)))\n",
    "classifier = svm.LinearSVC()\n",
    "#classifier = svm.SVC(C=param_C,gamma=param_gamma, decision_function_shape='ovo')\n",
    "\n",
    "classifier.fit(descriptors, train_labels[0:184773])\n",
    "end_time = dt.datetime.now() \n",
    "print('Stop learning {}'.format(str(end_time)))\n",
    "elapsed_time= end_time - start_time\n",
    "print('Elapsed learning {}'.format(str(elapsed_time)))"
   ]
  },
  {
   "cell_type": "code",
   "execution_count": 196,
   "metadata": {},
   "outputs": [
    {
     "name": "stdout",
     "output_type": "stream",
     "text": [
      "48899\n",
      "193536\n",
      "184773\n"
     ]
    }
   ],
   "source": [
    "descriptors_test = extract_descriptors(des_test)\n",
    "test_labels = []\n",
    "i = 0\n",
    "c = 0\n",
    "for d in des_test:\n",
    "    #print(\"shape is \", np.shape(d[0]))\n",
    "    num_keypts = np.shape(d[0])[0]\n",
    "    #print(\"i is \", i)\n",
    "    #print(\"num_keypts is \", num_keypts)\n",
    "    #print(\"label is \", d[1])\n",
    "    for j in range(num_keypts):\n",
    "        #print(d[1])\n",
    "        test_labels.append(d[1])\n",
    "    \n",
    "    i = i+num_keypts\n"
   ]
  },
  {
   "cell_type": "code",
   "execution_count": 198,
   "metadata": {},
   "outputs": [
    {
     "name": "stdout",
     "output_type": "stream",
     "text": [
      "48899\n",
      "48899\n",
      "47883\n",
      "7172\n"
     ]
    }
   ],
   "source": [
    "print(i)\n",
    "print(len(test_labels))\n",
    "print(len(descriptors_test))\n",
    "print(len(data.test_y))"
   ]
  },
  {
   "cell_type": "code",
   "execution_count": 199,
   "metadata": {},
   "outputs": [],
   "source": [
    "expected = test_labels\n",
    "predicted = classifier.predict(descriptors_test)"
   ]
  },
  {
   "cell_type": "code",
   "execution_count": 200,
   "metadata": {},
   "outputs": [
    {
     "name": "stdout",
     "output_type": "stream",
     "text": [
      "Accuracy=3.867761000772717%\n"
     ]
    }
   ],
   "source": [
    "print(\"Accuracy={}\".format(metrics.accuracy_score(expected[0:47883], predicted) * 100) + \"%\")"
   ]
  },
  {
   "cell_type": "code",
   "execution_count": 202,
   "metadata": {},
   "outputs": [],
   "source": [
    "# sklearn skimage\n",
    "from skimage import feature\n",
    "\n",
    "# Histogram of Oriented Gradients\n",
    "class HOG:\n",
    "\tdef __init__(self, orientations = 9, pixelsPerCell = (9, 9),\n",
    "\t\tcellsPerBlock = (3, 3), block_norm = 'L2-Hys'):  \n",
    "\t\tself.orientations = orientations\n",
    "\t\tself.pixelsPerCell = pixelsPerCell\n",
    "\t\tself.cellsPerBlock = cellsPerBlock\n",
    "\t\tself.block_norm = block_norm    # changing from default to L2-Hys, improved a lot\n",
    "\n",
    "\tdef describe(self, image):\n",
    "\t\t# compute HOG for the image\n",
    "\t\thist = feature.hog(image, orientations = self.orientations,\n",
    "\t\t\tpixels_per_cell = self.pixelsPerCell,\n",
    "\t\t\tcells_per_block = self.cellsPerBlock,\n",
    "\t\t\tblock_norm = self.block_norm) \n",
    "\n",
    "\t\t# return the HOG features\n",
    "\t\treturn hist"
   ]
  },
  {
   "cell_type": "code",
   "execution_count": 203,
   "metadata": {},
   "outputs": [],
   "source": [
    "import numpy as np # linear algebra\n",
    "import cv2\n",
    "import os\n",
    "from matplotlib import pyplot as plt\n",
    "from skimage import color\n",
    "from skimage.feature import hog\n",
    "from sklearn import svm\n",
    "from sklearn.metrics import classification_report,accuracy_score\n",
    "\n",
    "\n",
    "ppc = 16\n",
    "hog_images = []\n",
    "hog_features = []\n",
    "i = 0\n",
    "hog = HOG(orientations = 3, pixelsPerCell = (2, 2),cellsPerBlock = (4, 4), block_norm = 'L2-Hys')\n",
    "hist_data = []  \n",
    "for x,y in zip(data.train_x, data.train_y):\n",
    "    if (y in [0,1,2,5,7,11,14,15,19,21]):\n",
    "        fname = \"img{}\".format(i)+\".jpg\"\n",
    "        cv2.imwrite(fname, x.reshape(28,28))\n",
    "        img = cv2.imread(fname)\n",
    "        os.remove(fname)\n",
    "        gray= cv2.cvtColor(img, cv2.COLOR_BGR2GRAY)\n",
    "        #fd,hog_image = hog(gray, orientations=8, pixels_per_cell=(ppc,ppc),cells_per_block=(4, 4),block_norm= 'L2')\n",
    "        hist = hog.describe(gray)\n",
    "        hist_data.append(hist)"
   ]
  },
  {
   "cell_type": "code",
   "execution_count": 222,
   "metadata": {},
   "outputs": [
    {
     "name": "stdout",
     "output_type": "stream",
     "text": [
      "(11290, 5808)\n",
      "11290\n"
     ]
    }
   ],
   "source": [
    "print(np.shape(hist_data))\n",
    "print(len(hist_data))"
   ]
  },
  {
   "cell_type": "code",
   "execution_count": 205,
   "metadata": {},
   "outputs": [],
   "source": [
    "hist_data_test = []  \n",
    "for x,y in zip(data.test_x, data.test_y):\n",
    "    if (y in [0,1,2,5,7,11,14,15,19,21]):\n",
    "        fname = \"img{}\".format(i)+\".jpg\"\n",
    "        cv2.imwrite(fname, x.reshape(28,28))\n",
    "        img = cv2.imread(fname)\n",
    "        os.remove(fname)\n",
    "        gray= cv2.cvtColor(img, cv2.COLOR_BGR2GRAY)\n",
    "        #fd,hog_image = hog(gray, orientations=8, pixels_per_cell=(ppc,ppc),cells_per_block=(4, 4),block_norm= 'L2')\n",
    "        hist = hog.describe(gray)\n",
    "        hist_data_test.append(hist)"
   ]
  },
  {
   "cell_type": "code",
   "execution_count": 223,
   "metadata": {},
   "outputs": [],
   "source": [
    "true_few = []\n",
    "for y in data.train_y:\n",
    "    if (y in [0,1,2,5,7,11,14,15,19,21]):\n",
    "        true_few.append(y)\n",
    "expected = []\n",
    "for y in data.test_y:\n",
    "    if (y in [0,1,2,5,7,11,14,15,19,21]):\n",
    "        expected.append(y)"
   ]
  },
  {
   "cell_type": "code",
   "execution_count": 207,
   "metadata": {},
   "outputs": [],
   "source": [
    "from sklearn.cluster import KMeans\n",
    "kmeans = KMeans(n_clusters=10).fit(hist_data)\n"
   ]
  },
  {
   "cell_type": "code",
   "execution_count": 208,
   "metadata": {},
   "outputs": [],
   "source": [
    "result = kmeans.predict(hist_data_test)"
   ]
  },
  {
   "cell_type": "code",
   "execution_count": 234,
   "metadata": {},
   "outputs": [
    {
     "name": "stdout",
     "output_type": "stream",
     "text": [
      "Total errors  2281\n",
      "Accuracy of Kmeans with HOG with 10 lables is  27.633248730964468 %\n"
     ]
    }
   ],
   "source": [
    "label_map = {}\n",
    "err = 0\n",
    "for true_label, pred_label in zip(expected, result):\n",
    "    if true_label not in label_map:\n",
    "        label_map[true_label] = pred_label\n",
    "    else:\n",
    "        if label_map[true_label] != pred_label and pred_label != -1:\n",
    "            err = err +1\n",
    "print(\"Total errors \", err)  \n",
    "print(\"Accuracy of Kmeans with HOG with 10 lables is \", 100- err*100/len(result), \"%\")"
   ]
  },
  {
   "cell_type": "code",
   "execution_count": 218,
   "metadata": {},
   "outputs": [],
   "source": [
    "few_train = []\n",
    "for x,y in zip(data.train_x, data.train_y):\n",
    "    if (y in [0,1,2,5,7,11,14,15,19,21]):\n",
    "        few_train.append(x)\n",
    "few_test = []\n",
    "for x,y in zip(data.test_x, data.test_y):\n",
    "    if (y in [0,1,2,5,7,11,14,15,19,21]):\n",
    "        few_test.append(x)\n"
   ]
  },
  {
   "cell_type": "code",
   "execution_count": 219,
   "metadata": {},
   "outputs": [],
   "source": [
    "from sklearn.cluster import KMeans\n",
    "kmeans = KMeans(n_clusters=10).fit(few_train)"
   ]
  },
  {
   "cell_type": "code",
   "execution_count": 233,
   "metadata": {},
   "outputs": [
    {
     "name": "stdout",
     "output_type": "stream",
     "text": [
      "Total errors  2281\n",
      "Accuracy of Kmeans without HOG with 10 lables is  27.633248730964468 %\n"
     ]
    }
   ],
   "source": [
    "result = kmeans.predict(few_test)\n",
    "label_map = {}\n",
    "err = 0\n",
    "for true_label, pred_label in zip(expected, result):\n",
    "    if true_label not in label_map:\n",
    "        label_map[true_label] = pred_label\n",
    "    else:\n",
    "        if label_map[true_label] != pred_label and pred_label != -1:\n",
    "            err = err +1\n",
    "print(\"Total errors \", err)  \n",
    "print(\"Accuracy of Kmeans without HOG with 10 lables is \", 100- err*100/len(result), \"%\")"
   ]
  },
  {
   "cell_type": "code",
   "execution_count": 224,
   "metadata": {},
   "outputs": [
    {
     "data": {
      "text/plain": [
       "LinearSVC(C=1.0, class_weight=None, dual=True, fit_intercept=True,\n",
       "     intercept_scaling=1, loss='squared_hinge', max_iter=1000,\n",
       "     multi_class='ovr', penalty='l2', random_state=None, tol=0.0001,\n",
       "     verbose=0)"
      ]
     },
     "execution_count": 224,
     "metadata": {},
     "output_type": "execute_result"
    }
   ],
   "source": [
    "classifier = svm.LinearSVC()\n",
    "classifier.fit(hist_data, true_few)"
   ]
  },
  {
   "cell_type": "code",
   "execution_count": 225,
   "metadata": {},
   "outputs": [],
   "source": [
    "predicted = classifier.predict(hist_data_test)"
   ]
  },
  {
   "cell_type": "code",
   "execution_count": 227,
   "metadata": {},
   "outputs": [
    {
     "name": "stdout",
     "output_type": "stream",
     "text": [
      "Accuracy of SVM with HOG 10 labels =96.06598984771574 %\n"
     ]
    }
   ],
   "source": [
    "print(\"Accuracy of SVM with HOG 10 labels ={}\".format(metrics.accuracy_score(expected, predicted) * 100) + \" %\")"
   ]
  },
  {
   "cell_type": "code",
   "execution_count": 236,
   "metadata": {},
   "outputs": [
    {
     "name": "stdout",
     "output_type": "stream",
     "text": [
      "Start learning at 2018-12-11 11:49:22.115200\n",
      "Stop learning 2018-12-11 11:51:18.464806\n",
      "Elapsed learning 0:01:56.349606\n"
     ]
    }
   ],
   "source": [
    "from sklearn.mixture import GaussianMixture\n",
    "start_time = dt.datetime.now()\n",
    "print('Start learning at {}'.format(str(start_time)))\n",
    "gmm = GaussianMixture(n_components=10).fit(few_train)\n",
    "end_time = dt.datetime.now() \n",
    "print('Stop learning {}'.format(str(end_time)))\n",
    "elapsed_time= end_time - start_time\n",
    "print('Elapsed learning {}'.format(str(elapsed_time)))\n",
    "#labels = gmm.predict(hist_data)"
   ]
  },
  {
   "cell_type": "code",
   "execution_count": 237,
   "metadata": {},
   "outputs": [
    {
     "name": "stdout",
     "output_type": "stream",
     "text": [
      "Total errors  1499\n",
      "Accuracy of GMM with 10 labels is  52.442893401015226 %\n"
     ]
    }
   ],
   "source": [
    "labels = gmm.predict(few_test)\n",
    "label_map = {}\n",
    "err = 0\n",
    "for true_label, pred_label in zip(expected, labels):\n",
    "    if true_label not in label_map:\n",
    "        label_map[true_label] = pred_label\n",
    "    else:\n",
    "        if label_map[true_label] != pred_label and pred_label != -1:\n",
    "            err = err +1\n",
    "print(\"Total errors \", err)  \n",
    "print(\"Accuracy of GMM with 10 labels is \", 100- err*100/len(result), \"%\")"
   ]
  },
  {
   "cell_type": "code",
   "execution_count": 238,
   "metadata": {},
   "outputs": [
    {
     "name": "stdout",
     "output_type": "stream",
     "text": [
      "Start learning at 2018-12-11 11:52:08.484395\n"
     ]
    },
    {
     "ename": "KeyboardInterrupt",
     "evalue": "",
     "output_type": "error",
     "traceback": [
      "\u001b[0;31m---------------------------------------------------------------------------\u001b[0m",
      "\u001b[0;31mKeyboardInterrupt\u001b[0m                         Traceback (most recent call last)",
      "\u001b[0;32m<ipython-input-238-c81c389f67b3>\u001b[0m in \u001b[0;36m<module>\u001b[0;34m()\u001b[0m\n\u001b[1;32m      2\u001b[0m \u001b[0mstart_time\u001b[0m \u001b[0;34m=\u001b[0m \u001b[0mdt\u001b[0m\u001b[0;34m.\u001b[0m\u001b[0mdatetime\u001b[0m\u001b[0;34m.\u001b[0m\u001b[0mnow\u001b[0m\u001b[0;34m(\u001b[0m\u001b[0;34m)\u001b[0m\u001b[0;34m\u001b[0m\u001b[0m\n\u001b[1;32m      3\u001b[0m \u001b[0mprint\u001b[0m\u001b[0;34m(\u001b[0m\u001b[0;34m'Start learning at {}'\u001b[0m\u001b[0;34m.\u001b[0m\u001b[0mformat\u001b[0m\u001b[0;34m(\u001b[0m\u001b[0mstr\u001b[0m\u001b[0;34m(\u001b[0m\u001b[0mstart_time\u001b[0m\u001b[0;34m)\u001b[0m\u001b[0;34m)\u001b[0m\u001b[0;34m)\u001b[0m\u001b[0;34m\u001b[0m\u001b[0m\n\u001b[0;32m----> 4\u001b[0;31m \u001b[0mgmm\u001b[0m \u001b[0;34m=\u001b[0m \u001b[0mGaussianMixture\u001b[0m\u001b[0;34m(\u001b[0m\u001b[0mn_components\u001b[0m\u001b[0;34m=\u001b[0m\u001b[0;36m10\u001b[0m\u001b[0;34m)\u001b[0m\u001b[0;34m.\u001b[0m\u001b[0mfit\u001b[0m\u001b[0;34m(\u001b[0m\u001b[0mhist_data\u001b[0m\u001b[0;34m)\u001b[0m\u001b[0;34m\u001b[0m\u001b[0m\n\u001b[0m\u001b[1;32m      5\u001b[0m \u001b[0mend_time\u001b[0m \u001b[0;34m=\u001b[0m \u001b[0mdt\u001b[0m\u001b[0;34m.\u001b[0m\u001b[0mdatetime\u001b[0m\u001b[0;34m.\u001b[0m\u001b[0mnow\u001b[0m\u001b[0;34m(\u001b[0m\u001b[0;34m)\u001b[0m\u001b[0;34m\u001b[0m\u001b[0m\n\u001b[1;32m      6\u001b[0m \u001b[0mprint\u001b[0m\u001b[0;34m(\u001b[0m\u001b[0;34m'Stop learning {}'\u001b[0m\u001b[0;34m.\u001b[0m\u001b[0mformat\u001b[0m\u001b[0;34m(\u001b[0m\u001b[0mstr\u001b[0m\u001b[0;34m(\u001b[0m\u001b[0mend_time\u001b[0m\u001b[0;34m)\u001b[0m\u001b[0;34m)\u001b[0m\u001b[0;34m)\u001b[0m\u001b[0;34m\u001b[0m\u001b[0m\n",
      "\u001b[0;32m~/anaconda3/lib/python3.5/site-packages/sklearn/mixture/base.py\u001b[0m in \u001b[0;36mfit\u001b[0;34m(self, X, y)\u001b[0m\n\u001b[1;32m    212\u001b[0m \u001b[0;34m\u001b[0m\u001b[0m\n\u001b[1;32m    213\u001b[0m                 \u001b[0mlog_prob_norm\u001b[0m\u001b[0;34m,\u001b[0m \u001b[0mlog_resp\u001b[0m \u001b[0;34m=\u001b[0m \u001b[0mself\u001b[0m\u001b[0;34m.\u001b[0m\u001b[0m_e_step\u001b[0m\u001b[0;34m(\u001b[0m\u001b[0mX\u001b[0m\u001b[0;34m)\u001b[0m\u001b[0;34m\u001b[0m\u001b[0m\n\u001b[0;32m--> 214\u001b[0;31m                 \u001b[0mself\u001b[0m\u001b[0;34m.\u001b[0m\u001b[0m_m_step\u001b[0m\u001b[0;34m(\u001b[0m\u001b[0mX\u001b[0m\u001b[0;34m,\u001b[0m \u001b[0mlog_resp\u001b[0m\u001b[0;34m)\u001b[0m\u001b[0;34m\u001b[0m\u001b[0m\n\u001b[0m\u001b[1;32m    215\u001b[0m                 self.lower_bound_ = self._compute_lower_bound(\n\u001b[1;32m    216\u001b[0m                     log_resp, log_prob_norm)\n",
      "\u001b[0;32m~/anaconda3/lib/python3.5/site-packages/sklearn/mixture/gaussian_mixture.py\u001b[0m in \u001b[0;36m_m_step\u001b[0;34m(self, X, log_resp)\u001b[0m\n\u001b[1;32m    669\u001b[0m         \u001b[0mself\u001b[0m\u001b[0;34m.\u001b[0m\u001b[0mweights_\u001b[0m \u001b[0;34m/=\u001b[0m \u001b[0mn_samples\u001b[0m\u001b[0;34m\u001b[0m\u001b[0m\n\u001b[1;32m    670\u001b[0m         self.precisions_cholesky_ = _compute_precision_cholesky(\n\u001b[0;32m--> 671\u001b[0;31m             self.covariances_, self.covariance_type)\n\u001b[0m\u001b[1;32m    672\u001b[0m \u001b[0;34m\u001b[0m\u001b[0m\n\u001b[1;32m    673\u001b[0m     \u001b[0;32mdef\u001b[0m \u001b[0m_estimate_log_prob\u001b[0m\u001b[0;34m(\u001b[0m\u001b[0mself\u001b[0m\u001b[0;34m,\u001b[0m \u001b[0mX\u001b[0m\u001b[0;34m)\u001b[0m\u001b[0;34m:\u001b[0m\u001b[0;34m\u001b[0m\u001b[0m\n",
      "\u001b[0;32m~/anaconda3/lib/python3.5/site-packages/sklearn/mixture/gaussian_mixture.py\u001b[0m in \u001b[0;36m_compute_precision_cholesky\u001b[0;34m(covariances, covariance_type)\u001b[0m\n\u001b[1;32m    316\u001b[0m         \u001b[0;32mfor\u001b[0m \u001b[0mk\u001b[0m\u001b[0;34m,\u001b[0m \u001b[0mcovariance\u001b[0m \u001b[0;32min\u001b[0m \u001b[0menumerate\u001b[0m\u001b[0;34m(\u001b[0m\u001b[0mcovariances\u001b[0m\u001b[0;34m)\u001b[0m\u001b[0;34m:\u001b[0m\u001b[0;34m\u001b[0m\u001b[0m\n\u001b[1;32m    317\u001b[0m             \u001b[0;32mtry\u001b[0m\u001b[0;34m:\u001b[0m\u001b[0;34m\u001b[0m\u001b[0m\n\u001b[0;32m--> 318\u001b[0;31m                 \u001b[0mcov_chol\u001b[0m \u001b[0;34m=\u001b[0m \u001b[0mlinalg\u001b[0m\u001b[0;34m.\u001b[0m\u001b[0mcholesky\u001b[0m\u001b[0;34m(\u001b[0m\u001b[0mcovariance\u001b[0m\u001b[0;34m,\u001b[0m \u001b[0mlower\u001b[0m\u001b[0;34m=\u001b[0m\u001b[0;32mTrue\u001b[0m\u001b[0;34m)\u001b[0m\u001b[0;34m\u001b[0m\u001b[0m\n\u001b[0m\u001b[1;32m    319\u001b[0m             \u001b[0;32mexcept\u001b[0m \u001b[0mlinalg\u001b[0m\u001b[0;34m.\u001b[0m\u001b[0mLinAlgError\u001b[0m\u001b[0;34m:\u001b[0m\u001b[0;34m\u001b[0m\u001b[0m\n\u001b[1;32m    320\u001b[0m                 \u001b[0;32mraise\u001b[0m \u001b[0mValueError\u001b[0m\u001b[0;34m(\u001b[0m\u001b[0mestimate_precision_error_message\u001b[0m\u001b[0;34m)\u001b[0m\u001b[0;34m\u001b[0m\u001b[0m\n",
      "\u001b[0;32m~/anaconda3/lib/python3.5/site-packages/scipy/linalg/decomp_cholesky.py\u001b[0m in \u001b[0;36mcholesky\u001b[0;34m(a, lower, overwrite_a, check_finite)\u001b[0m\n\u001b[1;32m     89\u001b[0m     \"\"\"\n\u001b[1;32m     90\u001b[0m     c, lower = _cholesky(a, lower=lower, overwrite_a=overwrite_a, clean=True,\n\u001b[0;32m---> 91\u001b[0;31m                          check_finite=check_finite)\n\u001b[0m\u001b[1;32m     92\u001b[0m     \u001b[0;32mreturn\u001b[0m \u001b[0mc\u001b[0m\u001b[0;34m\u001b[0m\u001b[0m\n\u001b[1;32m     93\u001b[0m \u001b[0;34m\u001b[0m\u001b[0m\n",
      "\u001b[0;32m~/anaconda3/lib/python3.5/site-packages/scipy/linalg/decomp_cholesky.py\u001b[0m in \u001b[0;36m_cholesky\u001b[0;34m(a, lower, overwrite_a, clean, check_finite)\u001b[0m\n\u001b[1;32m     17\u001b[0m     \u001b[0;34m\"\"\"Common code for cholesky() and cho_factor().\"\"\"\u001b[0m\u001b[0;34m\u001b[0m\u001b[0m\n\u001b[1;32m     18\u001b[0m \u001b[0;34m\u001b[0m\u001b[0m\n\u001b[0;32m---> 19\u001b[0;31m     \u001b[0ma1\u001b[0m \u001b[0;34m=\u001b[0m \u001b[0masarray_chkfinite\u001b[0m\u001b[0;34m(\u001b[0m\u001b[0ma\u001b[0m\u001b[0;34m)\u001b[0m \u001b[0;32mif\u001b[0m \u001b[0mcheck_finite\u001b[0m \u001b[0;32melse\u001b[0m \u001b[0masarray\u001b[0m\u001b[0;34m(\u001b[0m\u001b[0ma\u001b[0m\u001b[0;34m)\u001b[0m\u001b[0;34m\u001b[0m\u001b[0m\n\u001b[0m\u001b[1;32m     20\u001b[0m     \u001b[0ma1\u001b[0m \u001b[0;34m=\u001b[0m \u001b[0matleast_2d\u001b[0m\u001b[0;34m(\u001b[0m\u001b[0ma1\u001b[0m\u001b[0;34m)\u001b[0m\u001b[0;34m\u001b[0m\u001b[0m\n\u001b[1;32m     21\u001b[0m \u001b[0;34m\u001b[0m\u001b[0m\n",
      "\u001b[0;32m~/anaconda3/lib/python3.5/site-packages/numpy/lib/function_base.py\u001b[0m in \u001b[0;36masarray_chkfinite\u001b[0;34m(a, dtype, order)\u001b[0m\n\u001b[1;32m   1229\u001b[0m     \"\"\"\n\u001b[1;32m   1230\u001b[0m     \u001b[0ma\u001b[0m \u001b[0;34m=\u001b[0m \u001b[0masarray\u001b[0m\u001b[0;34m(\u001b[0m\u001b[0ma\u001b[0m\u001b[0;34m,\u001b[0m \u001b[0mdtype\u001b[0m\u001b[0;34m=\u001b[0m\u001b[0mdtype\u001b[0m\u001b[0;34m,\u001b[0m \u001b[0morder\u001b[0m\u001b[0;34m=\u001b[0m\u001b[0morder\u001b[0m\u001b[0;34m)\u001b[0m\u001b[0;34m\u001b[0m\u001b[0m\n\u001b[0;32m-> 1231\u001b[0;31m     \u001b[0;32mif\u001b[0m \u001b[0ma\u001b[0m\u001b[0;34m.\u001b[0m\u001b[0mdtype\u001b[0m\u001b[0;34m.\u001b[0m\u001b[0mchar\u001b[0m \u001b[0;32min\u001b[0m \u001b[0mtypecodes\u001b[0m\u001b[0;34m[\u001b[0m\u001b[0;34m'AllFloat'\u001b[0m\u001b[0;34m]\u001b[0m \u001b[0;32mand\u001b[0m \u001b[0;32mnot\u001b[0m \u001b[0mnp\u001b[0m\u001b[0;34m.\u001b[0m\u001b[0misfinite\u001b[0m\u001b[0;34m(\u001b[0m\u001b[0ma\u001b[0m\u001b[0;34m)\u001b[0m\u001b[0;34m.\u001b[0m\u001b[0mall\u001b[0m\u001b[0;34m(\u001b[0m\u001b[0;34m)\u001b[0m\u001b[0;34m:\u001b[0m\u001b[0;34m\u001b[0m\u001b[0m\n\u001b[0m\u001b[1;32m   1232\u001b[0m         raise ValueError(\n\u001b[1;32m   1233\u001b[0m             \"array must not contain infs or NaNs\")\n",
      "\u001b[0;31mKeyboardInterrupt\u001b[0m: "
     ]
    }
   ],
   "source": [
    "from sklearn.mixture import GaussianMixture\n",
    "start_time = dt.datetime.now()\n",
    "print('Start learning at {}'.format(str(start_time)))\n",
    "gmm = GaussianMixture(n_components=10).fit(hist_data)\n",
    "end_time = dt.datetime.now() \n",
    "print('Stop learning {}'.format(str(end_time)))\n",
    "elapsed_time= end_time - start_time\n",
    "print('Elapsed learning {}'.format(str(elapsed_time)))\n",
    "#labels = gmm.predict(hist_data)"
   ]
  },
  {
   "cell_type": "code",
   "execution_count": null,
   "metadata": {},
   "outputs": [],
   "source": []
  }
 ],
 "metadata": {
  "kernelspec": {
   "display_name": "Python 3",
   "language": "python",
   "name": "python3"
  },
  "language_info": {
   "codemirror_mode": {
    "name": "ipython",
    "version": 3
   },
   "file_extension": ".py",
   "mimetype": "text/x-python",
   "name": "python",
   "nbconvert_exporter": "python",
   "pygments_lexer": "ipython3",
   "version": "3.5.5"
  }
 },
 "nbformat": 4,
 "nbformat_minor": 2
}
